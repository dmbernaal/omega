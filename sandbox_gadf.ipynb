{
 "cells": [
  {
   "cell_type": "code",
   "execution_count": 1,
   "metadata": {
    "execution": {
     "iopub.execute_input": "2020-09-17T02:16:36.400989Z",
     "iopub.status.busy": "2020-09-17T02:16:36.399991Z",
     "iopub.status.idle": "2020-09-17T02:16:37.115029Z",
     "shell.execute_reply": "2020-09-17T02:16:37.115029Z",
     "shell.execute_reply.started": "2020-09-17T02:16:36.399991Z"
    }
   },
   "outputs": [],
   "source": [
    "import pandas as pd\n",
    "import numpy as np\n",
    "from pathlib import Path\n",
    "import os\n",
    "import matplotlib.pyplot as plt\n",
    "import matplotlib as mpl\n",
    "mpl.style.use('seaborn')"
   ]
  },
  {
   "cell_type": "code",
   "execution_count": 2,
   "metadata": {
    "execution": {
     "iopub.execute_input": "2020-09-17T02:16:37.662240Z",
     "iopub.status.busy": "2020-09-17T02:16:37.662240Z",
     "iopub.status.idle": "2020-09-17T02:16:38.935988Z",
     "shell.execute_reply": "2020-09-17T02:16:38.935988Z",
     "shell.execute_reply.started": "2020-09-17T02:16:37.662240Z"
    }
   },
   "outputs": [],
   "source": [
    "from pyts.datasets import load_gunpoint\n",
    "from pyts.image import RecurrencePlot, GramianAngularField, MarkovTransitionField"
   ]
  },
  {
   "cell_type": "code",
   "execution_count": 3,
   "metadata": {
    "execution": {
     "iopub.execute_input": "2020-09-17T02:16:38.936948Z",
     "iopub.status.busy": "2020-09-17T02:16:38.936948Z",
     "iopub.status.idle": "2020-09-17T02:16:38.974431Z",
     "shell.execute_reply": "2020-09-17T02:16:38.974431Z",
     "shell.execute_reply.started": "2020-09-17T02:16:38.936948Z"
    }
   },
   "outputs": [],
   "source": [
    "\"\"\"\n",
    "NOTE: the dataset should be scalled in some fashion. In the case of financial data, we should use a minmax scalar, or some non-stationary normalization technique.\n",
    "\"\"\"\n",
    "x_train, x_test, y_train, y_test = load_gunpoint(return_X_y=True)"
   ]
  },
  {
   "cell_type": "code",
   "execution_count": 4,
   "metadata": {
    "execution": {
     "iopub.execute_input": "2020-09-17T02:16:39.611671Z",
     "iopub.status.busy": "2020-09-17T02:16:39.611671Z",
     "iopub.status.idle": "2020-09-17T02:16:39.616688Z",
     "shell.execute_reply": "2020-09-17T02:16:39.616688Z",
     "shell.execute_reply.started": "2020-09-17T02:16:39.611671Z"
    }
   },
   "outputs": [
    {
     "data": {
      "text/plain": [
       "(50, 150)"
      ]
     },
     "execution_count": 4,
     "metadata": {},
     "output_type": "execute_result"
    }
   ],
   "source": [
    "\"\"\"\n",
    "shape = (n_samples, n_features), where n_features in univariate\n",
    "\"\"\"\n",
    "x_train.shape"
   ]
  },
  {
   "cell_type": "code",
   "execution_count": 6,
   "metadata": {
    "execution": {
     "iopub.execute_input": "2020-09-17T02:16:44.082388Z",
     "iopub.status.busy": "2020-09-17T02:16:44.082388Z",
     "iopub.status.idle": "2020-09-17T02:16:44.086357Z",
     "shell.execute_reply": "2020-09-17T02:16:44.086357Z",
     "shell.execute_reply.started": "2020-09-17T02:16:44.082388Z"
    }
   },
   "outputs": [],
   "source": [
    "\"\"\"\n",
    "instantiating our fields. Each will turn our arrays into images of 24,24 in this case\n",
    "therefore image_size corresponds to the matrix size. If this is left blank, it will just create\n",
    "a matrix of feature size for h,w\n",
    "\"\"\"\n",
    "gaf = GramianAngularField(image_size=24)\n",
    "mtf = MarkovTransitionField(image_size=24)"
   ]
  },
  {
   "cell_type": "code",
   "execution_count": 7,
   "metadata": {
    "execution": {
     "iopub.execute_input": "2020-09-17T02:16:44.528692Z",
     "iopub.status.busy": "2020-09-17T02:16:44.528692Z",
     "iopub.status.idle": "2020-09-17T02:16:46.210741Z",
     "shell.execute_reply": "2020-09-17T02:16:46.210741Z",
     "shell.execute_reply.started": "2020-09-17T02:16:44.528692Z"
    }
   },
   "outputs": [],
   "source": [
    "# mtf transformation\n",
    "x_mtf = mtf.fit_transform(x_train)"
   ]
  },
  {
   "cell_type": "code",
   "execution_count": 9,
   "metadata": {
    "execution": {
     "iopub.execute_input": "2020-09-17T02:16:51.496408Z",
     "iopub.status.busy": "2020-09-17T02:16:51.496408Z",
     "iopub.status.idle": "2020-09-17T02:16:51.500919Z",
     "shell.execute_reply": "2020-09-17T02:16:51.500398Z",
     "shell.execute_reply.started": "2020-09-17T02:16:51.496408Z"
    }
   },
   "outputs": [
    {
     "data": {
      "text/plain": [
       "(50, 24, 24)"
      ]
     },
     "execution_count": 9,
     "metadata": {},
     "output_type": "execute_result"
    }
   ],
   "source": [
    "\"\"\"\n",
    "shape = (n_samples, h,w)\n",
    "essentially each n_features per sample has been turned into a matrix which is the MTF in this case\n",
    "\n",
    "In the case of a Conv2d -> each of these will be a single channel.\n",
    "\"\"\"\n",
    "x_mtf.shape"
   ]
  },
  {
   "cell_type": "code",
   "execution_count": 17,
   "metadata": {
    "execution": {
     "iopub.execute_input": "2020-09-17T02:31:10.192975Z",
     "iopub.status.busy": "2020-09-17T02:31:10.192975Z",
     "iopub.status.idle": "2020-09-17T02:31:10.355540Z",
     "shell.execute_reply": "2020-09-17T02:31:10.355540Z",
     "shell.execute_reply.started": "2020-09-17T02:31:10.192975Z"
    }
   },
   "outputs": [
    {
     "data": {
      "image/png": "[encoded data removed]",
      "text/plain": [
       "<Figure size 360x360 with 2 Axes>"
      ]
     },
     "metadata": {
      "needs_background": "light"
     },
     "output_type": "display_data"
    }
   ],
   "source": [
    "\"\"\"\n",
    "Plotting MTF\n",
    "\"\"\"\n",
    "plt.figure(figsize=(5,5))\n",
    "plt.imshow(x_mtf[0], cmap='rainbow', origin='lower')\n",
    "plt.title('MTF')\n",
    "plt.colorbar(fraction=0.0457, pad=0.04)\n",
    "plt.tight_layout()\n",
    "plt.show()"
   ]
  },
  {
   "cell_type": "code",
   "execution_count": 20,
   "metadata": {
    "execution": {
     "iopub.execute_input": "2020-09-17T02:33:32.641009Z",
     "iopub.status.busy": "2020-09-17T02:33:32.641009Z",
     "iopub.status.idle": "2020-09-17T02:33:32.644001Z",
     "shell.execute_reply": "2020-09-17T02:33:32.644001Z",
     "shell.execute_reply.started": "2020-09-17T02:33:32.641009Z"
    }
   },
   "outputs": [],
   "source": [
    "\"\"\"\n",
    "Instantiating both GASF and GADF, the difference here is the method = [summation, difference]\n",
    "\"\"\"\n",
    "gasf = GramianAngularField(image_size=24, method='summation')\n",
    "gadf = GramianAngularField(image_size=24, method='difference')"
   ]
  },
  {
   "cell_type": "code",
   "execution_count": 22,
   "metadata": {
    "execution": {
     "iopub.execute_input": "2020-09-17T02:34:12.096996Z",
     "iopub.status.busy": "2020-09-17T02:34:12.096996Z",
     "iopub.status.idle": "2020-09-17T02:34:12.102979Z",
     "shell.execute_reply": "2020-09-17T02:34:12.102979Z",
     "shell.execute_reply.started": "2020-09-17T02:34:12.096996Z"
    }
   },
   "outputs": [],
   "source": [
    "# fitting both to x_train\n",
    "x_gasf = gasf.fit_transform(x_train)\n",
    "x_gadf = gadf.fit_transform(x_train)"
   ]
  },
  {
   "cell_type": "code",
   "execution_count": 23,
   "metadata": {
    "execution": {
     "iopub.execute_input": "2020-09-17T02:34:23.984534Z",
     "iopub.status.busy": "2020-09-17T02:34:23.984534Z",
     "iopub.status.idle": "2020-09-17T02:34:23.990073Z",
     "shell.execute_reply": "2020-09-17T02:34:23.989520Z",
     "shell.execute_reply.started": "2020-09-17T02:34:23.984534Z"
    }
   },
   "outputs": [
    {
     "data": {
      "text/plain": [
       "((50, 24, 24), (50, 24, 24))"
      ]
     },
     "execution_count": 23,
     "metadata": {},
     "output_type": "execute_result"
    }
   ],
   "source": [
    "x_gasf.shape, x_gadf.shape"
   ]
  },
  {
   "cell_type": "code",
   "execution_count": 24,
   "metadata": {
    "execution": {
     "iopub.execute_input": "2020-09-17T02:37:55.791014Z",
     "iopub.status.busy": "2020-09-17T02:37:55.791014Z",
     "iopub.status.idle": "2020-09-17T02:37:55.971162Z",
     "shell.execute_reply": "2020-09-17T02:37:55.971162Z",
     "shell.execute_reply.started": "2020-09-17T02:37:55.791014Z"
    }
   },
   "outputs": [
    {
     "data": {
      "image/png": "[encoded data removed]",
      "text/plain": [
       "<Figure size 360x360 with 2 Axes>"
      ]
     },
     "metadata": {
      "needs_background": "light"
     },
     "output_type": "display_data"
    }
   ],
   "source": [
    "\"\"\"\n",
    "Plotting gasf\n",
    "\"\"\"\n",
    "plt.figure(figsize=(5,5))\n",
    "plt.imshow(x_gasf[0], cmap='rainbow', origin='lower')\n",
    "plt.title('gasf')\n",
    "plt.colorbar(fraction=0.0457, pad=0.04)\n",
    "plt.tight_layout()\n",
    "plt.show()"
   ]
  },
  {
   "cell_type": "code",
   "execution_count": 25,
   "metadata": {
    "execution": {
     "iopub.execute_input": "2020-09-17T02:38:26.185289Z",
     "iopub.status.busy": "2020-09-17T02:38:26.184295Z",
     "iopub.status.idle": "2020-09-17T02:38:26.358441Z",
     "shell.execute_reply": "2020-09-17T02:38:26.358441Z",
     "shell.execute_reply.started": "2020-09-17T02:38:26.185289Z"
    }
   },
   "outputs": [
    {
     "data": {
      "image/png": "[encoded data removed]",
      "text/plain": [
       "<Figure size 360x360 with 2 Axes>"
      ]
     },
     "metadata": {
      "needs_background": "light"
     },
     "output_type": "display_data"
    }
   ],
   "source": [
    "\"\"\"\n",
    "Plotting gadf\n",
    "\"\"\"\n",
    "plt.figure(figsize=(5,5))\n",
    "plt.imshow(x_gadf[0], cmap='rainbow', origin='lower')\n",
    "plt.title('gadf')\n",
    "plt.colorbar(fraction=0.0457, pad=0.04)\n",
    "plt.tight_layout()\n",
    "plt.show()"
   ]
  },
  {
   "cell_type": "code",
   "execution_count": null,
   "metadata": {},
   "outputs": [],
   "source": []
  },
  {
   "cell_type": "code",
   "execution_count": null,
   "metadata": {},
   "outputs": [],
   "source": []
  },
  {
   "cell_type": "code",
   "execution_count": null,
   "metadata": {},
   "outputs": [],
   "source": []
  },
  {
   "cell_type": "code",
   "execution_count": null,
   "metadata": {},
   "outputs": [],
   "source": []
  },
  {
   "cell_type": "code",
   "execution_count": null,
   "metadata": {},
   "outputs": [],
   "source": []
  },
  {
   "cell_type": "code",
   "execution_count": null,
   "metadata": {},
   "outputs": [],
   "source": []
  },
  {
   "cell_type": "code",
   "execution_count": null,
   "metadata": {},
   "outputs": [],
   "source": []
  },
  {
   "cell_type": "code",
   "execution_count": null,
   "metadata": {},
   "outputs": [],
   "source": []
  },
  {
   "cell_type": "code",
   "execution_count": null,
   "metadata": {},
   "outputs": [],
   "source": []
  },
  {
   "cell_type": "code",
   "execution_count": null,
   "metadata": {},
   "outputs": [],
   "source": []
  },
  {
   "cell_type": "code",
   "execution_count": null,
   "metadata": {},
   "outputs": [],
   "source": []
  },
  {
   "cell_type": "code",
   "execution_count": null,
   "metadata": {},
   "outputs": [],
   "source": []
  },
  {
   "cell_type": "code",
   "execution_count": null,
   "metadata": {},
   "outputs": [],
   "source": []
  },
  {
   "cell_type": "code",
   "execution_count": null,
   "metadata": {},
   "outputs": [],
   "source": []
  },
  {
   "cell_type": "code",
   "execution_count": null,
   "metadata": {},
   "outputs": [],
   "source": []
  }
 ],
 "metadata": {
  "kernelspec": {
   "display_name": "Python 3",
   "language": "python",
   "name": "python3"
  },
  "language_info": {
   "codemirror_mode": {
    "name": "ipython",
    "version": 3
   },
   "file_extension": ".py",
   "mimetype": "text/x-python",
   "name": "python",
   "nbconvert_exporter": "python",
   "pygments_lexer": "ipython3",
   "version": "3.7.3"
  }
 },
 "nbformat": 4,
 "nbformat_minor": 4
}
