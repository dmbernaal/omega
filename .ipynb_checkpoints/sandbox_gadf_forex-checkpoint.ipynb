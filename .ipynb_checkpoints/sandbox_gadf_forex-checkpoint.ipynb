{
 "cells": [
  {
   "cell_type": "code",
   "execution_count": 2,
   "metadata": {
    "execution": {
     "iopub.execute_input": "2020-09-17T02:57:38.958635Z",
     "iopub.status.busy": "2020-09-17T02:57:38.958635Z",
     "iopub.status.idle": "2020-09-17T02:57:38.962655Z",
     "shell.execute_reply": "2020-09-17T02:57:38.962655Z",
     "shell.execute_reply.started": "2020-09-17T02:57:38.958635Z"
    }
   },
   "outputs": [],
   "source": [
    "import numpy as np\n",
    "import pandas as pd\n",
    "from ta import add_all_ta_features\n",
    "from ta.utils import dropna\n",
    "from pathlib import Path\n",
    "import os"
   ]
  },
  {
   "cell_type": "code",
   "execution_count": 69,
   "metadata": {
    "execution": {
     "iopub.execute_input": "2020-09-17T03:19:50.660266Z",
     "iopub.status.busy": "2020-09-17T03:19:50.660266Z",
     "iopub.status.idle": "2020-09-17T03:19:55.316719Z",
     "shell.execute_reply": "2020-09-17T03:19:55.316719Z",
     "shell.execute_reply.started": "2020-09-17T03:19:50.660266Z"
    }
   },
   "outputs": [
    {
     "name": "stderr",
     "output_type": "stream",
     "text": [
      "C:\\Users\\dmber\\Anaconda3\\lib\\site-packages\\ta\\trend.py:608: RuntimeWarning: invalid value encountered in double_scalars\n",
      "  dip[i] = 100 * (self._dip[i]/self._trs[i])\n",
      "C:\\Users\\dmber\\Anaconda3\\lib\\site-packages\\ta\\trend.py:612: RuntimeWarning: invalid value encountered in double_scalars\n",
      "  din[i] = 100 * (self._din[i]/self._trs[i])\n"
     ]
    }
   ],
   "source": [
    "data = Path('./OmegaDev/Model_Z/raw_data/GBP_USD_H1_2016-01-01_2018-01-01.csv')\n",
    "headers = ['date', 'complete', 'open', 'high', 'low', 'close', 'volume']\n",
    "df = pd.read_csv(data, header=None, names=headers)\n",
    "df = dropna(df)\n",
    "df = add_all_ta_features(df, 'open', 'high', 'low', 'close', 'volume')"
   ]
  },
  {
   "cell_type": "code",
   "execution_count": 70,
   "metadata": {
    "execution": {
     "iopub.execute_input": "2020-09-17T03:19:58.276999Z",
     "iopub.status.busy": "2020-09-17T03:19:58.276041Z",
     "iopub.status.idle": "2020-09-17T03:19:58.297009Z",
     "shell.execute_reply": "2020-09-17T03:19:58.297009Z",
     "shell.execute_reply.started": "2020-09-17T03:19:58.276999Z"
    }
   },
   "outputs": [],
   "source": [
    "remove = ['trend_psar_up', 'trend_psar_down']\n",
    "df.drop(columns=remove,axis=1,inplace=True)"
   ]
  },
  {
   "cell_type": "code",
   "execution_count": 71,
   "metadata": {
    "execution": {
     "iopub.execute_input": "2020-09-17T03:20:03.700817Z",
     "iopub.status.busy": "2020-09-17T03:20:03.699819Z",
     "iopub.status.idle": "2020-09-17T03:20:03.717894Z",
     "shell.execute_reply": "2020-09-17T03:20:03.717894Z",
     "shell.execute_reply.started": "2020-09-17T03:20:03.700817Z"
    }
   },
   "outputs": [],
   "source": [
    "df.dropna(inplace=True)"
   ]
  },
  {
   "cell_type": "code",
   "execution_count": 73,
   "metadata": {
    "execution": {
     "iopub.execute_input": "2020-09-17T03:20:13.942275Z",
     "iopub.status.busy": "2020-09-17T03:20:13.942275Z",
     "iopub.status.idle": "2020-09-17T03:20:13.954274Z",
     "shell.execute_reply": "2020-09-17T03:20:13.954274Z",
     "shell.execute_reply.started": "2020-09-17T03:20:13.942275Z"
    }
   },
   "outputs": [],
   "source": [
    "data = df.iloc[:,2:].copy()"
   ]
  },
  {
   "cell_type": "code",
   "execution_count": 79,
   "metadata": {
    "execution": {
     "iopub.execute_input": "2020-09-17T03:21:02.482404Z",
     "iopub.status.busy": "2020-09-17T03:21:02.482404Z",
     "iopub.status.idle": "2020-09-17T03:21:02.485396Z",
     "shell.execute_reply": "2020-09-17T03:21:02.485396Z",
     "shell.execute_reply.started": "2020-09-17T03:21:02.482404Z"
    }
   },
   "outputs": [],
   "source": [
    "from sklearn.preprocessing import RobustScaler, MinMaxScaler"
   ]
  },
  {
   "cell_type": "code",
   "execution_count": 80,
   "metadata": {
    "execution": {
     "iopub.execute_input": "2020-09-17T03:21:02.851185Z",
     "iopub.status.busy": "2020-09-17T03:21:02.850186Z",
     "iopub.status.idle": "2020-09-17T03:21:02.874166Z",
     "shell.execute_reply": "2020-09-17T03:21:02.874166Z",
     "shell.execute_reply.started": "2020-09-17T03:21:02.851185Z"
    }
   },
   "outputs": [],
   "source": [
    "scaler = MinMaxScaler(feature_range=(0,1))\n",
    "scaler = scaler.fit(data.values)\n",
    "data_normalized = scaler.transform(data.values)"
   ]
  },
  {
   "cell_type": "code",
   "execution_count": 161,
   "metadata": {
    "execution": {
     "iopub.execute_input": "2020-09-17T03:41:17.247463Z",
     "iopub.status.busy": "2020-09-17T03:41:17.246494Z",
     "iopub.status.idle": "2020-09-17T03:41:17.250457Z",
     "shell.execute_reply": "2020-09-17T03:41:17.250457Z",
     "shell.execute_reply.started": "2020-09-17T03:41:17.247463Z"
    }
   },
   "outputs": [],
   "source": [
    "dd_norm = pd.DataFrame(data_normalized)"
   ]
  },
  {
   "cell_type": "code",
   "execution_count": 162,
   "metadata": {
    "execution": {
     "iopub.execute_input": "2020-09-17T03:41:19.881751Z",
     "iopub.status.busy": "2020-09-17T03:41:19.881751Z",
     "iopub.status.idle": "2020-09-17T03:41:19.887736Z",
     "shell.execute_reply": "2020-09-17T03:41:19.887736Z",
     "shell.execute_reply.started": "2020-09-17T03:41:19.881751Z"
    }
   },
   "outputs": [],
   "source": [
    "def split_data(dd, size=50, n=5, col=0):\n",
    "    ddd = []\n",
    "    windows = np.arange(0,size*n,size)\n",
    "    wn = len(windows)\n",
    "    for i in range(wn-1):\n",
    "        start = windows[i]\n",
    "        end = windows[i+1]\n",
    "        bucket = np.arange(start, end)\n",
    "        ddd.append(dd.iloc[bucket,[col]].values)\n",
    "    return ddd"
   ]
  },
  {
   "cell_type": "code",
   "execution_count": 163,
   "metadata": {
    "execution": {
     "iopub.execute_input": "2020-09-17T03:41:25.485084Z",
     "iopub.status.busy": "2020-09-17T03:41:25.485084Z",
     "iopub.status.idle": "2020-09-17T03:41:25.492105Z",
     "shell.execute_reply": "2020-09-17T03:41:25.492105Z",
     "shell.execute_reply.started": "2020-09-17T03:41:25.485084Z"
    }
   },
   "outputs": [],
   "source": [
    "ddd = split_data(dd_norm)\n",
    "ddd = np.stack(ddd).squeeze(2)"
   ]
  },
  {
   "cell_type": "code",
   "execution_count": 167,
   "metadata": {
    "execution": {
     "iopub.execute_input": "2020-09-17T03:41:42.109839Z",
     "iopub.status.busy": "2020-09-17T03:41:42.109839Z",
     "iopub.status.idle": "2020-09-17T03:41:42.113830Z",
     "shell.execute_reply": "2020-09-17T03:41:42.113830Z",
     "shell.execute_reply.started": "2020-09-17T03:41:42.109839Z"
    }
   },
   "outputs": [],
   "source": [
    "import matplotlib.pyplot as plt\n",
    "import matplotlib as mpl\n",
    "mpl.style.use('seaborn')\n",
    "\n",
    "from pyts.image import GramianAngularField"
   ]
  },
  {
   "cell_type": "code",
   "execution_count": 168,
   "metadata": {
    "execution": {
     "iopub.execute_input": "2020-09-17T03:41:44.932391Z",
     "iopub.status.busy": "2020-09-17T03:41:44.932391Z",
     "iopub.status.idle": "2020-09-17T03:41:44.937364Z",
     "shell.execute_reply": "2020-09-17T03:41:44.936369Z",
     "shell.execute_reply.started": "2020-09-17T03:41:44.932391Z"
    }
   },
   "outputs": [],
   "source": [
    "gasf = GramianAngularField(image_size=24, method='summation')\n",
    "gadf = GramianAngularField(image_size=24, method='difference')"
   ]
  },
  {
   "cell_type": "code",
   "execution_count": 169,
   "metadata": {
    "execution": {
     "iopub.execute_input": "2020-09-17T03:41:53.075049Z",
     "iopub.status.busy": "2020-09-17T03:41:53.075049Z",
     "iopub.status.idle": "2020-09-17T03:41:53.845555Z",
     "shell.execute_reply": "2020-09-17T03:41:53.845555Z",
     "shell.execute_reply.started": "2020-09-17T03:41:53.075049Z"
    }
   },
   "outputs": [],
   "source": [
    "data_GASF = gasf.fit_transform(ddd)\n",
    "data_GADF = gadf.fit_transform(ddd)"
   ]
  },
  {
   "cell_type": "code",
   "execution_count": 170,
   "metadata": {
    "execution": {
     "iopub.execute_input": "2020-09-17T03:41:59.926753Z",
     "iopub.status.busy": "2020-09-17T03:41:59.925755Z",
     "iopub.status.idle": "2020-09-17T03:42:00.113288Z",
     "shell.execute_reply": "2020-09-17T03:42:00.113288Z",
     "shell.execute_reply.started": "2020-09-17T03:41:59.926753Z"
    }
   },
   "outputs": [
    {
     "data": {
      "image/png": "[encoded data removed]",
      "text/plain": [
       "<Figure size 360x360 with 2 Axes>"
      ]
     },
     "metadata": {},
     "output_type": "display_data"
    }
   ],
   "source": [
    "\"\"\"\n",
    "Plotting gasf\n",
    "\"\"\"\n",
    "plt.figure(figsize=(5,5))\n",
    "plt.imshow(data_GASF[0], cmap='rainbow', origin='lower')\n",
    "plt.title('gasf')\n",
    "plt.colorbar(fraction=0.0457, pad=0.04)\n",
    "plt.tight_layout()\n",
    "plt.show()"
   ]
  },
  {
   "cell_type": "code",
   "execution_count": 172,
   "metadata": {
    "execution": {
     "iopub.execute_input": "2020-09-17T03:43:43.796700Z",
     "iopub.status.busy": "2020-09-17T03:43:43.795702Z",
     "iopub.status.idle": "2020-09-17T03:43:43.983008Z",
     "shell.execute_reply": "2020-09-17T03:43:43.983008Z",
     "shell.execute_reply.started": "2020-09-17T03:43:43.796700Z"
    }
   },
   "outputs": [
    {
     "data": {
      "image/png": "[encoded data removed]",
      "text/plain": [
       "<Figure size 360x360 with 2 Axes>"
      ]
     },
     "metadata": {},
     "output_type": "display_data"
    }
   ],
   "source": [
    "\"\"\"\n",
    "Plotting gasf\n",
    "\"\"\"\n",
    "plt.figure(figsize=(5,5))\n",
    "plt.imshow(data_GASF[1], cmap='rainbow', origin='lower')\n",
    "plt.title('gasf')\n",
    "plt.colorbar(fraction=0.0457, pad=0.04)\n",
    "plt.tight_layout()\n",
    "plt.show()"
   ]
  },
  {
   "cell_type": "code",
   "execution_count": 173,
   "metadata": {
    "execution": {
     "iopub.execute_input": "2020-09-17T03:44:25.251034Z",
     "iopub.status.busy": "2020-09-17T03:44:25.251034Z",
     "iopub.status.idle": "2020-09-17T03:44:25.431109Z",
     "shell.execute_reply": "2020-09-17T03:44:25.431109Z",
     "shell.execute_reply.started": "2020-09-17T03:44:25.251034Z"
    }
   },
   "outputs": [
    {
     "data": {
      "image/png": "[encoded data removed]",
      "text/plain": [
       "<Figure size 360x360 with 2 Axes>"
      ]
     },
     "metadata": {},
     "output_type": "display_data"
    }
   ],
   "source": [
    "\"\"\"\n",
    "Plotting gasf\n",
    "\"\"\"\n",
    "plt.figure(figsize=(5,5))\n",
    "plt.imshow(data_GASF[2], cmap='rainbow', origin='lower')\n",
    "plt.title('gasf')\n",
    "plt.colorbar(fraction=0.0457, pad=0.04)\n",
    "plt.tight_layout()\n",
    "plt.show()"
   ]
  },
  {
   "cell_type": "code",
   "execution_count": 171,
   "metadata": {
    "execution": {
     "iopub.execute_input": "2020-09-17T03:42:28.755909Z",
     "iopub.status.busy": "2020-09-17T03:42:28.755909Z",
     "iopub.status.idle": "2020-09-17T03:42:28.947397Z",
     "shell.execute_reply": "2020-09-17T03:42:28.947397Z",
     "shell.execute_reply.started": "2020-09-17T03:42:28.755909Z"
    }
   },
   "outputs": [
    {
     "data": {
      "image/png": "[encoded data removed]",
      "text/plain": [
       "<Figure size 360x360 with 2 Axes>"
      ]
     },
     "metadata": {},
     "output_type": "display_data"
    }
   ],
   "source": [
    "\"\"\"\n",
    "Plotting gadf\n",
    "\"\"\"\n",
    "plt.figure(figsize=(5,5))\n",
    "plt.imshow(data_GADF[0], cmap='rainbow', origin='lower')\n",
    "plt.title('gadf')\n",
    "plt.colorbar(fraction=0.0457, pad=0.04)\n",
    "plt.tight_layout()\n",
    "plt.show()"
   ]
  },
  {
   "cell_type": "code",
   "execution_count": 174,
   "metadata": {
    "execution": {
     "iopub.execute_input": "2020-09-17T03:44:59.106747Z",
     "iopub.status.busy": "2020-09-17T03:44:59.105750Z",
     "iopub.status.idle": "2020-09-17T03:44:59.289906Z",
     "shell.execute_reply": "2020-09-17T03:44:59.289906Z",
     "shell.execute_reply.started": "2020-09-17T03:44:59.106747Z"
    }
   },
   "outputs": [
    {
     "data": {
      "image/png": "[encoded data removed]",
      "text/plain": [
       "<Figure size 360x360 with 2 Axes>"
      ]
     },
     "metadata": {},
     "output_type": "display_data"
    }
   ],
   "source": [
    "\"\"\"\n",
    "Plotting gadf\n",
    "\"\"\"\n",
    "plt.figure(figsize=(5,5))\n",
    "plt.imshow(data_GADF[1], cmap='rainbow', origin='lower')\n",
    "plt.title('gadf')\n",
    "plt.colorbar(fraction=0.0457, pad=0.04)\n",
    "plt.tight_layout()\n",
    "plt.show()"
   ]
  },
  {
   "cell_type": "code",
   "execution_count": 175,
   "metadata": {
    "execution": {
     "iopub.execute_input": "2020-09-17T03:45:02.473399Z",
     "iopub.status.busy": "2020-09-17T03:45:02.473399Z",
     "iopub.status.idle": "2020-09-17T03:45:02.654101Z",
     "shell.execute_reply": "2020-09-17T03:45:02.654101Z",
     "shell.execute_reply.started": "2020-09-17T03:45:02.473399Z"
    }
   },
   "outputs": [
    {
     "data": {
      "image/png": "[encoded data removed]",
      "text/plain": [
       "<Figure size 360x360 with 2 Axes>"
      ]
     },
     "metadata": {},
     "output_type": "display_data"
    }
   ],
   "source": [
    "\"\"\"\n",
    "Plotting gadf\n",
    "\"\"\"\n",
    "plt.figure(figsize=(5,5))\n",
    "plt.imshow(data_GADF[2], cmap='rainbow', origin='lower')\n",
    "plt.title('gadf')\n",
    "plt.colorbar(fraction=0.0457, pad=0.04)\n",
    "plt.tight_layout()\n",
    "plt.show()"
   ]
  },
  {
   "cell_type": "code",
   "execution_count": null,
   "metadata": {},
   "outputs": [],
   "source": []
  },
  {
   "cell_type": "code",
   "execution_count": null,
   "metadata": {},
   "outputs": [],
   "source": []
  },
  {
   "cell_type": "code",
   "execution_count": null,
   "metadata": {},
   "outputs": [],
   "source": []
  },
  {
   "cell_type": "code",
   "execution_count": null,
   "metadata": {},
   "outputs": [],
   "source": []
  },
  {
   "cell_type": "code",
   "execution_count": null,
   "metadata": {},
   "outputs": [],
   "source": []
  },
  {
   "cell_type": "code",
   "execution_count": null,
   "metadata": {},
   "outputs": [],
   "source": []
  },
  {
   "cell_type": "code",
   "execution_count": null,
   "metadata": {},
   "outputs": [],
   "source": []
  },
  {
   "cell_type": "code",
   "execution_count": null,
   "metadata": {},
   "outputs": [],
   "source": []
  },
  {
   "cell_type": "code",
   "execution_count": null,
   "metadata": {},
   "outputs": [],
   "source": []
  },
  {
   "cell_type": "code",
   "execution_count": null,
   "metadata": {},
   "outputs": [],
   "source": []
  },
  {
   "cell_type": "code",
   "execution_count": null,
   "metadata": {},
   "outputs": [],
   "source": []
  },
  {
   "cell_type": "code",
   "execution_count": null,
   "metadata": {},
   "outputs": [],
   "source": []
  },
  {
   "cell_type": "code",
   "execution_count": null,
   "metadata": {},
   "outputs": [],
   "source": []
  },
  {
   "cell_type": "code",
   "execution_count": null,
   "metadata": {},
   "outputs": [],
   "source": []
  },
  {
   "cell_type": "code",
   "execution_count": null,
   "metadata": {},
   "outputs": [],
   "source": []
  },
  {
   "cell_type": "code",
   "execution_count": null,
   "metadata": {},
   "outputs": [],
   "source": []
  },
  {
   "cell_type": "code",
   "execution_count": null,
   "metadata": {},
   "outputs": [],
   "source": []
  },
  {
   "cell_type": "code",
   "execution_count": null,
   "metadata": {},
   "outputs": [],
   "source": []
  }
 ],
 "metadata": {
  "kernelspec": {
   "display_name": "Python 3",
   "language": "python",
   "name": "python3"
  },
  "language_info": {
   "codemirror_mode": {
    "name": "ipython",
    "version": 3
   },
   "file_extension": ".py",
   "mimetype": "text/x-python",
   "name": "python",
   "nbconvert_exporter": "python",
   "pygments_lexer": "ipython3",
   "version": "3.7.3"
  }
 },
 "nbformat": 4,
 "nbformat_minor": 4
}
