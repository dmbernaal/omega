{
 "cells": [
  {
   "cell_type": "code",
   "execution_count": 1,
   "metadata": {
    "execution": {
     "iopub.execute_input": "2020-10-02T20:12:30.276246Z",
     "iopub.status.busy": "2020-10-02T20:12:30.276246Z",
     "iopub.status.idle": "2020-10-02T20:12:30.746964Z",
     "shell.execute_reply": "2020-10-02T20:12:30.746964Z",
     "shell.execute_reply.started": "2020-10-02T20:12:30.276246Z"
    }
   },
   "outputs": [],
   "source": [
    "import torch\n",
    "import torch.nn as nn\n",
    "import torch.nn.functional as F\n",
    "from nb.activations import Swish, Mila, Mish, BentID\n",
    "from collections import OrderedDict"
   ]
  },
  {
   "cell_type": "code",
   "execution_count": 2,
   "metadata": {
    "execution": {
     "iopub.execute_input": "2020-10-02T20:12:31.208730Z",
     "iopub.status.busy": "2020-10-02T20:12:31.208730Z",
     "iopub.status.idle": "2020-10-02T20:12:31.213745Z",
     "shell.execute_reply": "2020-10-02T20:12:31.213745Z",
     "shell.execute_reply.started": "2020-10-02T20:12:31.208730Z"
    }
   },
   "outputs": [],
   "source": [
    "def conv3x3(in_planes, out_planes, stride=1, groups=1, dilation=1):\n",
    "    \"\"\"3x3 conv with padding\"\"\"\n",
    "    return nn.Conv2d(in_planes, out_planes, kernel_size=3, stride=stride, padding=dilation, groups=groups, bias=False, dilation=dilation)\n",
    "\n",
    "def conv1x1(in_planes, out_planes, stride=1):\n",
    "    \"\"\"1x1 conv\"\"\"\n",
    "    return nn.Conv2d(in_planes, out_planes, kernel_size=1, stride=stride, bias=False)"
   ]
  },
  {
   "cell_type": "code",
   "execution_count": 3,
   "metadata": {
    "execution": {
     "iopub.execute_input": "2020-10-02T20:12:31.380271Z",
     "iopub.status.busy": "2020-10-02T20:12:31.379305Z",
     "iopub.status.idle": "2020-10-02T20:12:31.386254Z",
     "shell.execute_reply": "2020-10-02T20:12:31.386254Z",
     "shell.execute_reply.started": "2020-10-02T20:12:31.379305Z"
    }
   },
   "outputs": [],
   "source": [
    "def create_norm_(inplanes, norm_='bn'):\n",
    "    norm_type_ = nn.ModuleDict([\n",
    "        ['bn', nn.BatchNorm2d(inplanes)],\n",
    "        ['gn', nn.GroupNorm(1, inplanes)]\n",
    "    ])\n",
    "    return norm_type_[norm_]\n",
    "\n",
    "def get_activation_(act='relu', inplace=True):\n",
    "    _activations_ = nn.ModuleDict([\n",
    "        ['relu', nn.ReLU(inplace=inplace)],\n",
    "        ['lrelu', nn.LeakyReLU(inplace=inplace)],\n",
    "        ['swish', Swish()],\n",
    "        ['bent_id', BentID()],\n",
    "        ['mila', Mila()],\n",
    "        ['mish', Mish()]\n",
    "    ])\n",
    "    return _activations_[act]"
   ]
  },
  {
   "cell_type": "code",
   "execution_count": 5,
   "metadata": {
    "execution": {
     "iopub.execute_input": "2020-10-02T20:21:46.294936Z",
     "iopub.status.busy": "2020-10-02T20:21:46.294936Z",
     "iopub.status.idle": "2020-10-02T20:21:46.300954Z",
     "shell.execute_reply": "2020-10-02T20:21:46.300954Z",
     "shell.execute_reply.started": "2020-10-02T20:21:46.294936Z"
    }
   },
   "outputs": [],
   "source": [
    "def stem_block(in_c=3, inplanes=64, act='relu', norm='bn', ks=7, stride=2, padding=3):\n",
    "    \"\"\"\n",
    "    Basic stem. Created at the beginning of the ResNet Arch\n",
    "    \"\"\"\n",
    "    bias = False if norm=='bn' else True\n",
    "    stem = nn.Sequential(OrderedDict([\n",
    "        ('conv1', nn.Conv2d(in_c, inplanes, kernel_size=ks, stride=stride))\n",
    "    ]))\n",
    "    if norm is not None: stem.add_module(name='norm1', module=create_norm_(inplanes, norm))\n",
    "    stem.add_module(name='act', module=get_activation_(act, inplace=True))\n",
    "    stem.add_module(name='maxpool', module=nn.MaxPool2d(kernel_size=3, stride=2, padding=1))\n",
    "    return stem"
   ]
  },
  {
   "cell_type": "code",
   "execution_count": 6,
   "metadata": {
    "execution": {
     "iopub.execute_input": "2020-10-02T20:22:32.588158Z",
     "iopub.status.busy": "2020-10-02T20:22:32.587161Z",
     "iopub.status.idle": "2020-10-02T20:22:32.592147Z",
     "shell.execute_reply": "2020-10-02T20:22:32.592147Z",
     "shell.execute_reply.started": "2020-10-02T20:22:32.588158Z"
    }
   },
   "outputs": [],
   "source": [
    "class Flatten(nn.Module):\n",
    "    def __init__(self): super(Flatten, self).__init__()\n",
    "    def forward(self, x): return torch.flatten(x, 1)"
   ]
  },
  {
   "cell_type": "code",
   "execution_count": 8,
   "metadata": {
    "execution": {
     "iopub.execute_input": "2020-10-02T20:25:59.327291Z",
     "iopub.status.busy": "2020-10-02T20:25:59.327291Z",
     "iopub.status.idle": "2020-10-02T20:25:59.332278Z",
     "shell.execute_reply": "2020-10-02T20:25:59.332278Z",
     "shell.execute_reply.started": "2020-10-02T20:25:59.327291Z"
    }
   },
   "outputs": [],
   "source": [
    "def create_head(planes, num_classes):\n",
    "    \"\"\"\n",
    "    Basic head component. For classification or other various tasks\n",
    "    \"\"\"\n",
    "    return nn.Sequential(OrderedDict([\n",
    "        ['avgpool', nn.AdaptiveAvgPool2d((1,1))],\n",
    "        ['flatten', Flatten()],\n",
    "        ['fc', nn.Linear(planes, num_classes)]\n",
    "    ]))"
   ]
  },
  {
   "cell_type": "code",
   "execution_count": 11,
   "metadata": {
    "execution": {
     "iopub.execute_input": "2020-10-02T20:53:29.815986Z",
     "iopub.status.busy": "2020-10-02T20:53:29.814988Z",
     "iopub.status.idle": "2020-10-02T20:53:29.822967Z",
     "shell.execute_reply": "2020-10-02T20:53:29.822967Z",
     "shell.execute_reply.started": "2020-10-02T20:53:29.814988Z"
    }
   },
   "outputs": [],
   "source": [
    "class BasicBlock(nn.Module):\n",
    "    expansion = 1\n",
    "    def __init__(self, inplanes, planes, act='relu', norm='bn', stride=1, downsample=None, groups=1, base_width=64, dilation=1):\n",
    "        super(BasicBlock, self).__init__()\n",
    "        if groups != 1 or base_width != 64: raise ValueError('BasicBlock only supports groups=1 and base_width=64')\n",
    "        if dilation > 1: raise NotImplementedError('Dilation > 1 not supported in BasicBlock')\n",
    "        \n",
    "        self.conv1 = conv3x3(inplanes, planes, stride)\n",
    "        self.norm1 = None if norm is None else create_norm_(planes, norm)\n",
    "        self.act = get_activation_(act, inplace=True)\n",
    "        \n",
    "        self.conv2 = conv3x3(planes, planes)\n",
    "        self.norm2 = None if norm is None else create_norm_(planes, norm)\n",
    "        self.downsample = downsample\n",
    "        self.stride = stride\n",
    "        \n",
    "    def forward(self, x):\n",
    "        identity = x\n",
    "        \n",
    "        out = self.conv1(x)\n",
    "        if self.norm1: out = self.norm1(out)\n",
    "        out = self.act(out)\n",
    "        \n",
    "        out = self.conv2(out)\n",
    "        if self.norm2: out = self.norm2(out)\n",
    "        if self.downsample: identity = self.downsample(x)\n",
    "            \n",
    "        out += identity\n",
    "        out = self.act(out)\n",
    "        return out"
   ]
  },
  {
   "cell_type": "code",
   "execution_count": 18,
   "metadata": {
    "execution": {
     "iopub.execute_input": "2020-10-02T21:31:26.943062Z",
     "iopub.status.busy": "2020-10-02T21:31:26.943062Z",
     "iopub.status.idle": "2020-10-02T21:31:26.961050Z",
     "shell.execute_reply": "2020-10-02T21:31:26.961050Z",
     "shell.execute_reply.started": "2020-10-02T21:31:26.943062Z"
    }
   },
   "outputs": [],
   "source": [
    "class ResNet(nn.Module):\n",
    "    def __init__(self, block, layers, act='relu', norm='bn', in_c=3, stem_ks=7, num_classes=1000, zero_init_residual=False, init_method='kaiming_normal', mode='fan_out', groups=1, width_per_group=64, replace_stride_with_dilation=None):\n",
    "        super(ResNet, self).__init__()\n",
    "        \n",
    "        self._norm_layer = norm\n",
    "        self._act_fn = act\n",
    "        self.inplanes = 64\n",
    "        self.dilation = 1\n",
    "        \n",
    "        if replace_stride_with_dilation is None: replace_stride_with_dilation = [False, False, False]\n",
    "        if len(replace_stride_with_dilation) != 3:\n",
    "            raise ValueError('replace_stride_with_dilation should be a 3-element tuple')\n",
    "            \n",
    "        self.groups = groups\n",
    "        self.base_width = width_per_group\n",
    "        \n",
    "        # Add more inits\n",
    "        self._inits = {'kaiming_normal': nn.init.kaiming_normal_, 'kaiming_uniform': nn.init.kaiming_uniform_}\n",
    "        \n",
    "        # layers\n",
    "        self.stem = stem_block(in_c=in_c, inplanes=self.inplanes, act=act, norm=norm, ks=stem_ks)\n",
    "        self.body = nn.Sequential(OrderedDict([\n",
    "            ['layer1', self._make_layer(block, 64, layers[0])],\n",
    "            ['layer2', self._make_layer(block, 128, layers[1], stride=2, dilate=replace_stride_with_dilation[0])],\n",
    "            ['layer3', self._make_layer(block, 256, layers[2], stride=2, dilate=replace_stride_with_dilation[1])],\n",
    "            ['layer4', self._make_layer(block, 512, layers[3], stride=2, dilate=replace_stride_with_dilation[2])]\n",
    "        ]))\n",
    "        self.head = create_head(512 * block.expansion, num_classes)\n",
    "        \n",
    "        # weight init\n",
    "        self.init_model_(init_method, mode)\n",
    "        if zero_init_residual and norm=='bn': self.zero_init_residual_()\n",
    "            \n",
    "    def _make_layer(self, block, planes, blocks, stride=1, dilate=False):\n",
    "        norm_layer = self._norm_layer\n",
    "        act_fn = self._act_fn\n",
    "        downsample = None\n",
    "        previous_dilation = self.dilation\n",
    "        \n",
    "        if dilate:\n",
    "            self.dilation *= stride\n",
    "            stride = 1\n",
    "        if stride != 1 or self.inplanes != planes * block.expansion:\n",
    "            downsample = nn.Sequential(OrderedDict([\n",
    "                ['0', conv1x1(self.inplanes, planes * block.expansion, stride)]\n",
    "            ]))\n",
    "            if norm_layer:\n",
    "                downsample.add_module(\n",
    "                    name='1',\n",
    "                    module=create_norm_(planes * block.expansion, norm_layer)\n",
    "                )\n",
    "        layers = []\n",
    "        layers.append(block(self.inplanes, planes, act_fn, norm_layer, stride, downsample, self.groups, self.base_width, previous_dilation))\n",
    "        \n",
    "        self.inplanes = planes * block.expansion\n",
    "        \n",
    "        for _ in range(1, blocks):\n",
    "            layers.append(block(self.inplanes, planes, act_fn, norm_layer, groups=self.groups, base_width=self.base_width, dilation=self.dilation))\n",
    "            \n",
    "        return nn.Sequential(*layers)\n",
    "    \n",
    "    def init_model_(self, init_method='kaiming_normal', mode='fan_out'):\n",
    "        init = self._inits[init_method]\n",
    "        for m in self.modules():\n",
    "            if isinstance(m, nn.Conv2d):\n",
    "                if self._act_fn == 'relu': init(m.weight, mode=mode, nonlinearity=self._act_fn)\n",
    "                else: init(m.weight, mode=mode)\n",
    "            elif isinstance(m, (nn.BatchNorm2d, nn.GroupNorm)):\n",
    "                nn.init.constant_(m.weight, 1)\n",
    "                nn.init.constant_(m.bias, 0)\n",
    "                \n",
    "    def zero_init_residual_(self):\n",
    "        for m in self.body.modules():\n",
    "            if isinstance(m, BasicBlock): nn.init.constant_(m.norm3.weigth, 0)\n",
    "                \n",
    "    def forward(self, x):\n",
    "        x = self.stem(x)\n",
    "        x = self.body(x)\n",
    "        x = self.head(x)\n",
    "        return x"
   ]
  },
  {
   "cell_type": "code",
   "execution_count": 26,
   "metadata": {
    "execution": {
     "iopub.execute_input": "2020-10-02T21:31:46.543423Z",
     "iopub.status.busy": "2020-10-02T21:31:46.543423Z",
     "iopub.status.idle": "2020-10-02T21:31:46.547411Z",
     "shell.execute_reply": "2020-10-02T21:31:46.547411Z",
     "shell.execute_reply.started": "2020-10-02T21:31:46.543423Z"
    }
   },
   "outputs": [],
   "source": [
    "def _resnet(block, layers, **kwargs):\n",
    "    model = ResNet(block, layers, **kwargs)\n",
    "    return model"
   ]
  },
  {
   "cell_type": "code",
   "execution_count": 27,
   "metadata": {
    "execution": {
     "iopub.execute_input": "2020-10-02T21:31:46.774804Z",
     "iopub.status.busy": "2020-10-02T21:31:46.774804Z",
     "iopub.status.idle": "2020-10-02T21:31:46.779790Z",
     "shell.execute_reply": "2020-10-02T21:31:46.779790Z",
     "shell.execute_reply.started": "2020-10-02T21:31:46.774804Z"
    }
   },
   "outputs": [],
   "source": [
    "def mininet(in_c, num_classes=1000, **kwargs): return _resnet(BasicBlock, [1,1,1,1], in_c=in_c, num_classes=num_classes, **kwargs)"
   ]
  },
  {
   "cell_type": "code",
   "execution_count": 28,
   "metadata": {
    "execution": {
     "iopub.execute_input": "2020-10-02T21:31:47.020181Z",
     "iopub.status.busy": "2020-10-02T21:31:47.019152Z",
     "iopub.status.idle": "2020-10-02T21:31:47.024141Z",
     "shell.execute_reply": "2020-10-02T21:31:47.023141Z",
     "shell.execute_reply.started": "2020-10-02T21:31:47.019152Z"
    }
   },
   "outputs": [],
   "source": [
    "from torchsummary import summary"
   ]
  },
  {
   "cell_type": "code",
   "execution_count": 29,
   "metadata": {
    "execution": {
     "iopub.execute_input": "2020-10-02T21:31:47.308377Z",
     "iopub.status.busy": "2020-10-02T21:31:47.308377Z",
     "iopub.status.idle": "2020-10-02T21:31:47.312365Z",
     "shell.execute_reply": "2020-10-02T21:31:47.311372Z",
     "shell.execute_reply.started": "2020-10-02T21:31:47.308377Z"
    }
   },
   "outputs": [],
   "source": [
    "device = torch.device('cuda:0')"
   ]
  },
  {
   "cell_type": "code",
   "execution_count": 32,
   "metadata": {
    "execution": {
     "iopub.execute_input": "2020-10-02T21:31:53.690595Z",
     "iopub.status.busy": "2020-10-02T21:31:53.690595Z",
     "iopub.status.idle": "2020-10-02T21:31:55.672341Z",
     "shell.execute_reply": "2020-10-02T21:31:55.672341Z",
     "shell.execute_reply.started": "2020-10-02T21:31:53.690595Z"
    }
   },
   "outputs": [],
   "source": [
    "m1 = mininet(20, 10).to(device)"
   ]
  },
  {
   "cell_type": "code",
   "execution_count": 38,
   "metadata": {
    "execution": {
     "iopub.execute_input": "2020-10-02T21:33:25.402755Z",
     "iopub.status.busy": "2020-10-02T21:33:25.402755Z",
     "iopub.status.idle": "2020-10-02T21:33:25.418712Z",
     "shell.execute_reply": "2020-10-02T21:33:25.418712Z",
     "shell.execute_reply.started": "2020-10-02T21:33:25.402755Z"
    }
   },
   "outputs": [
    {
     "name": "stdout",
     "output_type": "stream",
     "text": [
      "----------------------------------------------------------------\n",
      "        Layer (type)               Output Shape         Param #\n",
      "================================================================\n",
      "            Conv2d-1             [-1, 64, 9, 9]          62,784\n",
      "       BatchNorm2d-2             [-1, 64, 9, 9]             128\n",
      "              ReLU-3             [-1, 64, 9, 9]               0\n",
      "         MaxPool2d-4             [-1, 64, 5, 5]               0\n",
      "            Conv2d-5             [-1, 64, 5, 5]          36,864\n",
      "       BatchNorm2d-6             [-1, 64, 5, 5]             128\n",
      "              ReLU-7             [-1, 64, 5, 5]               0\n",
      "            Conv2d-8             [-1, 64, 5, 5]          36,864\n",
      "       BatchNorm2d-9             [-1, 64, 5, 5]             128\n",
      "             ReLU-10             [-1, 64, 5, 5]               0\n",
      "       BasicBlock-11             [-1, 64, 5, 5]               0\n",
      "           Conv2d-12            [-1, 128, 3, 3]          73,728\n",
      "      BatchNorm2d-13            [-1, 128, 3, 3]             256\n",
      "             ReLU-14            [-1, 128, 3, 3]               0\n",
      "           Conv2d-15            [-1, 128, 3, 3]         147,456\n",
      "      BatchNorm2d-16            [-1, 128, 3, 3]             256\n",
      "           Conv2d-17            [-1, 128, 3, 3]           8,192\n",
      "      BatchNorm2d-18            [-1, 128, 3, 3]             256\n",
      "             ReLU-19            [-1, 128, 3, 3]               0\n",
      "       BasicBlock-20            [-1, 128, 3, 3]               0\n",
      "           Conv2d-21            [-1, 256, 2, 2]         294,912\n",
      "      BatchNorm2d-22            [-1, 256, 2, 2]             512\n",
      "             ReLU-23            [-1, 256, 2, 2]               0\n",
      "           Conv2d-24            [-1, 256, 2, 2]         589,824\n",
      "      BatchNorm2d-25            [-1, 256, 2, 2]             512\n",
      "           Conv2d-26            [-1, 256, 2, 2]          32,768\n",
      "      BatchNorm2d-27            [-1, 256, 2, 2]             512\n",
      "             ReLU-28            [-1, 256, 2, 2]               0\n",
      "       BasicBlock-29            [-1, 256, 2, 2]               0\n",
      "           Conv2d-30            [-1, 512, 1, 1]       1,179,648\n",
      "      BatchNorm2d-31            [-1, 512, 1, 1]           1,024\n",
      "             ReLU-32            [-1, 512, 1, 1]               0\n",
      "           Conv2d-33            [-1, 512, 1, 1]       2,359,296\n",
      "      BatchNorm2d-34            [-1, 512, 1, 1]           1,024\n",
      "           Conv2d-35            [-1, 512, 1, 1]         131,072\n",
      "      BatchNorm2d-36            [-1, 512, 1, 1]           1,024\n",
      "             ReLU-37            [-1, 512, 1, 1]               0\n",
      "       BasicBlock-38            [-1, 512, 1, 1]               0\n",
      "AdaptiveAvgPool2d-39            [-1, 512, 1, 1]               0\n",
      "          Flatten-40                  [-1, 512]               0\n",
      "           Linear-41                   [-1, 10]           5,130\n",
      "================================================================\n",
      "Total params: 4,964,298\n",
      "Trainable params: 4,964,298\n",
      "Non-trainable params: 0\n",
      "----------------------------------------------------------------\n",
      "Input size (MB): 0.04\n",
      "Forward/backward pass size (MB): 0.41\n",
      "Params size (MB): 18.94\n",
      "Estimated Total Size (MB): 19.39\n",
      "----------------------------------------------------------------\n"
     ]
    }
   ],
   "source": [
    "summary(m1, (20, 24, 24))"
   ]
  },
  {
   "cell_type": "code",
   "execution_count": 36,
   "metadata": {
    "execution": {
     "iopub.execute_input": "2020-10-02T21:32:47.309109Z",
     "iopub.status.busy": "2020-10-02T21:32:47.309109Z",
     "iopub.status.idle": "2020-10-02T21:32:47.314095Z",
     "shell.execute_reply": "2020-10-02T21:32:47.314095Z",
     "shell.execute_reply.started": "2020-10-02T21:32:47.309109Z"
    }
   },
   "outputs": [
    {
     "data": {
      "text/plain": [
       "ResNet(\n",
       "  (stem): Sequential(\n",
       "    (conv1): Conv2d(20, 64, kernel_size=(7, 7), stride=(2, 2))\n",
       "    (norm1): BatchNorm2d(64, eps=1e-05, momentum=0.1, affine=True, track_running_stats=True)\n",
       "    (act): ReLU(inplace=True)\n",
       "    (maxpool): MaxPool2d(kernel_size=3, stride=2, padding=1, dilation=1, ceil_mode=False)\n",
       "  )\n",
       "  (body): Sequential(\n",
       "    (layer1): Sequential(\n",
       "      (0): BasicBlock(\n",
       "        (conv1): Conv2d(64, 64, kernel_size=(3, 3), stride=(1, 1), padding=(1, 1), bias=False)\n",
       "        (norm1): BatchNorm2d(64, eps=1e-05, momentum=0.1, affine=True, track_running_stats=True)\n",
       "        (act): ReLU(inplace=True)\n",
       "        (conv2): Conv2d(64, 64, kernel_size=(3, 3), stride=(1, 1), padding=(1, 1), bias=False)\n",
       "        (norm2): BatchNorm2d(64, eps=1e-05, momentum=0.1, affine=True, track_running_stats=True)\n",
       "      )\n",
       "    )\n",
       "    (layer2): Sequential(\n",
       "      (0): BasicBlock(\n",
       "        (conv1): Conv2d(64, 128, kernel_size=(3, 3), stride=(2, 2), padding=(1, 1), bias=False)\n",
       "        (norm1): BatchNorm2d(128, eps=1e-05, momentum=0.1, affine=True, track_running_stats=True)\n",
       "        (act): ReLU(inplace=True)\n",
       "        (conv2): Conv2d(128, 128, kernel_size=(3, 3), stride=(1, 1), padding=(1, 1), bias=False)\n",
       "        (norm2): BatchNorm2d(128, eps=1e-05, momentum=0.1, affine=True, track_running_stats=True)\n",
       "        (downsample): Sequential(\n",
       "          (0): Conv2d(64, 128, kernel_size=(1, 1), stride=(2, 2), bias=False)\n",
       "          (1): BatchNorm2d(128, eps=1e-05, momentum=0.1, affine=True, track_running_stats=True)\n",
       "        )\n",
       "      )\n",
       "    )\n",
       "    (layer3): Sequential(\n",
       "      (0): BasicBlock(\n",
       "        (conv1): Conv2d(128, 256, kernel_size=(3, 3), stride=(2, 2), padding=(1, 1), bias=False)\n",
       "        (norm1): BatchNorm2d(256, eps=1e-05, momentum=0.1, affine=True, track_running_stats=True)\n",
       "        (act): ReLU(inplace=True)\n",
       "        (conv2): Conv2d(256, 256, kernel_size=(3, 3), stride=(1, 1), padding=(1, 1), bias=False)\n",
       "        (norm2): BatchNorm2d(256, eps=1e-05, momentum=0.1, affine=True, track_running_stats=True)\n",
       "        (downsample): Sequential(\n",
       "          (0): Conv2d(128, 256, kernel_size=(1, 1), stride=(2, 2), bias=False)\n",
       "          (1): BatchNorm2d(256, eps=1e-05, momentum=0.1, affine=True, track_running_stats=True)\n",
       "        )\n",
       "      )\n",
       "    )\n",
       "    (layer4): Sequential(\n",
       "      (0): BasicBlock(\n",
       "        (conv1): Conv2d(256, 512, kernel_size=(3, 3), stride=(2, 2), padding=(1, 1), bias=False)\n",
       "        (norm1): BatchNorm2d(512, eps=1e-05, momentum=0.1, affine=True, track_running_stats=True)\n",
       "        (act): ReLU(inplace=True)\n",
       "        (conv2): Conv2d(512, 512, kernel_size=(3, 3), stride=(1, 1), padding=(1, 1), bias=False)\n",
       "        (norm2): BatchNorm2d(512, eps=1e-05, momentum=0.1, affine=True, track_running_stats=True)\n",
       "        (downsample): Sequential(\n",
       "          (0): Conv2d(256, 512, kernel_size=(1, 1), stride=(2, 2), bias=False)\n",
       "          (1): BatchNorm2d(512, eps=1e-05, momentum=0.1, affine=True, track_running_stats=True)\n",
       "        )\n",
       "      )\n",
       "    )\n",
       "  )\n",
       "  (head): Sequential(\n",
       "    (avgpool): AdaptiveAvgPool2d(output_size=(1, 1))\n",
       "    (flatten): Flatten()\n",
       "    (fc): Linear(in_features=512, out_features=10, bias=True)\n",
       "  )\n",
       ")"
      ]
     },
     "execution_count": 36,
     "metadata": {},
     "output_type": "execute_result"
    }
   ],
   "source": [
    "m1"
   ]
  },
  {
   "cell_type": "code",
   "execution_count": null,
   "metadata": {},
   "outputs": [],
   "source": []
  },
  {
   "cell_type": "code",
   "execution_count": null,
   "metadata": {},
   "outputs": [],
   "source": []
  },
  {
   "cell_type": "code",
   "execution_count": null,
   "metadata": {},
   "outputs": [],
   "source": []
  },
  {
   "cell_type": "code",
   "execution_count": null,
   "metadata": {},
   "outputs": [],
   "source": []
  },
  {
   "cell_type": "code",
   "execution_count": null,
   "metadata": {},
   "outputs": [],
   "source": []
  },
  {
   "cell_type": "code",
   "execution_count": null,
   "metadata": {},
   "outputs": [],
   "source": []
  },
  {
   "cell_type": "code",
   "execution_count": null,
   "metadata": {},
   "outputs": [],
   "source": []
  },
  {
   "cell_type": "code",
   "execution_count": null,
   "metadata": {},
   "outputs": [],
   "source": []
  },
  {
   "cell_type": "code",
   "execution_count": null,
   "metadata": {},
   "outputs": [],
   "source": []
  },
  {
   "cell_type": "code",
   "execution_count": null,
   "metadata": {},
   "outputs": [],
   "source": []
  },
  {
   "cell_type": "code",
   "execution_count": null,
   "metadata": {},
   "outputs": [],
   "source": []
  },
  {
   "cell_type": "code",
   "execution_count": null,
   "metadata": {},
   "outputs": [],
   "source": []
  },
  {
   "cell_type": "code",
   "execution_count": null,
   "metadata": {},
   "outputs": [],
   "source": []
  },
  {
   "cell_type": "code",
   "execution_count": null,
   "metadata": {},
   "outputs": [],
   "source": []
  },
  {
   "cell_type": "code",
   "execution_count": null,
   "metadata": {},
   "outputs": [],
   "source": []
  },
  {
   "cell_type": "code",
   "execution_count": null,
   "metadata": {},
   "outputs": [],
   "source": []
  },
  {
   "cell_type": "code",
   "execution_count": null,
   "metadata": {},
   "outputs": [],
   "source": []
  },
  {
   "cell_type": "code",
   "execution_count": null,
   "metadata": {},
   "outputs": [],
   "source": []
  },
  {
   "cell_type": "code",
   "execution_count": null,
   "metadata": {},
   "outputs": [],
   "source": []
  },
  {
   "cell_type": "code",
   "execution_count": null,
   "metadata": {},
   "outputs": [],
   "source": []
  },
  {
   "cell_type": "code",
   "execution_count": null,
   "metadata": {},
   "outputs": [],
   "source": []
  },
  {
   "cell_type": "code",
   "execution_count": null,
   "metadata": {},
   "outputs": [],
   "source": []
  }
 ],
 "metadata": {
  "kernelspec": {
   "display_name": "Python 3",
   "language": "python",
   "name": "python3"
  },
  "language_info": {
   "codemirror_mode": {
    "name": "ipython",
    "version": 3
   },
   "file_extension": ".py",
   "mimetype": "text/x-python",
   "name": "python",
   "nbconvert_exporter": "python",
   "pygments_lexer": "ipython3",
   "version": "3.7.3"
  }
 },
 "nbformat": 4,
 "nbformat_minor": 4
}
