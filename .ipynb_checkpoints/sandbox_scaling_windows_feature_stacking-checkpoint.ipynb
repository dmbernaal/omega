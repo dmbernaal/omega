{
 "cells": [
  {
   "cell_type": "code",
   "execution_count": 1,
   "metadata": {
    "execution": {
     "iopub.execute_input": "2020-09-21T12:51:36.361660Z",
     "iopub.status.busy": "2020-09-21T12:51:36.360629Z",
     "iopub.status.idle": "2020-09-21T12:51:38.942798Z",
     "shell.execute_reply": "2020-09-21T12:51:38.942798Z",
     "shell.execute_reply.started": "2020-09-21T12:51:36.360629Z"
    }
   },
   "outputs": [],
   "source": [
    "import numpy as np\n",
    "import pandas as pd\n",
    "from ta import add_all_ta_features\n",
    "from ta.utils import dropna\n",
    "from pathlib import Path\n",
    "import os\n",
    "from sklearn.preprocessing import MinMaxScaler"
   ]
  },
  {
   "cell_type": "code",
   "execution_count": 2,
   "metadata": {
    "execution": {
     "iopub.execute_input": "2020-09-21T12:51:38.943715Z",
     "iopub.status.busy": "2020-09-21T12:51:38.943715Z",
     "iopub.status.idle": "2020-09-21T12:51:40.801828Z",
     "shell.execute_reply": "2020-09-21T12:51:40.801828Z",
     "shell.execute_reply.started": "2020-09-21T12:51:38.943715Z"
    }
   },
   "outputs": [],
   "source": [
    "import matplotlib.pyplot as plt\n",
    "import matplotlib as mpl\n",
    "mpl.style.use('seaborn')\n",
    "\n",
    "from pyts.image import GramianAngularField"
   ]
  },
  {
   "cell_type": "code",
   "execution_count": 3,
   "metadata": {
    "execution": {
     "iopub.execute_input": "2020-09-21T12:51:40.802780Z",
     "iopub.status.busy": "2020-09-21T12:51:40.802780Z",
     "iopub.status.idle": "2020-09-21T12:51:40.808752Z",
     "shell.execute_reply": "2020-09-21T12:51:40.808752Z",
     "shell.execute_reply.started": "2020-09-21T12:51:40.802780Z"
    }
   },
   "outputs": [],
   "source": [
    "def load_data(root=None, remove=None, headers=None):\n",
    "    data = Path('./OmegaDev/Model_Z/raw_data/GBP_USD_H1_2016-01-01_2018-01-01.csv') if root is None else Path(root)\n",
    "    remove = ['trend_psar_up', 'trend_psar_down'] if remove is None else remove\n",
    "    headers = ['date', 'complete', 'open', 'high', 'low', 'close', 'volume'] if headers is None else headers\n",
    "    \n",
    "    df = pd.read_csv(data, header=None, names=headers)\n",
    "    df = dropna(df)\n",
    "    df = add_all_ta_features(df, 'open', 'high', 'low', 'close', 'volume')\n",
    "    df.drop(columns=remove,axis=1,inplace=True)\n",
    "    df.dropna(inplace=True)\n",
    "    \n",
    "    data = df.iloc[:,2:].copy()\n",
    "    \n",
    "    return df, data"
   ]
  },
  {
   "cell_type": "code",
   "execution_count": 4,
   "metadata": {
    "execution": {
     "iopub.execute_input": "2020-09-21T12:51:40.810752Z",
     "iopub.status.busy": "2020-09-21T12:51:40.809725Z",
     "iopub.status.idle": "2020-09-21T12:51:45.448676Z",
     "shell.execute_reply": "2020-09-21T12:51:45.447706Z",
     "shell.execute_reply.started": "2020-09-21T12:51:40.810752Z"
    }
   },
   "outputs": [
    {
     "name": "stderr",
     "output_type": "stream",
     "text": [
      "C:\\Users\\dmber\\Anaconda3\\lib\\site-packages\\ta\\trend.py:608: RuntimeWarning: invalid value encountered in double_scalars\n",
      "  dip[i] = 100 * (self._dip[i]/self._trs[i])\n",
      "C:\\Users\\dmber\\Anaconda3\\lib\\site-packages\\ta\\trend.py:612: RuntimeWarning: invalid value encountered in double_scalars\n",
      "  din[i] = 100 * (self._din[i]/self._trs[i])\n"
     ]
    }
   ],
   "source": [
    "df, data = load_data()"
   ]
  },
  {
   "cell_type": "markdown",
   "metadata": {},
   "source": [
    "## Labeling\n",
    "Performing three-barrier-method for labeling. "
   ]
  },
  {
   "cell_type": "code",
   "execution_count": 5,
   "metadata": {
    "execution": {
     "iopub.execute_input": "2020-09-21T12:51:45.448676Z",
     "iopub.status.busy": "2020-09-21T12:51:45.448676Z",
     "iopub.status.idle": "2020-09-21T12:51:45.473601Z",
     "shell.execute_reply": "2020-09-21T12:51:45.472604Z",
     "shell.execute_reply.started": "2020-09-21T12:51:45.448676Z"
    }
   },
   "outputs": [
    {
     "data": {
      "text/html": [
       "<div>\n",
       "<style scoped>\n",
       "    .dataframe tbody tr th:only-of-type {\n",
       "        vertical-align: middle;\n",
       "    }\n",
       "\n",
       "    .dataframe tbody tr th {\n",
       "        vertical-align: top;\n",
       "    }\n",
       "\n",
       "    .dataframe thead th {\n",
       "        text-align: right;\n",
       "    }\n",
       "</style>\n",
       "<table border=\"1\" class=\"dataframe\">\n",
       "  <thead>\n",
       "    <tr style=\"text-align: right;\">\n",
       "      <th></th>\n",
       "      <th>open</th>\n",
       "      <th>high</th>\n",
       "      <th>low</th>\n",
       "      <th>close</th>\n",
       "      <th>volume</th>\n",
       "      <th>volume_adi</th>\n",
       "      <th>volume_obv</th>\n",
       "      <th>volume_cmf</th>\n",
       "      <th>volume_fi</th>\n",
       "      <th>momentum_mfi</th>\n",
       "      <th>...</th>\n",
       "      <th>momentum_uo</th>\n",
       "      <th>momentum_stoch</th>\n",
       "      <th>momentum_stoch_signal</th>\n",
       "      <th>momentum_wr</th>\n",
       "      <th>momentum_ao</th>\n",
       "      <th>momentum_kama</th>\n",
       "      <th>momentum_roc</th>\n",
       "      <th>others_dr</th>\n",
       "      <th>others_dlr</th>\n",
       "      <th>others_cr</th>\n",
       "    </tr>\n",
       "  </thead>\n",
       "  <tbody>\n",
       "    <tr>\n",
       "      <th>51</th>\n",
       "      <td>1.46722</td>\n",
       "      <td>1.46802</td>\n",
       "      <td>1.46640</td>\n",
       "      <td>1.46668</td>\n",
       "      <td>1030</td>\n",
       "      <td>-2100.361678</td>\n",
       "      <td>1275</td>\n",
       "      <td>-0.165557</td>\n",
       "      <td>-0.129598</td>\n",
       "      <td>70.874071</td>\n",
       "      <td>...</td>\n",
       "      <td>44.879637</td>\n",
       "      <td>49.477352</td>\n",
       "      <td>56.736353</td>\n",
       "      <td>-50.522648</td>\n",
       "      <td>-0.001714</td>\n",
       "      <td>1.467623</td>\n",
       "      <td>-0.091279</td>\n",
       "      <td>-0.033398</td>\n",
       "      <td>-0.033403</td>\n",
       "      <td>-0.465546</td>\n",
       "    </tr>\n",
       "    <tr>\n",
       "      <th>52</th>\n",
       "      <td>1.46674</td>\n",
       "      <td>1.46722</td>\n",
       "      <td>1.46588</td>\n",
       "      <td>1.46588</td>\n",
       "      <td>685</td>\n",
       "      <td>-2785.361678</td>\n",
       "      <td>590</td>\n",
       "      <td>-0.216499</td>\n",
       "      <td>-0.189370</td>\n",
       "      <td>65.160717</td>\n",
       "      <td>...</td>\n",
       "      <td>39.188040</td>\n",
       "      <td>35.540070</td>\n",
       "      <td>47.677120</td>\n",
       "      <td>-64.459930</td>\n",
       "      <td>-0.001827</td>\n",
       "      <td>1.467610</td>\n",
       "      <td>-0.051819</td>\n",
       "      <td>-0.054545</td>\n",
       "      <td>-0.054560</td>\n",
       "      <td>-0.519837</td>\n",
       "    </tr>\n",
       "    <tr>\n",
       "      <th>53</th>\n",
       "      <td>1.46589</td>\n",
       "      <td>1.46682</td>\n",
       "      <td>1.46549</td>\n",
       "      <td>1.46619</td>\n",
       "      <td>512</td>\n",
       "      <td>-2758.414310</td>\n",
       "      <td>1102</td>\n",
       "      <td>-0.196579</td>\n",
       "      <td>-0.139643</td>\n",
       "      <td>59.277433</td>\n",
       "      <td>...</td>\n",
       "      <td>38.052418</td>\n",
       "      <td>40.940767</td>\n",
       "      <td>41.986063</td>\n",
       "      <td>-59.059233</td>\n",
       "      <td>-0.002015</td>\n",
       "      <td>1.467604</td>\n",
       "      <td>0.094894</td>\n",
       "      <td>0.021148</td>\n",
       "      <td>0.021145</td>\n",
       "      <td>-0.498799</td>\n",
       "    </tr>\n",
       "  </tbody>\n",
       "</table>\n",
       "<p>3 rows × 75 columns</p>\n",
       "</div>"
      ],
      "text/plain": [
       "       open     high      low    close  volume   volume_adi  volume_obv  \\\n",
       "51  1.46722  1.46802  1.46640  1.46668    1030 -2100.361678        1275   \n",
       "52  1.46674  1.46722  1.46588  1.46588     685 -2785.361678         590   \n",
       "53  1.46589  1.46682  1.46549  1.46619     512 -2758.414310        1102   \n",
       "\n",
       "    volume_cmf  volume_fi  momentum_mfi  ...  momentum_uo  momentum_stoch  \\\n",
       "51   -0.165557  -0.129598     70.874071  ...    44.879637       49.477352   \n",
       "52   -0.216499  -0.189370     65.160717  ...    39.188040       35.540070   \n",
       "53   -0.196579  -0.139643     59.277433  ...    38.052418       40.940767   \n",
       "\n",
       "    momentum_stoch_signal  momentum_wr  momentum_ao  momentum_kama  \\\n",
       "51              56.736353   -50.522648    -0.001714       1.467623   \n",
       "52              47.677120   -64.459930    -0.001827       1.467610   \n",
       "53              41.986063   -59.059233    -0.002015       1.467604   \n",
       "\n",
       "    momentum_roc  others_dr  others_dlr  others_cr  \n",
       "51     -0.091279  -0.033398   -0.033403  -0.465546  \n",
       "52     -0.051819  -0.054545   -0.054560  -0.519837  \n",
       "53      0.094894   0.021148    0.021145  -0.498799  \n",
       "\n",
       "[3 rows x 75 columns]"
      ]
     },
     "execution_count": 5,
     "metadata": {},
     "output_type": "execute_result"
    }
   ],
   "source": [
    "data.head(3)"
   ]
  },
  {
   "cell_type": "markdown",
   "metadata": {},
   "source": [
    "## Scaling ```MinMaxScaling```"
   ]
  },
  {
   "cell_type": "code",
   "execution_count": 6,
   "metadata": {
    "execution": {
     "iopub.execute_input": "2020-09-21T12:51:47.089305Z",
     "iopub.status.busy": "2020-09-21T12:51:47.088305Z",
     "iopub.status.idle": "2020-09-21T12:51:47.097258Z",
     "shell.execute_reply": "2020-09-21T12:51:47.096290Z",
     "shell.execute_reply.started": "2020-09-21T12:51:47.089305Z"
    }
   },
   "outputs": [],
   "source": [
    "def scale_data(data, y_col=None, non_float_cols=None, scaler=None):\n",
    "    \"\"\"\n",
    "    args:\n",
    "        y_col: dependent var if y_col is in the master dataframe. \n",
    "        non_float_cols: this can be discreete vars that was will not use for GASF or GADF conversion - such as metadata. This data should be seperated\n",
    "        scaler: scaler to use: example: MinMaxScaler(feature_range(n0, n-1)), RobustScaler(), etc\n",
    "    \"\"\"\n",
    "    data = data.copy()\n",
    "    cols_to_ignore = [y_col] + non_float_cols if isinstance(non_float_cols, list) else [y_col] + [non_float_cols]\n",
    "    scaler = MinMaxScaler(feature_range=(0,1)) if scaler is None else scaler\n",
    "    cols_to_scale = [c for c in list(data.columns) if c not in cols_to_ignore]\n",
    "    for c in cols_to_scale:\n",
    "        if data.iloc[:][c].dtype!=np.float64: data[c] = data.iloc[:][c].astype('float64')\n",
    "        dd = data.iloc[:][c].values\n",
    "        dd = dd[:, None]\n",
    "        sc = scaler.fit(dd)\n",
    "        data.iloc[:][c] = sc.transform(dd).squeeze(1)\n",
    "    return data"
   ]
  },
  {
   "cell_type": "code",
   "execution_count": 7,
   "metadata": {
    "execution": {
     "iopub.execute_input": "2020-09-21T12:51:49.125327Z",
     "iopub.status.busy": "2020-09-21T12:51:49.125327Z",
     "iopub.status.idle": "2020-09-21T12:51:49.193233Z",
     "shell.execute_reply": "2020-09-21T12:51:49.193233Z",
     "shell.execute_reply.started": "2020-09-21T12:51:49.125327Z"
    }
   },
   "outputs": [],
   "source": [
    "data_dd = scale_data(data)"
   ]
  },
  {
   "cell_type": "code",
   "execution_count": 8,
   "metadata": {
    "execution": {
     "iopub.execute_input": "2020-09-21T12:51:49.343768Z",
     "iopub.status.busy": "2020-09-21T12:51:49.343768Z",
     "iopub.status.idle": "2020-09-21T12:51:49.359753Z",
     "shell.execute_reply": "2020-09-21T12:51:49.359753Z",
     "shell.execute_reply.started": "2020-09-21T12:51:49.343768Z"
    }
   },
   "outputs": [
    {
     "data": {
      "text/html": [
       "<div>\n",
       "<style scoped>\n",
       "    .dataframe tbody tr th:only-of-type {\n",
       "        vertical-align: middle;\n",
       "    }\n",
       "\n",
       "    .dataframe tbody tr th {\n",
       "        vertical-align: top;\n",
       "    }\n",
       "\n",
       "    .dataframe thead th {\n",
       "        text-align: right;\n",
       "    }\n",
       "</style>\n",
       "<table border=\"1\" class=\"dataframe\">\n",
       "  <thead>\n",
       "    <tr style=\"text-align: right;\">\n",
       "      <th></th>\n",
       "      <th>open</th>\n",
       "      <th>high</th>\n",
       "      <th>low</th>\n",
       "      <th>close</th>\n",
       "      <th>volume</th>\n",
       "      <th>volume_adi</th>\n",
       "      <th>volume_obv</th>\n",
       "      <th>volume_cmf</th>\n",
       "      <th>volume_fi</th>\n",
       "      <th>momentum_mfi</th>\n",
       "      <th>...</th>\n",
       "      <th>momentum_uo</th>\n",
       "      <th>momentum_stoch</th>\n",
       "      <th>momentum_stoch_signal</th>\n",
       "      <th>momentum_wr</th>\n",
       "      <th>momentum_ao</th>\n",
       "      <th>momentum_kama</th>\n",
       "      <th>momentum_roc</th>\n",
       "      <th>others_dr</th>\n",
       "      <th>others_dlr</th>\n",
       "      <th>others_cr</th>\n",
       "    </tr>\n",
       "  </thead>\n",
       "  <tbody>\n",
       "    <tr>\n",
       "      <th>51</th>\n",
       "      <td>0.888419</td>\n",
       "      <td>0.886621</td>\n",
       "      <td>0.933135</td>\n",
       "      <td>0.885927</td>\n",
       "      <td>0.011638</td>\n",
       "      <td>0.588008</td>\n",
       "      <td>0.392564</td>\n",
       "      <td>0.355333</td>\n",
       "      <td>0.973108</td>\n",
       "      <td>0.727863</td>\n",
       "      <td>...</td>\n",
       "      <td>0.415360</td>\n",
       "      <td>0.494774</td>\n",
       "      <td>0.566134</td>\n",
       "      <td>0.494774</td>\n",
       "      <td>0.794071</td>\n",
       "      <td>0.950882</td>\n",
       "      <td>0.766721</td>\n",
       "      <td>0.719473</td>\n",
       "      <td>0.727505</td>\n",
       "      <td>0.885927</td>\n",
       "    </tr>\n",
       "    <tr>\n",
       "      <th>52</th>\n",
       "      <td>0.886823</td>\n",
       "      <td>0.883944</td>\n",
       "      <td>0.931526</td>\n",
       "      <td>0.883247</td>\n",
       "      <td>0.007736</td>\n",
       "      <td>0.585924</td>\n",
       "      <td>0.391663</td>\n",
       "      <td>0.308299</td>\n",
       "      <td>0.973064</td>\n",
       "      <td>0.667834</td>\n",
       "      <td>...</td>\n",
       "      <td>0.328004</td>\n",
       "      <td>0.355401</td>\n",
       "      <td>0.474361</td>\n",
       "      <td>0.355401</td>\n",
       "      <td>0.793184</td>\n",
       "      <td>0.950837</td>\n",
       "      <td>0.769888</td>\n",
       "      <td>0.716799</td>\n",
       "      <td>0.724878</td>\n",
       "      <td>0.883247</td>\n",
       "    </tr>\n",
       "    <tr>\n",
       "      <th>53</th>\n",
       "      <td>0.883995</td>\n",
       "      <td>0.882605</td>\n",
       "      <td>0.930318</td>\n",
       "      <td>0.884286</td>\n",
       "      <td>0.005779</td>\n",
       "      <td>0.586006</td>\n",
       "      <td>0.392336</td>\n",
       "      <td>0.326691</td>\n",
       "      <td>0.973101</td>\n",
       "      <td>0.606020</td>\n",
       "      <td>...</td>\n",
       "      <td>0.310574</td>\n",
       "      <td>0.409408</td>\n",
       "      <td>0.416709</td>\n",
       "      <td>0.409408</td>\n",
       "      <td>0.791716</td>\n",
       "      <td>0.950815</td>\n",
       "      <td>0.781661</td>\n",
       "      <td>0.726370</td>\n",
       "      <td>0.734277</td>\n",
       "      <td>0.884286</td>\n",
       "    </tr>\n",
       "    <tr>\n",
       "      <th>54</th>\n",
       "      <td>0.885192</td>\n",
       "      <td>0.883609</td>\n",
       "      <td>0.931680</td>\n",
       "      <td>0.884118</td>\n",
       "      <td>0.002975</td>\n",
       "      <td>0.585487</td>\n",
       "      <td>0.391989</td>\n",
       "      <td>0.337846</td>\n",
       "      <td>0.973114</td>\n",
       "      <td>0.671127</td>\n",
       "      <td>...</td>\n",
       "      <td>0.264585</td>\n",
       "      <td>0.525114</td>\n",
       "      <td>0.426954</td>\n",
       "      <td>0.525114</td>\n",
       "      <td>0.790924</td>\n",
       "      <td>0.950764</td>\n",
       "      <td>0.774867</td>\n",
       "      <td>0.723265</td>\n",
       "      <td>0.731228</td>\n",
       "      <td>0.884118</td>\n",
       "    </tr>\n",
       "    <tr>\n",
       "      <th>55</th>\n",
       "      <td>0.884627</td>\n",
       "      <td>0.880463</td>\n",
       "      <td>0.929978</td>\n",
       "      <td>0.882310</td>\n",
       "      <td>0.002975</td>\n",
       "      <td>0.585125</td>\n",
       "      <td>0.391641</td>\n",
       "      <td>0.385122</td>\n",
       "      <td>0.973112</td>\n",
       "      <td>0.743398</td>\n",
       "      <td>...</td>\n",
       "      <td>0.236755</td>\n",
       "      <td>0.272222</td>\n",
       "      <td>0.398867</td>\n",
       "      <td>0.272222</td>\n",
       "      <td>0.789822</td>\n",
       "      <td>0.950492</td>\n",
       "      <td>0.770762</td>\n",
       "      <td>0.719039</td>\n",
       "      <td>0.727079</td>\n",
       "      <td>0.882310</td>\n",
       "    </tr>\n",
       "  </tbody>\n",
       "</table>\n",
       "<p>5 rows × 75 columns</p>\n",
       "</div>"
      ],
      "text/plain": [
       "        open      high       low     close    volume  volume_adi  volume_obv  \\\n",
       "51  0.888419  0.886621  0.933135  0.885927  0.011638    0.588008    0.392564   \n",
       "52  0.886823  0.883944  0.931526  0.883247  0.007736    0.585924    0.391663   \n",
       "53  0.883995  0.882605  0.930318  0.884286  0.005779    0.586006    0.392336   \n",
       "54  0.885192  0.883609  0.931680  0.884118  0.002975    0.585487    0.391989   \n",
       "55  0.884627  0.880463  0.929978  0.882310  0.002975    0.585125    0.391641   \n",
       "\n",
       "    volume_cmf  volume_fi  momentum_mfi  ...  momentum_uo  momentum_stoch  \\\n",
       "51    0.355333   0.973108      0.727863  ...     0.415360        0.494774   \n",
       "52    0.308299   0.973064      0.667834  ...     0.328004        0.355401   \n",
       "53    0.326691   0.973101      0.606020  ...     0.310574        0.409408   \n",
       "54    0.337846   0.973114      0.671127  ...     0.264585        0.525114   \n",
       "55    0.385122   0.973112      0.743398  ...     0.236755        0.272222   \n",
       "\n",
       "    momentum_stoch_signal  momentum_wr  momentum_ao  momentum_kama  \\\n",
       "51               0.566134     0.494774     0.794071       0.950882   \n",
       "52               0.474361     0.355401     0.793184       0.950837   \n",
       "53               0.416709     0.409408     0.791716       0.950815   \n",
       "54               0.426954     0.525114     0.790924       0.950764   \n",
       "55               0.398867     0.272222     0.789822       0.950492   \n",
       "\n",
       "    momentum_roc  others_dr  others_dlr  others_cr  \n",
       "51      0.766721   0.719473    0.727505   0.885927  \n",
       "52      0.769888   0.716799    0.724878   0.883247  \n",
       "53      0.781661   0.726370    0.734277   0.884286  \n",
       "54      0.774867   0.723265    0.731228   0.884118  \n",
       "55      0.770762   0.719039    0.727079   0.882310  \n",
       "\n",
       "[5 rows x 75 columns]"
      ]
     },
     "execution_count": 8,
     "metadata": {},
     "output_type": "execute_result"
    }
   ],
   "source": [
    "data_dd.head()"
   ]
  },
  {
   "cell_type": "markdown",
   "metadata": {},
   "source": [
    "## Splitting Data\n",
    "We will not begin to split the data into 'windows'. One important thing to note is that each window should be the same window used to train the model - this should be the sequence step we will use for the RNN/Transformer architecture. \n",
    "\n",
    "We will take this window of size n and slide it all the way till the last point in which the window fits. This will build the training data for c_col, that is for that specific columns. \n",
    "\n",
    "We will do this for individual columns.\n",
    "\n",
    "This data will then be used to create GADFs or GASFs which will be indexed in some manner through our Dataset object. "
   ]
  },
  {
   "cell_type": "code",
   "execution_count": 164,
   "metadata": {
    "execution": {
     "iopub.execute_input": "2020-09-21T04:34:48.362288Z",
     "iopub.status.busy": "2020-09-21T04:34:48.362288Z",
     "iopub.status.idle": "2020-09-21T04:34:49.138100Z",
     "shell.execute_reply": "2020-09-21T04:34:49.137190Z",
     "shell.execute_reply.started": "2020-09-21T04:34:48.362288Z"
    }
   },
   "outputs": [],
   "source": [
    "\"\"\"\n",
    "Example\n",
    "    window_size: how many time steps\n",
    "\"\"\"\n",
    "sample = data_dd['open']\n",
    "ddd = {'open':[]}\n",
    "\n",
    "window_size = 24\n",
    "n = len(data_dd)\n",
    "\n",
    "start_idx = 0\n",
    "end_idx = window_size\n",
    "last_idx = n - window_size\n",
    "\n",
    "while start_idx <= last_idx:\n",
    "    win = sample.iloc[start_idx:end_idx].values\n",
    "    ddd['open'].append(win)\n",
    "    start_idx+=1\n",
    "    end_idx+=1"
   ]
  },
  {
   "cell_type": "code",
   "execution_count": 23,
   "metadata": {
    "execution": {
     "iopub.execute_input": "2020-09-21T13:44:26.951138Z",
     "iopub.status.busy": "2020-09-21T13:44:26.951138Z",
     "iopub.status.idle": "2020-09-21T13:44:26.957122Z",
     "shell.execute_reply": "2020-09-21T13:44:26.957122Z",
     "shell.execute_reply.started": "2020-09-21T13:44:26.951138Z"
    }
   },
   "outputs": [],
   "source": [
    "def split_data(data_dd, y_col=None, cols_to_ignore=None, window_size=24):\n",
    "    \"\"\"\n",
    "    given data_dd (scaled data from some manner), we will return a dictionary of each feature in sequence format. By default the window will be 24 which represents 24 time steps -> in this case a single day of data. \n",
    "    \n",
    "    returns: \n",
    "        ddd: <dict> representing each feature with sequences of data. [0] will contain [n0, nM] where M is the timestep size or 'window_size'. [1] will be [[0]n0+1, [0]nM+1]. therefore, each idx in the array will be a single timestep ahead of the previous one. \n",
    "    \"\"\"\n",
    "    c2i = [y_col] + [cols_to_ignore] if not isinstance(cols_to_ignore, list) else cols_to_ignore\n",
    "    cols2ddd = [c for c in list(data.columns) if c not in c2i]\n",
    "    ddd = {c:[] for c in cols2ddd}\n",
    "\n",
    "    n = len(data_dd)\n",
    "\n",
    "    start_idx=0\n",
    "    end_idx=window_size\n",
    "    last_idx=n-window_size\n",
    "\n",
    "    while start_idx<=last_idx:\n",
    "        for c in cols2ddd:\n",
    "            sample = data_dd[c]\n",
    "            win = sample.iloc[start_idx:end_idx].values\n",
    "            ddd[c].append(win)\n",
    "        start_idx+=1\n",
    "        end_idx+=1\n",
    "        \n",
    "    return ddd"
   ]
  },
  {
   "cell_type": "code",
   "execution_count": 24,
   "metadata": {
    "execution": {
     "iopub.execute_input": "2020-09-21T13:44:37.725796Z",
     "iopub.status.busy": "2020-09-21T13:44:37.724830Z",
     "iopub.status.idle": "2020-09-21T13:45:44.372278Z",
     "shell.execute_reply": "2020-09-21T13:45:44.372278Z",
     "shell.execute_reply.started": "2020-09-21T13:44:37.725796Z"
    }
   },
   "outputs": [],
   "source": [
    "ddd = split_data(data_dd)"
   ]
  },
  {
   "cell_type": "code",
   "execution_count": 26,
   "metadata": {
    "execution": {
     "iopub.execute_input": "2020-09-21T13:46:02.520657Z",
     "iopub.status.busy": "2020-09-21T13:46:02.520657Z",
     "iopub.status.idle": "2020-09-21T13:46:03.909696Z",
     "shell.execute_reply": "2020-09-21T13:46:03.909696Z",
     "shell.execute_reply.started": "2020-09-21T13:46:02.520657Z"
    }
   },
   "outputs": [],
   "source": [
    "\"\"\"\n",
    "Stacking for right shape. The right shape per feature should be:\n",
    "    shape: [n, n_features]\n",
    "        n: number of sample, in this case is should be the length of the master datafrane after dropna\n",
    "        n_features: in this case this is the sequence size. Or the 'window_size' as it represents a sequence of n_features \n",
    "\"\"\"\n",
    "ddd = {k:np.stack(v) for k,v in ddd.items()}"
   ]
  },
  {
   "cell_type": "code",
   "execution_count": 29,
   "metadata": {
    "execution": {
     "iopub.execute_input": "2020-09-21T13:46:18.857304Z",
     "iopub.status.busy": "2020-09-21T13:46:18.857304Z",
     "iopub.status.idle": "2020-09-21T13:46:18.861294Z",
     "shell.execute_reply": "2020-09-21T13:46:18.861294Z",
     "shell.execute_reply.started": "2020-09-21T13:46:18.857304Z"
    }
   },
   "outputs": [],
   "source": [
    "def create_gasfd_defaults(size=None):\n",
    "    size = 24 if size is None else size\n",
    "    assert isinstance(size, int), 'size should be an int'\n",
    "    gasf = GramianAngularField(image_size=size, method='summation')\n",
    "    gadf = GramianAngularField(image_size=size, method='difference')\n",
    "    return gasf, gadf"
   ]
  },
  {
   "cell_type": "code",
   "execution_count": 30,
   "metadata": {
    "execution": {
     "iopub.execute_input": "2020-09-21T13:46:22.706282Z",
     "iopub.status.busy": "2020-09-21T13:46:22.706282Z",
     "iopub.status.idle": "2020-09-21T13:46:22.712265Z",
     "shell.execute_reply": "2020-09-21T13:46:22.711298Z",
     "shell.execute_reply.started": "2020-09-21T13:46:22.706282Z"
    }
   },
   "outputs": [],
   "source": [
    "\"\"\"\n",
    "GAXF, where x is either S or D. \n",
    "\n",
    "We will now convert our windowed data and convert each into a GAXf format. This is what will be fed into the PyTorch model STACKED for the number of features we want to use as independent vars.\n",
    "\"\"\"\n",
    "def gaxf_convert(ddd, c2='gasf', size=None):\n",
    "    if c2.lower() not in ['gasf', 'gadf']: return\n",
    "    gasf, gadf = create_gasfd_defaults(size=size)\n",
    "    if c2=='gasf': return {k:gasf.fit_transform(v) for k,v in ddd.items()}\n",
    "    else: return {k:gadf.fit_transform(v) for k,v in ddd.items()}"
   ]
  },
  {
   "cell_type": "code",
   "execution_count": 115,
   "metadata": {
    "execution": {
     "iopub.execute_input": "2020-09-21T16:03:26.604178Z",
     "iopub.status.busy": "2020-09-21T16:03:26.604178Z",
     "iopub.status.idle": "2020-09-21T16:03:37.159706Z",
     "shell.execute_reply": "2020-09-21T16:03:37.158709Z",
     "shell.execute_reply.started": "2020-09-21T16:03:26.604178Z"
    }
   },
   "outputs": [],
   "source": [
    "ddd_GASF = gaxf_convert(ddd)"
   ]
  },
  {
   "cell_type": "code",
   "execution_count": 34,
   "metadata": {
    "execution": {
     "iopub.execute_input": "2020-09-21T13:47:09.223717Z",
     "iopub.status.busy": "2020-09-21T13:47:09.223717Z",
     "iopub.status.idle": "2020-09-21T13:47:09.228704Z",
     "shell.execute_reply": "2020-09-21T13:47:09.228704Z",
     "shell.execute_reply.started": "2020-09-21T13:47:09.223717Z"
    }
   },
   "outputs": [],
   "source": [
    "def plot_gsxf_ts(gsxf_data_conv, i):\n",
    "    \"\"\"\n",
    "    Plotting gaxf. gaxf_data_conv is converted data into appropriate format. This is a single timestep\n",
    "    \"\"\"\n",
    "    plt.figure(figsize=(5,5))\n",
    "    plt.imshow(gsxf_data_conv, cmap='rainbow', origin='lower')\n",
    "    plt.title(f'gaxf: {i}')\n",
    "    plt.colorbar(fraction=0.0457, pad=0.04)\n",
    "    plt.tight_layout()\n",
    "    plt.show()\n",
    "    \n",
    "def plot_ts(ddd_GAXF, col='open', n=5):\n",
    "    for i in range(n):\n",
    "        gsxf_dc = ddd_GAXF[col][i]\n",
    "        plot_gsxf_ts(gsxf_dc, i)"
   ]
  },
  {
   "cell_type": "markdown",
   "metadata": {},
   "source": [
    "## Feature Stacking\n",
    "Now we need to stack each timestep (a single timestep in this case is a sequence of timesteps, super weird concept...). However, we will stack each timestep with n_features. Think of this as an image with n_features=n_channels. \n",
    "\n",
    "The reason we are going with this approach is because we can then utilize ConvNets"
   ]
  },
  {
   "cell_type": "code",
   "execution_count": 82,
   "metadata": {
    "execution": {
     "iopub.execute_input": "2020-09-21T15:13:28.802268Z",
     "iopub.status.busy": "2020-09-21T15:13:28.801307Z",
     "iopub.status.idle": "2020-09-21T15:13:29.823633Z",
     "shell.execute_reply": "2020-09-21T15:13:29.823633Z",
     "shell.execute_reply.started": "2020-09-21T15:13:28.802268Z"
    }
   },
   "outputs": [],
   "source": [
    "import torch\n",
    "import torch.nn as nn\n",
    "import torch.nn.functional as F\n",
    "from torch.utils.data import Dataset, DataLoader"
   ]
  },
  {
   "cell_type": "code",
   "execution_count": 116,
   "metadata": {
    "execution": {
     "iopub.execute_input": "2020-09-21T16:04:49.996550Z",
     "iopub.status.busy": "2020-09-21T16:04:49.988604Z",
     "iopub.status.idle": "2020-09-21T16:04:50.017529Z",
     "shell.execute_reply": "2020-09-21T16:04:50.017529Z",
     "shell.execute_reply.started": "2020-09-21T16:04:49.996550Z"
    }
   },
   "outputs": [],
   "source": [
    "def feature_stack(ddd_GAXF, y_col=None, cols_to_ignore=None):\n",
    "    \"\"\"\n",
    "    Given ddd_GAXF where X is either s or d, we will form a new dataset which is 'stacked_features' where each feature in a single timestep is stacked -> similar to an image. \n",
    "    \n",
    "    The shape of each timestep will then become\n",
    "    \n",
    "    shape: (n, features, h, w)\n",
    "    \n",
    "    where\n",
    "        n: the number of timesteps\n",
    "        features: all the features to stack, this can differ with cols_to_ignore added\n",
    "        h: height\n",
    "        w: width\n",
    "        \n",
    "    This is very similar to an image with c=features channels \n",
    "    \"\"\"\n",
    "    c2i = [y_col] + [cols_to_ignore] if not isinstance(cols_to_ignore, list) else cols_to_ignore\n",
    "    cols2stack = [c for c in list(ddd_GASF.keys()) if c not in c2i]\n",
    "    len_timesteps = len(ddd_GAXF[cols2stack[0]])\n",
    "    ddd_GAXF = {k:v[:,None,:,:] for k,v in ddd_GAXF.items()}\n",
    "    stacked_features = np.concatenate([v for _,v in ddd_GAXF.items()], 1)\n",
    "    return stacked_features"
   ]
  },
  {
   "cell_type": "code",
   "execution_count": 117,
   "metadata": {
    "execution": {
     "iopub.execute_input": "2020-09-21T16:04:50.189036Z",
     "iopub.status.busy": "2020-09-21T16:04:50.188067Z",
     "iopub.status.idle": "2020-09-21T16:04:58.009471Z",
     "shell.execute_reply": "2020-09-21T16:04:58.000728Z",
     "shell.execute_reply.started": "2020-09-21T16:04:50.189036Z"
    }
   },
   "outputs": [],
   "source": [
    "ddd_stacked = feature_stack(ddd_GASF)"
   ]
  },
  {
   "cell_type": "code",
   "execution_count": 118,
   "metadata": {
    "execution": {
     "iopub.execute_input": "2020-09-21T16:04:59.046700Z",
     "iopub.status.busy": "2020-09-21T16:04:59.044706Z",
     "iopub.status.idle": "2020-09-21T16:04:59.114520Z",
     "shell.execute_reply": "2020-09-21T16:04:59.106541Z",
     "shell.execute_reply.started": "2020-09-21T16:04:59.046700Z"
    }
   },
   "outputs": [
    {
     "data": {
      "text/plain": [
       "(12334, 75, 24, 24)"
      ]
     },
     "execution_count": 118,
     "metadata": {},
     "output_type": "execute_result"
    }
   ],
   "source": [
    "ddd_stacked.shape"
   ]
  },
  {
   "cell_type": "code",
   "execution_count": null,
   "metadata": {},
   "outputs": [],
   "source": []
  },
  {
   "cell_type": "code",
   "execution_count": null,
   "metadata": {},
   "outputs": [],
   "source": []
  },
  {
   "cell_type": "code",
   "execution_count": null,
   "metadata": {},
   "outputs": [],
   "source": []
  },
  {
   "cell_type": "code",
   "execution_count": null,
   "metadata": {},
   "outputs": [],
   "source": []
  },
  {
   "cell_type": "code",
   "execution_count": null,
   "metadata": {},
   "outputs": [],
   "source": []
  },
  {
   "cell_type": "code",
   "execution_count": null,
   "metadata": {},
   "outputs": [],
   "source": []
  },
  {
   "cell_type": "code",
   "execution_count": null,
   "metadata": {},
   "outputs": [],
   "source": []
  },
  {
   "cell_type": "code",
   "execution_count": null,
   "metadata": {},
   "outputs": [],
   "source": []
  },
  {
   "cell_type": "code",
   "execution_count": null,
   "metadata": {},
   "outputs": [],
   "source": []
  },
  {
   "cell_type": "code",
   "execution_count": null,
   "metadata": {},
   "outputs": [],
   "source": []
  }
 ],
 "metadata": {
  "kernelspec": {
   "display_name": "Python 3",
   "language": "python",
   "name": "python3"
  },
  "language_info": {
   "codemirror_mode": {
    "name": "ipython",
    "version": 3
   },
   "file_extension": ".py",
   "mimetype": "text/x-python",
   "name": "python",
   "nbconvert_exporter": "python",
   "pygments_lexer": "ipython3",
   "version": "3.7.3"
  }
 },
 "nbformat": 4,
 "nbformat_minor": 4
}
