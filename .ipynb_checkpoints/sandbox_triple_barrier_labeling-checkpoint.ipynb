{
 "cells": [
  {
   "cell_type": "markdown",
   "metadata": {},
   "source": [
    "# Triple Barrier Labeling\n",
    "In this notebook we will be going over tripple barrier labeling which will be the main labeling technique."
   ]
  },
  {
   "cell_type": "code",
   "execution_count": 1,
   "metadata": {
    "execution": {
     "iopub.execute_input": "2020-09-24T18:07:39.517860Z",
     "iopub.status.busy": "2020-09-24T18:07:39.517860Z",
     "iopub.status.idle": "2020-09-24T18:07:40.238366Z",
     "shell.execute_reply": "2020-09-24T18:07:40.238366Z",
     "shell.execute_reply.started": "2020-09-24T18:07:39.517860Z"
    }
   },
   "outputs": [],
   "source": [
    "import matplotlib.pyplot as plt\n",
    "import matplotlib as mpl\n",
    "mpl.style.use('seaborn')\n",
    "import pandas as pd\n",
    "import numpy as np\n",
    "import os\n",
    "from pathlib import Path"
   ]
  },
  {
   "cell_type": "code",
   "execution_count": 2,
   "metadata": {
    "execution": {
     "iopub.execute_input": "2020-09-24T18:07:40.635269Z",
     "iopub.status.busy": "2020-09-24T18:07:40.635269Z",
     "iopub.status.idle": "2020-09-24T18:07:40.639290Z",
     "shell.execute_reply": "2020-09-24T18:07:40.639290Z",
     "shell.execute_reply.started": "2020-09-24T18:07:40.635269Z"
    }
   },
   "outputs": [],
   "source": [
    "def load_data(root=None, remove=None, headers=None):\n",
    "    data = Path('./OmegaDev/Model_Z/raw_data/GBP_USD_H1_2016-01-01_2018-01-01.csv') if root is None else Path(root)\n",
    "    headers = ['date', 'complete', 'open', 'high', 'low', 'close', 'volume'] if headers is None else headers\n",
    "    df = pd.read_csv(data, header=None, names=headers)\n",
    "    return df"
   ]
  },
  {
   "cell_type": "code",
   "execution_count": 3,
   "metadata": {
    "execution": {
     "iopub.execute_input": "2020-09-24T18:07:40.769873Z",
     "iopub.status.busy": "2020-09-24T18:07:40.769873Z",
     "iopub.status.idle": "2020-09-24T18:07:40.774836Z",
     "shell.execute_reply": "2020-09-24T18:07:40.773838Z",
     "shell.execute_reply.started": "2020-09-24T18:07:40.769873Z"
    }
   },
   "outputs": [],
   "source": [
    "LONG = 1\n",
    "SHORT = -1"
   ]
  },
  {
   "cell_type": "code",
   "execution_count": 4,
   "metadata": {
    "execution": {
     "iopub.execute_input": "2020-09-24T18:07:40.877562Z",
     "iopub.status.busy": "2020-09-24T18:07:40.876564Z",
     "iopub.status.idle": "2020-09-24T18:07:40.905511Z",
     "shell.execute_reply": "2020-09-24T18:07:40.905511Z",
     "shell.execute_reply.started": "2020-09-24T18:07:40.877562Z"
    }
   },
   "outputs": [],
   "source": [
    "df = load_data()"
   ]
  },
  {
   "cell_type": "code",
   "execution_count": 5,
   "metadata": {
    "execution": {
     "iopub.execute_input": "2020-09-24T18:07:40.987269Z",
     "iopub.status.busy": "2020-09-24T18:07:40.987269Z",
     "iopub.status.idle": "2020-09-24T18:07:40.998270Z",
     "shell.execute_reply": "2020-09-24T18:07:40.998270Z",
     "shell.execute_reply.started": "2020-09-24T18:07:40.987269Z"
    }
   },
   "outputs": [],
   "source": [
    "df['date'] = pd.to_datetime(df['date'])"
   ]
  },
  {
   "cell_type": "code",
   "execution_count": 6,
   "metadata": {
    "execution": {
     "iopub.execute_input": "2020-09-24T18:07:41.123902Z",
     "iopub.status.busy": "2020-09-24T18:07:41.123902Z",
     "iopub.status.idle": "2020-09-24T18:07:41.139858Z",
     "shell.execute_reply": "2020-09-24T18:07:41.139858Z",
     "shell.execute_reply.started": "2020-09-24T18:07:41.123902Z"
    }
   },
   "outputs": [
    {
     "data": {
      "text/html": [
       "<div>\n",
       "<style scoped>\n",
       "    .dataframe tbody tr th:only-of-type {\n",
       "        vertical-align: middle;\n",
       "    }\n",
       "\n",
       "    .dataframe tbody tr th {\n",
       "        vertical-align: top;\n",
       "    }\n",
       "\n",
       "    .dataframe thead th {\n",
       "        text-align: right;\n",
       "    }\n",
       "</style>\n",
       "<table border=\"1\" class=\"dataframe\">\n",
       "  <thead>\n",
       "    <tr style=\"text-align: right;\">\n",
       "      <th></th>\n",
       "      <th>date</th>\n",
       "      <th>complete</th>\n",
       "      <th>open</th>\n",
       "      <th>high</th>\n",
       "      <th>low</th>\n",
       "      <th>close</th>\n",
       "      <th>volume</th>\n",
       "    </tr>\n",
       "  </thead>\n",
       "  <tbody>\n",
       "    <tr>\n",
       "      <th>0</th>\n",
       "      <td>2016-01-03 22:00:00</td>\n",
       "      <td>True</td>\n",
       "      <td>1.47352</td>\n",
       "      <td>1.47464</td>\n",
       "      <td>1.47351</td>\n",
       "      <td>1.47354</td>\n",
       "      <td>1068</td>\n",
       "    </tr>\n",
       "    <tr>\n",
       "      <th>1</th>\n",
       "      <td>2016-01-03 23:00:00</td>\n",
       "      <td>True</td>\n",
       "      <td>1.47343</td>\n",
       "      <td>1.47382</td>\n",
       "      <td>1.47266</td>\n",
       "      <td>1.47356</td>\n",
       "      <td>938</td>\n",
       "    </tr>\n",
       "    <tr>\n",
       "      <th>2</th>\n",
       "      <td>2016-01-04 00:00:00</td>\n",
       "      <td>True</td>\n",
       "      <td>1.47364</td>\n",
       "      <td>1.47412</td>\n",
       "      <td>1.47240</td>\n",
       "      <td>1.47278</td>\n",
       "      <td>570</td>\n",
       "    </tr>\n",
       "    <tr>\n",
       "      <th>3</th>\n",
       "      <td>2016-01-04 01:00:00</td>\n",
       "      <td>True</td>\n",
       "      <td>1.47284</td>\n",
       "      <td>1.47301</td>\n",
       "      <td>1.46936</td>\n",
       "      <td>1.47177</td>\n",
       "      <td>1133</td>\n",
       "    </tr>\n",
       "    <tr>\n",
       "      <th>4</th>\n",
       "      <td>2016-01-04 02:00:00</td>\n",
       "      <td>True</td>\n",
       "      <td>1.47183</td>\n",
       "      <td>1.47234</td>\n",
       "      <td>1.47041</td>\n",
       "      <td>1.47184</td>\n",
       "      <td>865</td>\n",
       "    </tr>\n",
       "  </tbody>\n",
       "</table>\n",
       "</div>"
      ],
      "text/plain": [
       "                 date  complete     open     high      low    close  volume\n",
       "0 2016-01-03 22:00:00      True  1.47352  1.47464  1.47351  1.47354    1068\n",
       "1 2016-01-03 23:00:00      True  1.47343  1.47382  1.47266  1.47356     938\n",
       "2 2016-01-04 00:00:00      True  1.47364  1.47412  1.47240  1.47278     570\n",
       "3 2016-01-04 01:00:00      True  1.47284  1.47301  1.46936  1.47177    1133\n",
       "4 2016-01-04 02:00:00      True  1.47183  1.47234  1.47041  1.47184     865"
      ]
     },
     "execution_count": 6,
     "metadata": {},
     "output_type": "execute_result"
    }
   ],
   "source": [
    "df.head()"
   ]
  },
  {
   "cell_type": "code",
   "execution_count": 7,
   "metadata": {
    "execution": {
     "iopub.execute_input": "2020-09-24T18:07:41.238596Z",
     "iopub.status.busy": "2020-09-24T18:07:41.238596Z",
     "iopub.status.idle": "2020-09-24T18:07:41.389216Z",
     "shell.execute_reply": "2020-09-24T18:07:41.389216Z",
     "shell.execute_reply.started": "2020-09-24T18:07:41.238596Z"
    }
   },
   "outputs": [
    {
     "data": {
      "text/plain": [
       "<matplotlib.axes._subplots.AxesSubplot at 0x2013e04fc88>"
      ]
     },
     "execution_count": 7,
     "metadata": {},
     "output_type": "execute_result"
    },
    {
     "data": {
      "image/png": "[encoded data removed]",
      "text/plain": [
       "<Figure size 432x288 with 1 Axes>"
      ]
     },
     "metadata": {
      "needs_background": "light"
     },
     "output_type": "display_data"
    }
   ],
   "source": [
    "df.iloc[:24*14]['close'].plot()"
   ]
  },
  {
   "cell_type": "code",
   "execution_count": 8,
   "metadata": {
    "execution": {
     "iopub.execute_input": "2020-09-24T18:07:41.472996Z",
     "iopub.status.busy": "2020-09-24T18:07:41.472996Z",
     "iopub.status.idle": "2020-09-24T18:07:41.476977Z",
     "shell.execute_reply": "2020-09-24T18:07:41.476977Z",
     "shell.execute_reply.started": "2020-09-24T18:07:41.472996Z"
    }
   },
   "outputs": [],
   "source": [
    "close_prices = df['close'].copy()"
   ]
  },
  {
   "cell_type": "code",
   "execution_count": 9,
   "metadata": {
    "execution": {
     "iopub.execute_input": "2020-09-24T18:07:41.625101Z",
     "iopub.status.busy": "2020-09-24T18:07:41.625101Z",
     "iopub.status.idle": "2020-09-24T18:07:41.632052Z",
     "shell.execute_reply": "2020-09-24T18:07:41.632052Z",
     "shell.execute_reply.started": "2020-09-24T18:07:41.625101Z"
    }
   },
   "outputs": [],
   "source": [
    "close = df[['date', 'close']].set_index('date').iloc[:,0].copy()"
   ]
  },
  {
   "cell_type": "code",
   "execution_count": 10,
   "metadata": {
    "execution": {
     "iopub.execute_input": "2020-09-24T18:07:41.720838Z",
     "iopub.status.busy": "2020-09-24T18:07:41.720838Z",
     "iopub.status.idle": "2020-09-24T18:07:42.097841Z",
     "shell.execute_reply": "2020-09-24T18:07:42.097841Z",
     "shell.execute_reply.started": "2020-09-24T18:07:41.720838Z"
    }
   },
   "outputs": [],
   "source": [
    "from finance_ml.labeling import get_barrier_labels, cusum_filter\n",
    "import multiprocessing as mp\n",
    "import numbers\n",
    "import time\n",
    "from datetime import datetime\n",
    "import sys\n",
    "from copy import deepcopy"
   ]
  },
  {
   "cell_type": "code",
   "execution_count": 11,
   "metadata": {
    "execution": {
     "iopub.execute_input": "2020-09-24T18:07:42.098803Z",
     "iopub.status.busy": "2020-09-24T18:07:42.098803Z",
     "iopub.status.idle": "2020-09-24T18:07:42.105808Z",
     "shell.execute_reply": "2020-09-24T18:07:42.105808Z",
     "shell.execute_reply.started": "2020-09-24T18:07:42.098803Z"
    }
   },
   "outputs": [],
   "source": [
    "def linear_parts(num_atoms, num_threads):\n",
    "    \"\"\"Linear partitions\n",
    "    Parameters\n",
    "    ----------\n",
    "    num_atoms: int\n",
    "        The number of data points\n",
    "    num_threads: int\n",
    "        The number of partitions to split\n",
    "    Returns\n",
    "    -------\n",
    "    array: indices of start and end\n",
    "    \"\"\"\n",
    "    parts = np.linspace(0, num_atoms, min(num_threads, num_atoms) + 1)\n",
    "    parts = np.ceil(parts).astype(int)\n",
    "    return parts\n",
    "\n",
    "\n",
    "def nested_parts(num_atoms, num_threads, descend=False):\n",
    "    \"\"\"Nested partitions\n",
    "    Parameters\n",
    "    ----------\n",
    "    num_atoms: int\n",
    "        The number of data points\n",
    "    num_threads: int\n",
    "        The number of partitions to split\n",
    "    descent: bool, (default False)\n",
    "        If True, the size of partitions are decreasing\n",
    "    Returns\n",
    "    -------\n",
    "    array: indices of start and end\n",
    "    \"\"\"\n",
    "    parts = [0]\n",
    "    num_threads = min(num_threads, num_atoms)\n",
    "    for num in range(num_threads):\n",
    "        part = 1 + 4 * (parts[-1] ** 2 + parts[-1] + num_atoms * (num_atoms + 1.) / num_threads)\n",
    "        part = 0.5 * (-1 + np.sqrt(part))\n",
    "        parts.append(part)\n",
    "    if descend:\n",
    "        # Computational decreases as index increases\n",
    "        parts = np.cumsum(np.diff(parts)[::-1])\n",
    "        parts = np.append(np.array([0]), parts)\n",
    "    parts = np.round(parts).astype(int)\n",
    "    return parts"
   ]
  },
  {
   "cell_type": "code",
   "execution_count": 12,
   "metadata": {
    "execution": {
     "iopub.execute_input": "2020-09-24T18:07:42.146240Z",
     "iopub.status.busy": "2020-09-24T18:07:42.146240Z",
     "iopub.status.idle": "2020-09-24T18:07:42.157217Z",
     "shell.execute_reply": "2020-09-24T18:07:42.157217Z",
     "shell.execute_reply.started": "2020-09-24T18:07:42.146240Z"
    }
   },
   "outputs": [],
   "source": [
    "from tqdm import tqdm_notebook as tqdm"
   ]
  },
  {
   "cell_type": "code",
   "execution_count": 13,
   "metadata": {
    "execution": {
     "iopub.execute_input": "2020-09-24T18:07:42.313767Z",
     "iopub.status.busy": "2020-09-24T18:07:42.312769Z",
     "iopub.status.idle": "2020-09-24T18:07:42.321744Z",
     "shell.execute_reply": "2020-09-24T18:07:42.320746Z",
     "shell.execute_reply.started": "2020-09-24T18:07:42.312769Z"
    }
   },
   "outputs": [],
   "source": [
    "def mp_pandas_obj(func, pd_obj, num_threads=1, mp_batches=1,\n",
    "                  linear_mols=True,\n",
    "                  descend=False, **kwargs):\n",
    "    \"\"\"Return multiprocessed results\n",
    "    Parameters\n",
    "    ----------\n",
    "    func: function object\n",
    "    pd_obj: list\n",
    "        pd_obj[0]: The name of parameters to be parallelized\n",
    "        pd_obj[1]: List of parameters to be parallelized\n",
    "    mp_batches: int\n",
    "        The number of batches processed for each thread\n",
    "    linear_mols: bool\n",
    "        If True, use linear partition\n",
    "        If False, use nested partition\n",
    "    descend: bool\n",
    "        The parameter for nested partitions\n",
    "    kwargs: optional parameters of `func`\n",
    "    Returns\n",
    "    -------\n",
    "    The same type as the output of func\n",
    "    \"\"\"\n",
    "    if linear_mols:\n",
    "        parts = linear_parts(len(pd_obj[1]), num_threads * mp_batches)\n",
    "    else:\n",
    "        parts = nested_parts(len(pd_obj[1]), num_threads * mp_batches, descend)\n",
    "    jobs = []\n",
    "    for i in tqdm(range(1, len(parts))):\n",
    "        job = {pd_obj[0]: pd_obj[1][parts[i - 1]: parts[i]], 'func': func}\n",
    "        job.update(kwargs)\n",
    "        jobs.append(job)\n",
    "    outputs = process_jobs(jobs, num_threads=num_threads)\n",
    "    # You can use either of pd.Series or pd.DatFrame\n",
    "    if isinstance(outputs[0], pd.Series):\n",
    "        df = pd.Series()\n",
    "    elif isinstance(outputs[0], pd.DataFrame):\n",
    "        df = pd.DataFrame()\n",
    "    else:\n",
    "        return outputs\n",
    "    # The case of multiple threads\n",
    "    for output in outputs:\n",
    "        df = df.append(output)\n",
    "    df = df.sort_index()\n",
    "    return df"
   ]
  },
  {
   "cell_type": "code",
   "execution_count": 14,
   "metadata": {
    "execution": {
     "iopub.execute_input": "2020-09-24T18:07:42.488301Z",
     "iopub.status.busy": "2020-09-24T18:07:42.488301Z",
     "iopub.status.idle": "2020-09-24T18:07:42.498274Z",
     "shell.execute_reply": "2020-09-24T18:07:42.497276Z",
     "shell.execute_reply.started": "2020-09-24T18:07:42.488301Z"
    }
   },
   "outputs": [],
   "source": [
    "def report_progress(job_idx, num_jobs, time0, task):\n",
    "    \"\"\"Report progress to system output\"\"\"\n",
    "    msg = [float(job_idx) / num_jobs, (time.time() - time0) / 60.]\n",
    "    msg.append(msg[1] * (1 / msg[0] - 1))\n",
    "    time_stamp = str(datetime.fromtimestamp(time.time()))\n",
    "    msg_ = time_stamp + ' ' + str(\n",
    "        round(msg[0] * 100, 2)) + '% ' + task + ' done after ' + \\\n",
    "           str(round(msg[1], 2)) + ' minutes. Remaining ' + str(\n",
    "        round(msg[2], 2)) + ' minutes.'\n",
    "    if job_idx < num_jobs:\n",
    "        sys.stderr.write(msg_ + '\\r')\n",
    "    else:\n",
    "        sys.stderr.write(msg_ + '\\n')"
   ]
  },
  {
   "cell_type": "code",
   "execution_count": 15,
   "metadata": {
    "execution": {
     "iopub.execute_input": "2020-09-24T18:07:42.801462Z",
     "iopub.status.busy": "2020-09-24T18:07:42.801462Z",
     "iopub.status.idle": "2020-09-24T18:07:42.808444Z",
     "shell.execute_reply": "2020-09-24T18:07:42.808444Z",
     "shell.execute_reply.started": "2020-09-24T18:07:42.801462Z"
    }
   },
   "outputs": [],
   "source": [
    "def process_jobs(jobs, task=None, num_threads=24):\n",
    "    \"\"\"Execute parallelized jobs\n",
    "    Parameters\n",
    "    ----------\n",
    "    jobs: list(dict)\n",
    "        Each element contains `function` and its parameters\n",
    "    task: str, optional\n",
    "        The name of task. If not specified, function name is used\n",
    "    num_threads, (default 24)\n",
    "        The number of threads for parallelization\n",
    "    Returns\n",
    "    -------\n",
    "    List: each element is results of each part\n",
    "    \"\"\"\n",
    "    if task is None:\n",
    "        task = jobs[0]['func'].__name__\n",
    "    out = []\n",
    "    if num_threads > 1:\n",
    "        pool = mp.Pool(processes=num_threads)\n",
    "        outputs = pool.imap_unordered(expand_call, jobs)\n",
    "        time0 = time.time()\n",
    "        # Execute programs here\n",
    "        for i, out_ in enumerate(tqdm(outputs), 1):\n",
    "            out.append(out_)\n",
    "#             report_progress(i, len(jobs), time0, task)\n",
    "        pool.close()\n",
    "        pool.join()\n",
    "    else:\n",
    "        for job in tqdm(jobs):\n",
    "            job = deepcopy(job)\n",
    "            func = job['func']\n",
    "            del job['func']\n",
    "            out_ = func(**job)\n",
    "            out.append(out_)\n",
    "    return out"
   ]
  },
  {
   "cell_type": "code",
   "execution_count": 16,
   "metadata": {
    "execution": {
     "iopub.execute_input": "2020-09-24T18:07:43.078334Z",
     "iopub.status.busy": "2020-09-24T18:07:43.078334Z",
     "iopub.status.idle": "2020-09-24T18:07:43.082325Z",
     "shell.execute_reply": "2020-09-24T18:07:43.082325Z",
     "shell.execute_reply.started": "2020-09-24T18:07:43.078334Z"
    }
   },
   "outputs": [],
   "source": [
    "def expand_call(kwargs):\n",
    "    \"\"\"Execute function from dictionary input\"\"\"\n",
    "    func = kwargs['func']\n",
    "    del kwargs['func']\n",
    "    out = func(**kwargs)\n",
    "    return out"
   ]
  },
  {
   "cell_type": "code",
   "execution_count": 17,
   "metadata": {
    "execution": {
     "iopub.execute_input": "2020-09-24T18:07:43.345619Z",
     "iopub.status.busy": "2020-09-24T18:07:43.344621Z",
     "iopub.status.idle": "2020-09-24T18:07:43.350639Z",
     "shell.execute_reply": "2020-09-24T18:07:43.350639Z",
     "shell.execute_reply.started": "2020-09-24T18:07:43.345619Z"
    }
   },
   "outputs": [],
   "source": [
    "def get_vol(close, span=20, hours=1, seconds=None):\n",
    "    delta = pd.Timedelta(hours, unit='hours')\n",
    "    use_idx = close.index.searchsorted(close.index - delta)\n",
    "    prev_idx = pd.Series(use_idx, index=close.index)\n",
    "    prev_idx = prev_idx[prev_idx > 0]\n",
    "    prev_idx = prev_idx.drop_duplicates()\n",
    "    ret = close[prev_idx.index] / close[prev_idx].values - 1\n",
    "    vol = ret.ewm(span=span).std()\n",
    "    return vol"
   ]
  },
  {
   "cell_type": "code",
   "execution_count": 18,
   "metadata": {
    "execution": {
     "iopub.execute_input": "2020-09-24T18:07:43.572603Z",
     "iopub.status.busy": "2020-09-24T18:07:43.572603Z",
     "iopub.status.idle": "2020-09-24T18:07:43.577617Z",
     "shell.execute_reply": "2020-09-24T18:07:43.577617Z",
     "shell.execute_reply.started": "2020-09-24T18:07:43.572603Z"
    }
   },
   "outputs": [],
   "source": [
    "def get_t1(close, timestamps, hours=None):\n",
    "    \"\"\"\n",
    "    Returns horizontal timestamps\n",
    "    \"\"\"\n",
    "    delta = pd.Timedelta(hours, unit='hours')\n",
    "    t1 = close.index.searchsorted(timestamps + delta)\n",
    "    t1 = t1[t1 < close.shape[0]]\n",
    "    t1 = pd.Series(close.index[t1], index=timestamps[:t1.shape[0]])\n",
    "    return t1"
   ]
  },
  {
   "cell_type": "code",
   "execution_count": 19,
   "metadata": {
    "execution": {
     "iopub.execute_input": "2020-09-24T18:07:43.855850Z",
     "iopub.status.busy": "2020-09-24T18:07:43.854872Z",
     "iopub.status.idle": "2020-09-24T18:07:43.863823Z",
     "shell.execute_reply": "2020-09-24T18:07:43.863823Z",
     "shell.execute_reply.started": "2020-09-24T18:07:43.855850Z"
    }
   },
   "outputs": [],
   "source": [
    "def get_touch_idx(close, events, sltp, molecule=None):\n",
    "    \"\"\"Return timestamps of when data points touch the barriers\n",
    "    Parameters\n",
    "    ----------\n",
    "    close: pd.Series\n",
    "        Close price series\n",
    "    events: pd.DataFrame with columns: 't1', 'trgt', and 'side'\n",
    "        t1: time stamp of vertical barrier, could be np.nan\n",
    "        trgt: unit of width of horizontal barriers\n",
    "        side: Side label for metalabeling\n",
    "    sltp: list\n",
    "        Coefficients of width of Stop Loss and Take Profit.\n",
    "        sltp[0] and sltp[1] correspond to width of stop loss\n",
    "        and take profit, respectively. If 0 or negative, the barrier\n",
    "        is siwthced off.\n",
    "    molecule: list, optional\n",
    "        Subset of indices of events to be processed\n",
    "    Returns\n",
    "    -------\n",
    "    pd.DataFrame: each colum corresponds to the time to touch the barrier\n",
    "    \"\"\"\n",
    "    # Sample a subset with specific indices\n",
    "    if molecule is not None:\n",
    "        _events = events.loc[molecule]\n",
    "    else:\n",
    "        _events = events\n",
    "    touch_idx = pd.DataFrame(index=_events.index)\n",
    "    # Set Stop Loss and Take Profoit\n",
    "    if sltp[0] > 0:\n",
    "        sls = -sltp[0] * _events[\"trgt\"]\n",
    "    else:\n",
    "        # Switch off stop loss\n",
    "        sls = pd.Series(index=_events.index)\n",
    "    if sltp[1] > 0:\n",
    "        tps = sltp[1] * _events[\"trgt\"]\n",
    "    else:\n",
    "        # Switch off profit taking\n",
    "        tps = pd.Series(index=_events.index)\n",
    "    # Replace undefined value with the last time index\n",
    "    vertical_lines = _events[\"t1\"].fillna(close.index[-1])\n",
    "    for loc, t1 in vertical_lines.iteritems():\n",
    "        df = close[loc:t1]\n",
    "        # Change the direction depending on the side\n",
    "        df = (df / close[loc] - 1) * _events.at[loc, 'side']\n",
    "        touch_idx.at[loc, 'sl'] = df[df < sls[loc]].index.min()\n",
    "        touch_idx.at[loc, 'tp'] = df[df > tps[loc]].index.min()\n",
    "    touch_idx['t1'] = _events['t1'].copy(deep=True)\n",
    "    return touch_idx"
   ]
  },
  {
   "cell_type": "code",
   "execution_count": 20,
   "metadata": {
    "execution": {
     "iopub.execute_input": "2020-09-24T18:07:44.069298Z",
     "iopub.status.busy": "2020-09-24T18:07:44.069298Z",
     "iopub.status.idle": "2020-09-24T18:07:44.080277Z",
     "shell.execute_reply": "2020-09-24T18:07:44.080277Z",
     "shell.execute_reply.started": "2020-09-24T18:07:44.069298Z"
    }
   },
   "outputs": [],
   "source": [
    "def get_events(close, timestamps, sltp=None, trgt=None, min_trgt=0, num_threads=1, t1=None, side=None):\n",
    "    \"\"\"\n",
    "    Return dataframe containing information defining barriers\n",
    "    \n",
    "    Args:\n",
    "    ---------\n",
    "    close: pd.Series\n",
    "    timestamps: pd.DatetimeIndex -> sampled points to analyze\n",
    "    sltp: list, int\n",
    "        Coefficients of width of stop loss and take profit.\n",
    "        sltp[0] and sltp[1] correspond to width of stop loss\n",
    "        and take profit. If 0 or negative, the barrier is switched off\n",
    "    trgt: pd.Series\n",
    "        Time series of threshold\n",
    "        If not specified we will switch off horizontal thresholds\n",
    "    min_trgt: float\n",
    "        Minimum value of threshold to label\n",
    "    num_threads: int\n",
    "        The number of threads to use\n",
    "    t1: pd.Series\n",
    "        Vertical Lines\n",
    "    \"\"\"\n",
    "    if trgt is None:\n",
    "        # switch off horizontal barriers\n",
    "        trgt = pd.Series(1 + min_trgt, index=timestamps)\n",
    "        sltp = -1\n",
    "    elif isinstance(trgt, numbers.Number):\n",
    "        trgt = pd.Series(trgt, index=timestamps)\n",
    "        \n",
    "    # get sampled target values\n",
    "    trgt = trgt.loc[timestamps]\n",
    "    trgt = trgt[trgt > min_trgt]\n",
    "    if len(trgt) == 0:\n",
    "        return pd.DataFrame(columns=['t1', 'trgt', 'side'])\n",
    "    \n",
    "    # get time boundary t1\n",
    "    if t1 is None:\n",
    "        t1 = pd.Series(pd.NaT, index=timestamps)\n",
    "        \n",
    "    # sltp has to either be of int, list, or none\n",
    "    if isinstance(sltp, list) or isinstance(sltp, tuple):\n",
    "        _sltp = sltp[:2]\n",
    "    else:\n",
    "        _sltp = [sltp, sltp]\n",
    "        \n",
    "    # define the side\n",
    "    if side is None:\n",
    "        # default is LONG\n",
    "        _side = pd.Series(LONG, index=trgt.index)\n",
    "    else:\n",
    "        _side = side.loc[trgt.index]\n",
    "        \n",
    "    events = pd.concat({'t1': t1, 'trgt': trgt, 'side':_side}, axis=1)\n",
    "    events = events.dropna(subset=['trgt'])\n",
    "    time_idx = mp_pandas_obj(\n",
    "        func=get_touch_idx,\n",
    "        pd_obj=('molecule', events.index),\n",
    "        num_threads=num_threads,\n",
    "        close=close, events=events, sltp=_sltp)\n",
    "    \n",
    "    # skip when all of barrier are not touched\n",
    "    time_idx = time_idx.dropna(how='all')\n",
    "    events['type'] = time_idx.idxmin(axis=1)\n",
    "    events['t1'] = time_idx.min(axis=1)\n",
    "    if side is None:\n",
    "        events = events.drop('side', axis=1)\n",
    "        \n",
    "    return events"
   ]
  },
  {
   "cell_type": "code",
   "execution_count": 21,
   "metadata": {
    "execution": {
     "iopub.execute_input": "2020-09-24T18:07:44.336120Z",
     "iopub.status.busy": "2020-09-24T18:07:44.336120Z",
     "iopub.status.idle": "2020-09-24T18:07:44.344097Z",
     "shell.execute_reply": "2020-09-24T18:07:44.344097Z",
     "shell.execute_reply.started": "2020-09-24T18:07:44.336120Z"
    }
   },
   "outputs": [],
   "source": [
    "def get_labels(close, events, min_ret=0, sign_label=True, zero_label=0):\n",
    "    \"\"\"Return label\n",
    "    Parameters\n",
    "    ----------\n",
    "    close: pd.Series\n",
    "    events: pd.DataFrame\n",
    "        t1: time of barrier\n",
    "        type: type of barrier - tp, sl, or t1\n",
    "        trgt: horizontal barrier width\n",
    "        side: position side\n",
    "    min_ret: float\n",
    "        Minimum of absolute value for labeling non zero label. min_ret >=0\n",
    "    sign_label: bool, (default True)\n",
    "        If True, assign label for points touching vertical\n",
    "        line accroing to return's sign\n",
    "    zero_label: int, optional\n",
    "        If specified, use it for the label of zero value of return\n",
    "        If not, get rid of samples\n",
    "    Returnst\n",
    "    -------\n",
    "    pd.Series\n",
    "    \"\"\"\n",
    "    # Prices algined with events\n",
    "    events = events.dropna(subset=['t1'])\n",
    "    # All used indices\n",
    "    time_idx = events.index.union(events['t1'].values).drop_duplicates()\n",
    "    close = close.reindex(time_idx, method='bfill')\n",
    "    # Create out object\n",
    "    out = pd.DataFrame(index=events.index)\n",
    "    out['ret'] = close.loc[events['t1'].values].values / close.loc[\n",
    "        events.index] - 1.\n",
    "    # Modify return according to the side\n",
    "    if 'side' in events:\n",
    "        out['ret'] *= events['side']\n",
    "        out['side'] = events['side']\n",
    "    # Assign labels\n",
    "    out = out.dropna()\n",
    "    out['label'] = np.sign(out['ret'])\n",
    "    if 'side' in events:\n",
    "        out.loc[out['ret'] <= min_ret, 'label'] = zero_label\n",
    "    else:\n",
    "        out.loc[(out['ret'] <= min_ret) & (out['ret'] >= -min_ret), 'label'] = zero_label\n",
    "    if not sign_label:\n",
    "        out['label'].loc[events['type'] == 't1'] = zero_label\n",
    "    out['t1'] = events['t1']\n",
    "    out['type'] = events['type']\n",
    "    return out"
   ]
  },
  {
   "cell_type": "code",
   "execution_count": 22,
   "metadata": {
    "execution": {
     "iopub.execute_input": "2020-09-24T18:07:44.707151Z",
     "iopub.status.busy": "2020-09-24T18:07:44.707151Z",
     "iopub.status.idle": "2020-09-24T18:07:44.713111Z",
     "shell.execute_reply": "2020-09-24T18:07:44.713111Z",
     "shell.execute_reply.started": "2020-09-24T18:07:44.707151Z"
    }
   },
   "outputs": [],
   "source": [
    "def get_barrier_labels(close, timestamps=None, trgt=None, sltp=[1,1], hours=1, min_trgt=0, min_ret=0, num_threads=None, side=None, sign_label=True, zero_label=0):\n",
    "    t1 = get_t1(close, timestamps, hours=hours)\n",
    "    num_threads = mp.cpu_count() if num_threads is None else num_threads\n",
    "    events = get_events(close, timestamps,\n",
    "                        sltp=[1, 1],\n",
    "                        trgt=trgt,\n",
    "                        min_trgt=min_trgt,\n",
    "                        num_threads=num_threads,\n",
    "                        t1=t1, side=side)\n",
    "    print('finished events')\n",
    "    labels = get_labels(close, events, min_ret=min_ret, sign_label=sign_label, zero_label=zero_label)\n",
    "    print('finished labels')\n",
    "    return labels"
   ]
  },
  {
   "cell_type": "code",
   "execution_count": 23,
   "metadata": {
    "execution": {
     "iopub.execute_input": "2020-09-24T18:07:45.053556Z",
     "iopub.status.busy": "2020-09-24T18:07:45.053556Z",
     "iopub.status.idle": "2020-09-24T18:07:45.886994Z",
     "shell.execute_reply": "2020-09-24T18:07:45.886994Z",
     "shell.execute_reply.started": "2020-09-24T18:07:45.053556Z"
    }
   },
   "outputs": [],
   "source": [
    "vol = trgt = get_vol(close)\n",
    "timestamps = cusum_filter(close, vol)"
   ]
  },
  {
   "cell_type": "code",
   "execution_count": 24,
   "metadata": {
    "execution": {
     "iopub.execute_input": "2020-09-24T18:07:46.335736Z",
     "iopub.status.busy": "2020-09-24T18:07:46.335736Z",
     "iopub.status.idle": "2020-09-24T18:07:52.679667Z",
     "shell.execute_reply": "2020-09-24T18:07:52.679667Z",
     "shell.execute_reply.started": "2020-09-24T18:07:46.335736Z"
    }
   },
   "outputs": [
    {
     "name": "stderr",
     "output_type": "stream",
     "text": [
      "C:\\Users\\dmber\\Anaconda3\\lib\\site-packages\\ipykernel_launcher.py:31: FutureWarning: \n",
      "Passing list-likes to .loc or [] with any missing label will raise\n",
      "KeyError in the future, you can use .reindex() as an alternative.\n",
      "\n",
      "See the documentation here:\n",
      "https://pandas.pydata.org/pandas-docs/stable/indexing.html#deprecate-loc-reindex-listlike\n",
      "C:\\Users\\dmber\\Anaconda3\\lib\\site-packages\\ipykernel_launcher.py:28: TqdmDeprecationWarning: This function will be removed in tqdm==5.0.0\n",
      "Please use `tqdm.notebook.tqdm` instead of `tqdm.tqdm_notebook`\n"
     ]
    },
    {
     "data": {
      "application/vnd.jupyter.widget-view+json": {
       "model_id": "6b8c4c1df6534318b2a9903a156b870a",
       "version_major": 2,
       "version_minor": 0
      },
      "text/plain": [
       "HBox(children=(FloatProgress(value=0.0, max=1.0), HTML(value='')))"
      ]
     },
     "metadata": {},
     "output_type": "display_data"
    },
    {
     "name": "stdout",
     "output_type": "stream",
     "text": [
      "\n"
     ]
    },
    {
     "name": "stderr",
     "output_type": "stream",
     "text": [
      "C:\\Users\\dmber\\Anaconda3\\lib\\site-packages\\ipykernel_launcher.py:29: TqdmDeprecationWarning: This function will be removed in tqdm==5.0.0\n",
      "Please use `tqdm.notebook.tqdm` instead of `tqdm.tqdm_notebook`\n"
     ]
    },
    {
     "data": {
      "application/vnd.jupyter.widget-view+json": {
       "model_id": "6404e57dabe74565b7a45e9e30859dc0",
       "version_major": 2,
       "version_minor": 0
      },
      "text/plain": [
       "HBox(children=(FloatProgress(value=0.0, max=1.0), HTML(value='')))"
      ]
     },
     "metadata": {},
     "output_type": "display_data"
    },
    {
     "name": "stdout",
     "output_type": "stream",
     "text": [
      "\n"
     ]
    },
    {
     "ename": "NameError",
     "evalue": "name '_eve' is not defined",
     "output_type": "error",
     "traceback": [
      "\u001b[1;31m---------------------------------------------------------------------------\u001b[0m",
      "\u001b[1;31mNameError\u001b[0m                                 Traceback (most recent call last)",
      "\u001b[1;32m<ipython-input-24-004228f62d13>\u001b[0m in \u001b[0;36m<module>\u001b[1;34m\u001b[0m\n\u001b[0;32m      1\u001b[0m labels = get_barrier_labels(\n\u001b[0;32m      2\u001b[0m     \u001b[0mclose\u001b[0m\u001b[1;33m,\u001b[0m \u001b[0mtimestamps\u001b[0m\u001b[1;33m,\u001b[0m \u001b[0mtrgt\u001b[0m\u001b[1;33m,\u001b[0m\u001b[1;33m\u001b[0m\u001b[1;33m\u001b[0m\u001b[0m\n\u001b[1;32m----> 3\u001b[1;33m     \u001b[0msltp\u001b[0m\u001b[1;33m=\u001b[0m\u001b[1;33m[\u001b[0m\u001b[1;36m1\u001b[0m\u001b[1;33m,\u001b[0m\u001b[1;36m1\u001b[0m\u001b[1;33m]\u001b[0m\u001b[1;33m,\u001b[0m \u001b[0mhours\u001b[0m\u001b[1;33m=\u001b[0m\u001b[1;36m1\u001b[0m\u001b[1;33m,\u001b[0m \u001b[0mmin_ret\u001b[0m\u001b[1;33m=\u001b[0m\u001b[1;36m0\u001b[0m\u001b[1;33m,\u001b[0m \u001b[0mnum_threads\u001b[0m\u001b[1;33m=\u001b[0m\u001b[1;36m1\u001b[0m\u001b[1;33m\u001b[0m\u001b[1;33m\u001b[0m\u001b[0m\n\u001b[0m\u001b[0;32m      4\u001b[0m )\n",
      "\u001b[1;32m<ipython-input-22-ed5d6e5ccc43>\u001b[0m in \u001b[0;36mget_barrier_labels\u001b[1;34m(close, timestamps, trgt, sltp, hours, min_trgt, min_ret, num_threads, side, sign_label, zero_label)\u001b[0m\n\u001b[0;32m      7\u001b[0m                         \u001b[0mmin_trgt\u001b[0m\u001b[1;33m=\u001b[0m\u001b[0mmin_trgt\u001b[0m\u001b[1;33m,\u001b[0m\u001b[1;33m\u001b[0m\u001b[1;33m\u001b[0m\u001b[0m\n\u001b[0;32m      8\u001b[0m                         \u001b[0mnum_threads\u001b[0m\u001b[1;33m=\u001b[0m\u001b[0mnum_threads\u001b[0m\u001b[1;33m,\u001b[0m\u001b[1;33m\u001b[0m\u001b[1;33m\u001b[0m\u001b[0m\n\u001b[1;32m----> 9\u001b[1;33m                         t1=t1, side=side)\n\u001b[0m\u001b[0;32m     10\u001b[0m     \u001b[0mprint\u001b[0m\u001b[1;33m(\u001b[0m\u001b[1;34m'finished events'\u001b[0m\u001b[1;33m)\u001b[0m\u001b[1;33m\u001b[0m\u001b[1;33m\u001b[0m\u001b[0m\n\u001b[0;32m     11\u001b[0m     \u001b[0mlabels\u001b[0m \u001b[1;33m=\u001b[0m \u001b[0mget_labels\u001b[0m\u001b[1;33m(\u001b[0m\u001b[0mclose\u001b[0m\u001b[1;33m,\u001b[0m \u001b[0mevents\u001b[0m\u001b[1;33m,\u001b[0m \u001b[0mmin_ret\u001b[0m\u001b[1;33m=\u001b[0m\u001b[0mmin_ret\u001b[0m\u001b[1;33m,\u001b[0m \u001b[0msign_label\u001b[0m\u001b[1;33m=\u001b[0m\u001b[0msign_label\u001b[0m\u001b[1;33m,\u001b[0m \u001b[0mzero_label\u001b[0m\u001b[1;33m=\u001b[0m\u001b[0mzero_label\u001b[0m\u001b[1;33m)\u001b[0m\u001b[1;33m\u001b[0m\u001b[1;33m\u001b[0m\u001b[0m\n",
      "\u001b[1;32m<ipython-input-20-88b72e0bedae>\u001b[0m in \u001b[0;36mget_events\u001b[1;34m(close, timestamps, sltp, trgt, min_trgt, num_threads, t1, side)\u001b[0m\n\u001b[0;32m     57\u001b[0m         \u001b[0mpd_obj\u001b[0m\u001b[1;33m=\u001b[0m\u001b[1;33m(\u001b[0m\u001b[1;34m'molecule'\u001b[0m\u001b[1;33m,\u001b[0m \u001b[0mevents\u001b[0m\u001b[1;33m.\u001b[0m\u001b[0mindex\u001b[0m\u001b[1;33m)\u001b[0m\u001b[1;33m,\u001b[0m\u001b[1;33m\u001b[0m\u001b[1;33m\u001b[0m\u001b[0m\n\u001b[0;32m     58\u001b[0m         \u001b[0mnum_threads\u001b[0m\u001b[1;33m=\u001b[0m\u001b[0mnum_threads\u001b[0m\u001b[1;33m,\u001b[0m\u001b[1;33m\u001b[0m\u001b[1;33m\u001b[0m\u001b[0m\n\u001b[1;32m---> 59\u001b[1;33m         close=close, events=events, sltp=_sltp)\n\u001b[0m\u001b[0;32m     60\u001b[0m \u001b[1;33m\u001b[0m\u001b[0m\n\u001b[0;32m     61\u001b[0m     \u001b[1;31m# skip when all of barrier are not touched\u001b[0m\u001b[1;33m\u001b[0m\u001b[1;33m\u001b[0m\u001b[1;33m\u001b[0m\u001b[0m\n",
      "\u001b[1;32m<ipython-input-13-4033ad242d82>\u001b[0m in \u001b[0;36mmp_pandas_obj\u001b[1;34m(func, pd_obj, num_threads, mp_batches, linear_mols, descend, **kwargs)\u001b[0m\n\u001b[0;32m     30\u001b[0m         \u001b[0mjob\u001b[0m\u001b[1;33m.\u001b[0m\u001b[0mupdate\u001b[0m\u001b[1;33m(\u001b[0m\u001b[0mkwargs\u001b[0m\u001b[1;33m)\u001b[0m\u001b[1;33m\u001b[0m\u001b[1;33m\u001b[0m\u001b[0m\n\u001b[0;32m     31\u001b[0m         \u001b[0mjobs\u001b[0m\u001b[1;33m.\u001b[0m\u001b[0mappend\u001b[0m\u001b[1;33m(\u001b[0m\u001b[0mjob\u001b[0m\u001b[1;33m)\u001b[0m\u001b[1;33m\u001b[0m\u001b[1;33m\u001b[0m\u001b[0m\n\u001b[1;32m---> 32\u001b[1;33m     \u001b[0moutputs\u001b[0m \u001b[1;33m=\u001b[0m \u001b[0mprocess_jobs\u001b[0m\u001b[1;33m(\u001b[0m\u001b[0mjobs\u001b[0m\u001b[1;33m,\u001b[0m \u001b[0mnum_threads\u001b[0m\u001b[1;33m=\u001b[0m\u001b[0mnum_threads\u001b[0m\u001b[1;33m)\u001b[0m\u001b[1;33m\u001b[0m\u001b[1;33m\u001b[0m\u001b[0m\n\u001b[0m\u001b[0;32m     33\u001b[0m     \u001b[1;31m# You can use either of pd.Series or pd.DatFrame\u001b[0m\u001b[1;33m\u001b[0m\u001b[1;33m\u001b[0m\u001b[1;33m\u001b[0m\u001b[0m\n\u001b[0;32m     34\u001b[0m     \u001b[1;32mif\u001b[0m \u001b[0misinstance\u001b[0m\u001b[1;33m(\u001b[0m\u001b[0moutputs\u001b[0m\u001b[1;33m[\u001b[0m\u001b[1;36m0\u001b[0m\u001b[1;33m]\u001b[0m\u001b[1;33m,\u001b[0m \u001b[0mpd\u001b[0m\u001b[1;33m.\u001b[0m\u001b[0mSeries\u001b[0m\u001b[1;33m)\u001b[0m\u001b[1;33m:\u001b[0m\u001b[1;33m\u001b[0m\u001b[1;33m\u001b[0m\u001b[0m\n",
      "\u001b[1;32m<ipython-input-15-6791c5960a60>\u001b[0m in \u001b[0;36mprocess_jobs\u001b[1;34m(jobs, task, num_threads)\u001b[0m\n\u001b[0;32m     31\u001b[0m             \u001b[0mfunc\u001b[0m \u001b[1;33m=\u001b[0m \u001b[0mjob\u001b[0m\u001b[1;33m[\u001b[0m\u001b[1;34m'func'\u001b[0m\u001b[1;33m]\u001b[0m\u001b[1;33m\u001b[0m\u001b[1;33m\u001b[0m\u001b[0m\n\u001b[0;32m     32\u001b[0m             \u001b[1;32mdel\u001b[0m \u001b[0mjob\u001b[0m\u001b[1;33m[\u001b[0m\u001b[1;34m'func'\u001b[0m\u001b[1;33m]\u001b[0m\u001b[1;33m\u001b[0m\u001b[1;33m\u001b[0m\u001b[0m\n\u001b[1;32m---> 33\u001b[1;33m             \u001b[0mout_\u001b[0m \u001b[1;33m=\u001b[0m \u001b[0mfunc\u001b[0m\u001b[1;33m(\u001b[0m\u001b[1;33m**\u001b[0m\u001b[0mjob\u001b[0m\u001b[1;33m)\u001b[0m\u001b[1;33m\u001b[0m\u001b[1;33m\u001b[0m\u001b[0m\n\u001b[0m\u001b[0;32m     34\u001b[0m             \u001b[0mout\u001b[0m\u001b[1;33m.\u001b[0m\u001b[0mappend\u001b[0m\u001b[1;33m(\u001b[0m\u001b[0mout_\u001b[0m\u001b[1;33m)\u001b[0m\u001b[1;33m\u001b[0m\u001b[1;33m\u001b[0m\u001b[0m\n\u001b[0;32m     35\u001b[0m     \u001b[1;32mreturn\u001b[0m \u001b[0mout\u001b[0m\u001b[1;33m\u001b[0m\u001b[1;33m\u001b[0m\u001b[0m\n",
      "\u001b[1;32m<ipython-input-19-e4e2930f5b27>\u001b[0m in \u001b[0;36mget_touch_idx\u001b[1;34m(close, events, sltp, molecule)\u001b[0m\n\u001b[0;32m     45\u001b[0m         \u001b[0mtouch_idx\u001b[0m\u001b[1;33m.\u001b[0m\u001b[0mat\u001b[0m\u001b[1;33m[\u001b[0m\u001b[0mloc\u001b[0m\u001b[1;33m,\u001b[0m \u001b[1;34m'sl'\u001b[0m\u001b[1;33m]\u001b[0m \u001b[1;33m=\u001b[0m \u001b[0mdf\u001b[0m\u001b[1;33m[\u001b[0m\u001b[0mdf\u001b[0m \u001b[1;33m<\u001b[0m \u001b[0msls\u001b[0m\u001b[1;33m[\u001b[0m\u001b[0mloc\u001b[0m\u001b[1;33m]\u001b[0m\u001b[1;33m]\u001b[0m\u001b[1;33m.\u001b[0m\u001b[0mindex\u001b[0m\u001b[1;33m.\u001b[0m\u001b[0mmin\u001b[0m\u001b[1;33m(\u001b[0m\u001b[1;33m)\u001b[0m\u001b[1;33m\u001b[0m\u001b[1;33m\u001b[0m\u001b[0m\n\u001b[0;32m     46\u001b[0m         \u001b[0mtouch_idx\u001b[0m\u001b[1;33m.\u001b[0m\u001b[0mat\u001b[0m\u001b[1;33m[\u001b[0m\u001b[0mloc\u001b[0m\u001b[1;33m,\u001b[0m \u001b[1;34m'tp'\u001b[0m\u001b[1;33m]\u001b[0m \u001b[1;33m=\u001b[0m \u001b[0mdf\u001b[0m\u001b[1;33m[\u001b[0m\u001b[0mdf\u001b[0m \u001b[1;33m>\u001b[0m \u001b[0mtps\u001b[0m\u001b[1;33m[\u001b[0m\u001b[0mloc\u001b[0m\u001b[1;33m]\u001b[0m\u001b[1;33m]\u001b[0m\u001b[1;33m.\u001b[0m\u001b[0mindex\u001b[0m\u001b[1;33m.\u001b[0m\u001b[0mmin\u001b[0m\u001b[1;33m(\u001b[0m\u001b[1;33m)\u001b[0m\u001b[1;33m\u001b[0m\u001b[1;33m\u001b[0m\u001b[0m\n\u001b[1;32m---> 47\u001b[1;33m     \u001b[0mtouch_idx\u001b[0m\u001b[1;33m[\u001b[0m\u001b[1;34m't1'\u001b[0m\u001b[1;33m]\u001b[0m \u001b[1;33m=\u001b[0m \u001b[0m_eve\u001b[0m\u001b[1;33m\u001b[0m\u001b[1;33m\u001b[0m\u001b[0m\n\u001b[0m",
      "\u001b[1;31mNameError\u001b[0m: name '_eve' is not defined"
     ]
    }
   ],
   "source": [
    "labels = get_barrier_labels(\n",
    "    close, timestamps, trgt,\n",
    "    sltp=[1,1], hours=1, min_ret=0, num_threads=1\n",
    ")"
   ]
  },
  {
   "cell_type": "code",
   "execution_count": null,
   "metadata": {},
   "outputs": [],
   "source": []
  },
  {
   "cell_type": "code",
   "execution_count": null,
   "metadata": {},
   "outputs": [],
   "source": []
  },
  {
   "cell_type": "code",
   "execution_count": null,
   "metadata": {},
   "outputs": [],
   "source": []
  },
  {
   "cell_type": "code",
   "execution_count": null,
   "metadata": {},
   "outputs": [],
   "source": []
  },
  {
   "cell_type": "code",
   "execution_count": null,
   "metadata": {},
   "outputs": [],
   "source": []
  },
  {
   "cell_type": "code",
   "execution_count": null,
   "metadata": {},
   "outputs": [],
   "source": []
  },
  {
   "cell_type": "code",
   "execution_count": null,
   "metadata": {},
   "outputs": [],
   "source": []
  },
  {
   "cell_type": "code",
   "execution_count": null,
   "metadata": {},
   "outputs": [],
   "source": []
  },
  {
   "cell_type": "code",
   "execution_count": null,
   "metadata": {},
   "outputs": [],
   "source": []
  },
  {
   "cell_type": "code",
   "execution_count": null,
   "metadata": {},
   "outputs": [],
   "source": []
  }
 ],
 "metadata": {
  "kernelspec": {
   "display_name": "Python 3",
   "language": "python",
   "name": "python3"
  },
  "language_info": {
   "codemirror_mode": {
    "name": "ipython",
    "version": 3
   },
   "file_extension": ".py",
   "mimetype": "text/x-python",
   "name": "python",
   "nbconvert_exporter": "python",
   "pygments_lexer": "ipython3",
   "version": "3.7.3"
  }
 },
 "nbformat": 4,
 "nbformat_minor": 4
}
