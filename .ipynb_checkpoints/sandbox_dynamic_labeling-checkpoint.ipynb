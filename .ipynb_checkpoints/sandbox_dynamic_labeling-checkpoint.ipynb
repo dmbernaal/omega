{
 "cells": [
  {
   "cell_type": "markdown",
   "metadata": {},
   "source": [
    "# Labeling - based on stationary close"
   ]
  },
  {
   "cell_type": "code",
   "execution_count": 1,
   "metadata": {
    "execution": {
     "iopub.execute_input": "2020-09-24T19:08:45.469263Z",
     "iopub.status.busy": "2020-09-24T19:08:45.469263Z",
     "iopub.status.idle": "2020-09-24T19:08:46.211315Z",
     "shell.execute_reply": "2020-09-24T19:08:46.210340Z",
     "shell.execute_reply.started": "2020-09-24T19:08:45.469263Z"
    }
   },
   "outputs": [],
   "source": [
    "import matplotlib.pyplot as plt\n",
    "import matplotlib as mpl\n",
    "mpl.style.use('seaborn')\n",
    "import pandas as pd\n",
    "import numpy as np\n",
    "import os\n",
    "from pathlib import Path"
   ]
  },
  {
   "cell_type": "code",
   "execution_count": 2,
   "metadata": {
    "execution": {
     "iopub.execute_input": "2020-09-24T19:08:50.530181Z",
     "iopub.status.busy": "2020-09-24T19:08:50.529185Z",
     "iopub.status.idle": "2020-09-24T19:08:50.534170Z",
     "shell.execute_reply": "2020-09-24T19:08:50.534170Z",
     "shell.execute_reply.started": "2020-09-24T19:08:50.530181Z"
    }
   },
   "outputs": [],
   "source": [
    "def load_data(root=None, remove=None, headers=None):\n",
    "    data = Path('./OmegaDev/Model_Z/raw_data/GBP_USD_H1_2016-01-01_2018-01-01.csv') if root is None else Path(root)\n",
    "    headers = ['date', 'complete', 'open', 'high', 'low', 'close', 'volume'] if headers is None else headers\n",
    "    df = pd.read_csv(data, header=None, names=headers)\n",
    "    return df"
   ]
  },
  {
   "cell_type": "code",
   "execution_count": 3,
   "metadata": {
    "execution": {
     "iopub.execute_input": "2020-09-24T19:09:03.866125Z",
     "iopub.status.busy": "2020-09-24T19:09:03.866125Z",
     "iopub.status.idle": "2020-09-24T19:09:03.897077Z",
     "shell.execute_reply": "2020-09-24T19:09:03.897077Z",
     "shell.execute_reply.started": "2020-09-24T19:09:03.866125Z"
    }
   },
   "outputs": [],
   "source": [
    "df = load_data()"
   ]
  },
  {
   "cell_type": "code",
   "execution_count": 26,
   "metadata": {
    "execution": {
     "iopub.execute_input": "2020-09-24T19:18:26.086457Z",
     "iopub.status.busy": "2020-09-24T19:18:26.086457Z",
     "iopub.status.idle": "2020-09-24T19:18:26.090414Z",
     "shell.execute_reply": "2020-09-24T19:18:26.090414Z",
     "shell.execute_reply.started": "2020-09-24T19:18:26.086457Z"
    }
   },
   "outputs": [],
   "source": [
    "def stationary_close(df, col='close', diff=1):\n",
    "    \"\"\"\n",
    "    difference in timesteps. By default this will be set to 1 which in this case is 1 hour difference. \n",
    "    \n",
    "    The difference should be the time-window that is used to label data.\n",
    "    \"\"\"\n",
    "    return np.tanh(df[col].diff(diff))"
   ]
  },
  {
   "cell_type": "code",
   "execution_count": 27,
   "metadata": {
    "execution": {
     "iopub.execute_input": "2020-09-24T19:18:28.311928Z",
     "iopub.status.busy": "2020-09-24T19:18:28.311928Z",
     "iopub.status.idle": "2020-09-24T19:18:28.316914Z",
     "shell.execute_reply": "2020-09-24T19:18:28.316914Z",
     "shell.execute_reply.started": "2020-09-24T19:18:28.311928Z"
    }
   },
   "outputs": [],
   "source": [
    "df['stationary_close'] = stationary_close(df, 'close', 4)"
   ]
  },
  {
   "cell_type": "code",
   "execution_count": 28,
   "metadata": {
    "execution": {
     "iopub.execute_input": "2020-09-24T19:18:28.545425Z",
     "iopub.status.busy": "2020-09-24T19:18:28.545425Z",
     "iopub.status.idle": "2020-09-24T19:18:28.555615Z",
     "shell.execute_reply": "2020-09-24T19:18:28.555615Z",
     "shell.execute_reply.started": "2020-09-24T19:18:28.545425Z"
    }
   },
   "outputs": [
    {
     "data": {
      "text/html": [
       "<div>\n",
       "<style scoped>\n",
       "    .dataframe tbody tr th:only-of-type {\n",
       "        vertical-align: middle;\n",
       "    }\n",
       "\n",
       "    .dataframe tbody tr th {\n",
       "        vertical-align: top;\n",
       "    }\n",
       "\n",
       "    .dataframe thead th {\n",
       "        text-align: right;\n",
       "    }\n",
       "</style>\n",
       "<table border=\"1\" class=\"dataframe\">\n",
       "  <thead>\n",
       "    <tr style=\"text-align: right;\">\n",
       "      <th></th>\n",
       "      <th>date</th>\n",
       "      <th>complete</th>\n",
       "      <th>open</th>\n",
       "      <th>high</th>\n",
       "      <th>low</th>\n",
       "      <th>close</th>\n",
       "      <th>volume</th>\n",
       "      <th>stationary_close</th>\n",
       "    </tr>\n",
       "  </thead>\n",
       "  <tbody>\n",
       "    <tr>\n",
       "      <th>0</th>\n",
       "      <td>2016-01-03T22:00:00</td>\n",
       "      <td>True</td>\n",
       "      <td>1.47352</td>\n",
       "      <td>1.47464</td>\n",
       "      <td>1.47351</td>\n",
       "      <td>1.47354</td>\n",
       "      <td>1068</td>\n",
       "      <td>NaN</td>\n",
       "    </tr>\n",
       "    <tr>\n",
       "      <th>1</th>\n",
       "      <td>2016-01-03T23:00:00</td>\n",
       "      <td>True</td>\n",
       "      <td>1.47343</td>\n",
       "      <td>1.47382</td>\n",
       "      <td>1.47266</td>\n",
       "      <td>1.47356</td>\n",
       "      <td>938</td>\n",
       "      <td>NaN</td>\n",
       "    </tr>\n",
       "    <tr>\n",
       "      <th>2</th>\n",
       "      <td>2016-01-04T00:00:00</td>\n",
       "      <td>True</td>\n",
       "      <td>1.47364</td>\n",
       "      <td>1.47412</td>\n",
       "      <td>1.47240</td>\n",
       "      <td>1.47278</td>\n",
       "      <td>570</td>\n",
       "      <td>NaN</td>\n",
       "    </tr>\n",
       "    <tr>\n",
       "      <th>3</th>\n",
       "      <td>2016-01-04T01:00:00</td>\n",
       "      <td>True</td>\n",
       "      <td>1.47284</td>\n",
       "      <td>1.47301</td>\n",
       "      <td>1.46936</td>\n",
       "      <td>1.47177</td>\n",
       "      <td>1133</td>\n",
       "      <td>NaN</td>\n",
       "    </tr>\n",
       "    <tr>\n",
       "      <th>4</th>\n",
       "      <td>2016-01-04T02:00:00</td>\n",
       "      <td>True</td>\n",
       "      <td>1.47183</td>\n",
       "      <td>1.47234</td>\n",
       "      <td>1.47041</td>\n",
       "      <td>1.47184</td>\n",
       "      <td>865</td>\n",
       "      <td>-0.0017</td>\n",
       "    </tr>\n",
       "  </tbody>\n",
       "</table>\n",
       "</div>"
      ],
      "text/plain": [
       "                  date  complete     open     high      low    close  volume  \\\n",
       "0  2016-01-03T22:00:00      True  1.47352  1.47464  1.47351  1.47354    1068   \n",
       "1  2016-01-03T23:00:00      True  1.47343  1.47382  1.47266  1.47356     938   \n",
       "2  2016-01-04T00:00:00      True  1.47364  1.47412  1.47240  1.47278     570   \n",
       "3  2016-01-04T01:00:00      True  1.47284  1.47301  1.46936  1.47177    1133   \n",
       "4  2016-01-04T02:00:00      True  1.47183  1.47234  1.47041  1.47184     865   \n",
       "\n",
       "   stationary_close  \n",
       "0               NaN  \n",
       "1               NaN  \n",
       "2               NaN  \n",
       "3               NaN  \n",
       "4           -0.0017  "
      ]
     },
     "execution_count": 28,
     "metadata": {},
     "output_type": "execute_result"
    }
   ],
   "source": [
    "df.head()"
   ]
  },
  {
   "cell_type": "code",
   "execution_count": null,
   "metadata": {},
   "outputs": [],
   "source": []
  },
  {
   "cell_type": "code",
   "execution_count": null,
   "metadata": {},
   "outputs": [],
   "source": []
  },
  {
   "cell_type": "code",
   "execution_count": null,
   "metadata": {},
   "outputs": [],
   "source": []
  },
  {
   "cell_type": "code",
   "execution_count": null,
   "metadata": {},
   "outputs": [],
   "source": []
  },
  {
   "cell_type": "code",
   "execution_count": null,
   "metadata": {},
   "outputs": [],
   "source": []
  },
  {
   "cell_type": "code",
   "execution_count": null,
   "metadata": {},
   "outputs": [],
   "source": []
  },
  {
   "cell_type": "code",
   "execution_count": null,
   "metadata": {},
   "outputs": [],
   "source": []
  }
 ],
 "metadata": {
  "kernelspec": {
   "display_name": "Python 3",
   "language": "python",
   "name": "python3"
  },
  "language_info": {
   "codemirror_mode": {
    "name": "ipython",
    "version": 3
   },
   "file_extension": ".py",
   "mimetype": "text/x-python",
   "name": "python",
   "nbconvert_exporter": "python",
   "pygments_lexer": "ipython3",
   "version": "3.7.3"
  }
 },
 "nbformat": 4,
 "nbformat_minor": 4
}
