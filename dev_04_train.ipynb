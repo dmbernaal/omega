{
 "cells": [
  {
   "cell_type": "markdown",
   "metadata": {},
   "source": [
    "## Loading other modules -> used to create train module"
   ]
  },
  {
   "cell_type": "code",
   "execution_count": 1,
   "metadata": {
    "execution": {
     "iopub.execute_input": "2020-10-17T22:31:43.167201Z",
     "iopub.status.busy": "2020-10-17T22:31:43.166203Z",
     "iopub.status.idle": "2020-10-17T22:31:45.488097Z",
     "shell.execute_reply": "2020-10-17T22:31:45.488097Z",
     "shell.execute_reply.started": "2020-10-17T22:31:43.167201Z"
    }
   },
   "outputs": [],
   "source": [
    "from nb.models import mininest_ba, mininest_bn, mininet, xmininet, xsemininet\n",
    "from nb.databunch import DataBunch\n",
    "from nb.learner import Learner, model_config"
   ]
  },
  {
   "cell_type": "code",
   "execution_count": 2,
   "metadata": {
    "execution": {
     "iopub.execute_input": "2020-10-17T22:31:46.202637Z",
     "iopub.status.busy": "2020-10-17T22:31:46.202637Z",
     "iopub.status.idle": "2020-10-17T22:31:46.206626Z",
     "shell.execute_reply": "2020-10-17T22:31:46.206626Z",
     "shell.execute_reply.started": "2020-10-17T22:31:46.202637Z"
    }
   },
   "outputs": [],
   "source": [
    "import torch\n",
    "import torch.nn as nn\n",
    "import torch.nn.functional as F\n",
    "from tqdm import tqdm as tq\n",
    "import tqdm.notebook as tqdm\n",
    "import matplotlib.pyplot as plt\n",
    "from copy import deepcopy\n",
    "import pandas as pd"
   ]
  },
  {
   "cell_type": "code",
   "execution_count": 3,
   "metadata": {
    "execution": {
     "iopub.execute_input": "2020-10-17T22:31:46.787196Z",
     "iopub.status.busy": "2020-10-17T22:31:46.786189Z",
     "iopub.status.idle": "2020-10-17T22:31:46.791175Z",
     "shell.execute_reply": "2020-10-17T22:31:46.791175Z",
     "shell.execute_reply.started": "2020-10-17T22:31:46.787196Z"
    }
   },
   "outputs": [],
   "source": [
    "from torch.optim import lr_scheduler\n",
    "from torch.optim.lr_scheduler import _LRScheduler, CosineAnnealingLR"
   ]
  },
  {
   "cell_type": "markdown",
   "metadata": {},
   "source": [
    "### Loading Data"
   ]
  },
  {
   "cell_type": "code",
   "execution_count": 4,
   "metadata": {
    "execution": {
     "iopub.execute_input": "2020-10-17T22:31:47.834385Z",
     "iopub.status.busy": "2020-10-17T22:31:47.833388Z",
     "iopub.status.idle": "2020-10-17T22:31:47.837377Z",
     "shell.execute_reply": "2020-10-17T22:31:47.837377Z",
     "shell.execute_reply.started": "2020-10-17T22:31:47.833388Z"
    }
   },
   "outputs": [],
   "source": [
    "from pathlib import Path"
   ]
  },
  {
   "cell_type": "code",
   "execution_count": 86,
   "metadata": {
    "execution": {
     "iopub.execute_input": "2020-10-17T22:42:55.031921Z",
     "iopub.status.busy": "2020-10-17T22:42:55.031921Z",
     "iopub.status.idle": "2020-10-17T22:43:23.054267Z",
     "shell.execute_reply": "2020-10-17T22:43:23.054267Z",
     "shell.execute_reply.started": "2020-10-17T22:42:55.031921Z"
    }
   },
   "outputs": [
    {
     "name": "stderr",
     "output_type": "stream",
     "text": [
      "C:\\Users\\dmber\\Anaconda3\\lib\\site-packages\\ta\\trend.py:608: RuntimeWarning: invalid value encountered in double_scalars\n",
      "  dip[i] = 100 * (self._dip[i]/self._trs[i])\n",
      "C:\\Users\\dmber\\Anaconda3\\lib\\site-packages\\ta\\trend.py:612: RuntimeWarning: invalid value encountered in double_scalars\n",
      "  din[i] = 100 * (self._din[i]/self._trs[i])\n",
      "C:\\Users\\dmber\\Anaconda3\\lib\\site-packages\\ta\\trend.py:608: RuntimeWarning: invalid value encountered in double_scalars\n",
      "  dip[i] = 100 * (self._dip[i]/self._trs[i])\n",
      "C:\\Users\\dmber\\Anaconda3\\lib\\site-packages\\ta\\trend.py:612: RuntimeWarning: invalid value encountered in double_scalars\n",
      "  din[i] = 100 * (self._din[i]/self._trs[i])\n"
     ]
    }
   ],
   "source": [
    "def load_data(root=None, remove=None, headers=None):\n",
    "    data = Path('./OmegaDev/Model_Z/raw_data/GBP_USD_H1_2015-01-01_2020-01-01.csv') if root is None else Path(root)\n",
    "    headers = ['date', 'complete', 'open', 'high', 'low', 'close', 'volume'] if headers is None else headers\n",
    "    df = pd.read_csv(data, header=None, names=headers)\n",
    "    return df\n",
    "\n",
    "# loading our dataframe\n",
    "df = load_data()\n",
    "\n",
    "# TAs to remove -> memory constraint\n",
    "ta_to_remove = ['others_dr', 'others_dlr', 'others_cr', 'momentum_rsi', 'momentum_tsi', 'momentum_uo', 'momentum_stoch', 'momentum_stoch_signal', 'momentum_wr', 'momentum_ao', 'momentum_kama', 'momentum_roc', 'trend_visual_ichimoku_a', 'trend_visual_ichimoku_b', 'trend_psar_up_indicator', 'trend_psar_down_indicator', 'trend_aroon_down', 'trend_aroon_ind', 'trend_aroon_up']\n",
    "\n",
    "ta_to_remove = ['volume_adi', 'volume_obv', 'volume_cmf', 'volume_fi',\n",
    "       'momentum_mfi', 'volume_em', 'volume_sma_em', 'volume_vpt',\n",
    "       'volume_nvi', 'volume_vwap', 'volatility_atr', 'volatility_bbm',\n",
    "       'volatility_bbh', 'volatility_bbl', 'volatility_bbw', 'volatility_bbp',\n",
    "       'volatility_bbhi', 'volatility_bbli', 'volatility_kcc',\n",
    "       'volatility_kch', 'volatility_kcl', 'volatility_kcw', 'volatility_kcp',\n",
    "       'volatility_kchi', 'volatility_kcli', 'volatility_dcl',\n",
    "       'volatility_dch', 'trend_macd', 'trend_macd_signal', 'trend_macd_diff',\n",
    "       'trend_sma_fast', 'trend_sma_slow', 'trend_ema_fast', 'trend_ema_slow',\n",
    "       'trend_adx', 'trend_adx_pos', 'trend_adx_neg', 'trend_vortex_ind_pos',\n",
    "       'trend_vortex_ind_neg', 'trend_vortex_ind_diff', 'trend_trix',\n",
    "       'trend_mass_index', 'trend_cci', 'trend_dpo', 'trend_kst',\n",
    "       'trend_kst_sig', 'trend_kst_diff', 'trend_ichimoku_conv',\n",
    "       'trend_ichimoku_base', 'trend_ichimoku_a', 'trend_ichimoku_b',\n",
    "       'trend_visual_ichimoku_a', 'trend_visual_ichimoku_b', 'trend_aroon_up',\n",
    "       'trend_aroon_down', 'trend_aroon_ind', 'trend_psar_up',\n",
    "       'trend_psar_down', 'trend_psar_up_indicator',\n",
    "       'trend_psar_down_indicator', 'momentum_rsi', 'momentum_tsi',\n",
    "       'momentum_uo', 'momentum_stoch', 'momentum_stoch_signal', 'momentum_wr',\n",
    "       'momentum_ao', 'momentum_kama', 'momentum_roc', 'others_dr',\n",
    "       'others_dlr', 'others_cr']\n",
    "\n",
    "# loading data object\n",
    "data = (DataBunch(df=df,\n",
    "                  pct=0.1,\n",
    "                  window=24,\n",
    "                  lbl_window=12,\n",
    "                  gaxf_type='gasf',\n",
    "                  ta_to_remove=ta_to_remove)\n",
    "       .bunch(bs=16, shuffle=True))"
   ]
  },
  {
   "cell_type": "markdown",
   "metadata": {},
   "source": [
    "## Trainer"
   ]
  },
  {
   "cell_type": "code",
   "execution_count": 87,
   "metadata": {
    "execution": {
     "iopub.execute_input": "2020-10-17T22:43:27.865392Z",
     "iopub.status.busy": "2020-10-17T22:43:27.865392Z",
     "iopub.status.idle": "2020-10-17T22:43:27.872377Z",
     "shell.execute_reply": "2020-10-17T22:43:27.872377Z",
     "shell.execute_reply.started": "2020-10-17T22:43:27.865392Z"
    }
   },
   "outputs": [],
   "source": [
    "class DelayerScheduler(_LRScheduler):\n",
    "    \"\"\"\n",
    "    CREDIT: https://github.com/pabloppp/pytorch-tools\n",
    "    Start with a flat lr schedule until it reaches N epochs then applies a scheduler\n",
    "    \"\"\"\n",
    "    def __init__(self, optimizer, delay_epochs, after_scheduler):\n",
    "        self.delay_epochs = delay_epochs\n",
    "        self.after_scheduler = after_scheduler\n",
    "        self.finished = False\n",
    "        super().__init__(optimizer)\n",
    "        \n",
    "    def get_lr(self):\n",
    "        if self.last_epoch >= self.delay_epochs:\n",
    "            if not self.finished:\n",
    "                self.after_scheduler.base_lrs = self.base_lrs\n",
    "                self.finished = True\n",
    "            return self.after_scheduler.get_last_lr()\n",
    "        \n",
    "        return self.base_lrs\n",
    "    \n",
    "    def step(self, epoch=None):\n",
    "        if self.finished:\n",
    "            if epoch is None: \n",
    "                self.after_scheduler.step(None)\n",
    "            else:\n",
    "                self.after_scheduler.step(epoch - self.delay_epochs)\n",
    "        else:\n",
    "            return super(DelayerScheduler, self).step(epoch)"
   ]
  },
  {
   "cell_type": "code",
   "execution_count": 88,
   "metadata": {
    "execution": {
     "iopub.execute_input": "2020-10-17T22:43:28.045456Z",
     "iopub.status.busy": "2020-10-17T22:43:28.045456Z",
     "iopub.status.idle": "2020-10-17T22:43:28.049445Z",
     "shell.execute_reply": "2020-10-17T22:43:28.049445Z",
     "shell.execute_reply.started": "2020-10-17T22:43:28.045456Z"
    }
   },
   "outputs": [],
   "source": [
    "def FlatCosAnnealScheduler(optimizer, delay_epochs, cosine_annealing_epochs):\n",
    "    base_scheduler = CosineAnnealingLR(optimizer, cosine_annealing_epochs)\n",
    "    return DelayerScheduler(optimizer, delay_epochs, base_scheduler)"
   ]
  },
  {
   "cell_type": "code",
   "execution_count": 89,
   "metadata": {
    "execution": {
     "iopub.execute_input": "2020-10-17T22:43:28.488272Z",
     "iopub.status.busy": "2020-10-17T22:43:28.488272Z",
     "iopub.status.idle": "2020-10-17T22:43:28.492260Z",
     "shell.execute_reply": "2020-10-17T22:43:28.492260Z",
     "shell.execute_reply.started": "2020-10-17T22:43:28.488272Z"
    }
   },
   "outputs": [],
   "source": [
    "def delayer(epochs, pct_start=0.8): return int(epochs * pct_start)"
   ]
  },
  {
   "cell_type": "code",
   "execution_count": 90,
   "metadata": {
    "execution": {
     "iopub.execute_input": "2020-10-17T22:43:28.781486Z",
     "iopub.status.busy": "2020-10-17T22:43:28.781486Z",
     "iopub.status.idle": "2020-10-17T22:43:28.795449Z",
     "shell.execute_reply": "2020-10-17T22:43:28.795449Z",
     "shell.execute_reply.started": "2020-10-17T22:43:28.781486Z"
    }
   },
   "outputs": [],
   "source": [
    "class Evaluate:\n",
    "    \"\"\"\n",
    "    Keeping track of stats when training a model. Evolution will be all training stats for the entire training while summary is epoch summary per epoch\n",
    "    \"\"\"\n",
    "    def __init__(self):\n",
    "        self.evolution = {'train_loss':[], 'train_acc':[], 'valid_loss':[], 'valid_acc':[]}\n",
    "        self.summary = {'train_loss_summary':[], 'train_acc_summary':[], 'valid_loss_summary':[], 'valid_acc_summary':[]}\n",
    "        self.best_stats = {}\n",
    "        \n",
    "    def update_summary(self, train_loss, train_acc, valid_loss, valid_acc):\n",
    "        \"\"\"Call after each epoch\"\"\"\n",
    "        self.summary['train_loss_summary'].append(train_loss)\n",
    "        self.summary['train_acc_summary'].append(train_acc)\n",
    "        self.summary['valid_loss_summary'].append(valid_loss)\n",
    "        self.summary['valid_acc_summary'].append(valid_acc)\n",
    "    \n",
    "    def update_evolution(self, ds_type, loss, acc):\n",
    "        \"\"\"Call after each batch\"\"\"\n",
    "        if ds_type=='train':\n",
    "            self.evolution['train_loss'].append(loss)\n",
    "            self.evolution['train_acc'].append(acc)\n",
    "        elif ds_type=='valid':\n",
    "            self.evolution['valid_loss'].append(loss)\n",
    "            self.evolution['valid_acc'].append(acc)\n",
    "        else: return\n",
    "        \n",
    "    def update_best_stats(self, iteration, train_loss, train_acc, valid_loss, valid_acc):\n",
    "        self.best_stats['iteration'] = iteration\n",
    "        self.best_stats['train_loss'] = train_loss\n",
    "        self.best_stats['train_acc'] = train_acc\n",
    "        self.best_stats['valid_losss'] = valid_loss\n",
    "        self.best_stats['valid_acc'] = valid_acc\n",
    "        \n",
    "    def report(self):\n",
    "        tq.write(f\"\"\"Train loss: {self.summary['train_loss_summary'][-1]:0f}, Train acc: {self.summary['train_acc_summary'][-1]:0f}, Valid loss: {self.summary['valid_loss_summary'][-1]:0f}, Valid acc: {self.summary['valid_acc_summary'][-1]:0f}\"\"\")\n",
    "        \n",
    "    def summarize(self): self.summary = pd.DataFrame(self.summary)\n",
    "    \n",
    "    def report_best(self):\n",
    "        print(f\"\"\"\n",
    "        Best Model Stats:\n",
    "        ---------------------------------\n",
    "        Iteration  : {self.best_stats['iteration']}\n",
    "        Train Loss : {self.best_stats['train_loss']}\n",
    "        Train Acc  : {self.best_stats['train_acc']}\n",
    "        Valid Loss : {self.best_stats['valid_loss']}\n",
    "        Valid Acc  : {self.best_stats['valid_acc']}\n",
    "        \"\"\")\n",
    "        \n",
    "    def plot_summary(self):\n",
    "        if isinstance(self.summary, pd.DataFrame): self.summary.plot()\n",
    "            \n",
    "    def plot_evolution(self):\n",
    "        fig, axs = plt.subplots(2,2, figsize=(15,10))\n",
    "        \n",
    "        axs[0,0].plot(self.evolution['train_acc'])\n",
    "        axs[0,0].set_xlabel('Iterations')\n",
    "        axs[0,0].set_ylabel('Accuracy')\n",
    "        axs[0,0].set_title('Train Accuracy')\n",
    "        \n",
    "        axs[0,1].plot(self.evolution['valid_acc'])\n",
    "        axs[0,1].set_xlabel('Iterations')\n",
    "        axs[0,1].set_ylabel('Accuracy')\n",
    "        axs[0,1].set_title('Valid Accuracy')\n",
    "        \n",
    "        axs[1,0].plot(self.evolution['train_loss'])\n",
    "        axs[1,0].set_xlabel('Iterations')\n",
    "        axs[1,0].set_ylabel('Loss')\n",
    "        axs[1,0].set_title('Train Loss')\n",
    "        \n",
    "        axs[1,1].plot(self.evolution['valid_loss'])\n",
    "        axs[1,1].set_xlabel('Iterations')\n",
    "        axs[1,1].set_ylabel('Loss')\n",
    "        axs[1,1].set_title('Valid Loss')\n",
    "        \n",
    "        plt.show()"
   ]
  },
  {
   "cell_type": "code",
   "execution_count": 91,
   "metadata": {
    "execution": {
     "iopub.execute_input": "2020-10-17T22:43:29.192402Z",
     "iopub.status.busy": "2020-10-17T22:43:29.191405Z",
     "iopub.status.idle": "2020-10-17T22:43:29.195393Z",
     "shell.execute_reply": "2020-10-17T22:43:29.195393Z",
     "shell.execute_reply.started": "2020-10-17T22:43:29.192402Z"
    }
   },
   "outputs": [],
   "source": [
    "def metrics_batch(output, target, metric_fn=None):\n",
    "    if metric_fn: return metric_fn(output, target)"
   ]
  },
  {
   "cell_type": "code",
   "execution_count": 92,
   "metadata": {
    "execution": {
     "iopub.execute_input": "2020-10-17T22:43:29.447719Z",
     "iopub.status.busy": "2020-10-17T22:43:29.446723Z",
     "iopub.status.idle": "2020-10-17T22:43:29.452705Z",
     "shell.execute_reply": "2020-10-17T22:43:29.452705Z",
     "shell.execute_reply.started": "2020-10-17T22:43:29.447719Z"
    }
   },
   "outputs": [],
   "source": [
    "def loss_batch(loss_fn, output, target, metric_fn=None, opt_fn=None, scheduler=None):\n",
    "    \"\"\"\n",
    "    Calculate loss and metric for batch\n",
    "    \"\"\"\n",
    "    loss = loss_fn(output, target)\n",
    "    metric = metrics_batch(output, target, metric_fn)\n",
    "    \n",
    "    if opt_fn:\n",
    "        opt_fn.zero_grad()\n",
    "        loss.backward()\n",
    "        opt_fn.step()\n",
    "        if scheduler: scheduler.step()\n",
    "            \n",
    "    return loss.data.cpu().item(), metric"
   ]
  },
  {
   "cell_type": "code",
   "execution_count": 93,
   "metadata": {
    "execution": {
     "iopub.execute_input": "2020-10-17T22:43:29.597343Z",
     "iopub.status.busy": "2020-10-17T22:43:29.597343Z",
     "iopub.status.idle": "2020-10-17T22:43:29.604299Z",
     "shell.execute_reply": "2020-10-17T22:43:29.604299Z",
     "shell.execute_reply.started": "2020-10-17T22:43:29.597343Z"
    }
   },
   "outputs": [],
   "source": [
    "def loss_epoch(model, dataloader, ds_type, evaluator, loss_fn, metric_fn=None, opt_fn=None, scheduler=None, device=None, inner_bar=None, inner_loop=None):\n",
    "    \"\"\"\n",
    "    Calculates loss per batch\n",
    "    \"\"\"\n",
    "    running_loss, running_metric = 0,0\n",
    "    n = len(dataloader.dataset)\n",
    "    device = torch.device('cpu') if device is None else device\n",
    "    \n",
    "    for i,(xb,yb) in enumerate(dataloader):\n",
    "        inner_bar.update(1)\n",
    "        nb = yb.size(0)\n",
    "        xb = xb.to(device)\n",
    "        yb = yb.to(device)\n",
    "        output = model(xb)\n",
    "        \n",
    "        loss_b, metric_b = loss_batch(loss_fn, output, yb, metric_fn, opt_fn, scheduler)\n",
    "        running_loss+=loss_b\n",
    "        running_metric+=metric_b\n",
    "        evaluator.update_evolution(ds_type, running_loss/(nb*(i+1)), running_metric/(nb*(i+1)))\n",
    "        \n",
    "    metric_e = running_metric/float(n)\n",
    "    loss_e = running_loss/float(n)\n",
    "    return metric_e, loss_e"
   ]
  },
  {
   "cell_type": "code",
   "execution_count": 94,
   "metadata": {
    "execution": {
     "iopub.execute_input": "2020-10-17T22:43:29.988273Z",
     "iopub.status.busy": "2020-10-17T22:43:29.987275Z",
     "iopub.status.idle": "2020-10-17T22:43:29.998268Z",
     "shell.execute_reply": "2020-10-17T22:43:29.998268Z",
     "shell.execute_reply.started": "2020-10-17T22:43:29.988273Z"
    }
   },
   "outputs": [],
   "source": [
    "def fit(learn, epochs=10, device=None, keep_best_state=True, **kwargs):\n",
    "    \"\"\"\n",
    "    train model with one cycle policy\n",
    "    \"\"\"\n",
    "    evaluator = Evaluate()\n",
    "    \n",
    "    # update opt\n",
    "    opt_fn = learn.opt_fn\n",
    "    \n",
    "    # base\n",
    "    loss_fn = learn.loss_fn\n",
    "    train_dl = learn.data.train_dl\n",
    "    valid_dl = learn.data.valid_dl\n",
    "    metric_fn = learn.metric_fn\n",
    "    device = learn.device if device is None else torch.device(device)\n",
    "    model = learn.model.to(device)\n",
    "    \n",
    "    # display settings\n",
    "    outter_bar = tqdm.tqdm(range(epochs))\n",
    "    outter_loop = range(epochs)\n",
    "    train_n = len(train_dl)\n",
    "    train_inner_bar = tqdm.tqdm(range(train_n), leave=False)\n",
    "    train_inner_loop = range(train_n)\n",
    "    valid_n = len(valid_dl)\n",
    "    valid_inner_bar = tqdm.tqdm(range(valid_n), leave=False)\n",
    "    valid_inner_loop = range(valid_n)\n",
    "    \n",
    "    # best model weights\n",
    "    if keep_best_state:\n",
    "        best_model_wts = deepcopy(model.state_dict())\n",
    "        best_loss = float('inf')\n",
    "        \n",
    "    # Training\n",
    "    for epoch in outter_loop:\n",
    "        train_inner_bar.reset()\n",
    "        valid_inner_bar.reset()\n",
    "        \n",
    "        # train\n",
    "        model.train()\n",
    "        train_metric, train_loss = loss_epoch(model, train_dl, 'train', evaluator, loss_fn, metric_fn, opt_fn, None, device, train_inner_bar, train_inner_loop)\n",
    "        \n",
    "        # eval\n",
    "        model.eval()\n",
    "        with torch.no_grad():\n",
    "            valid_metric, valid_loss = loss_epoch(model, valid_dl, 'valid', evaluator, loss_fn, metric_fn, device=device, inner_bar=valid_inner_bar, inner_loop=valid_inner_loop)\n",
    "            \n",
    "        # update evaluator\n",
    "        evaluator.update_summary(train_loss, train_metric, valid_loss, valid_metric)\n",
    "        \n",
    "        # keeping best\n",
    "        if keep_best_state:\n",
    "            if valid_loss<best_loss:\n",
    "                best_loss = valid_loss\n",
    "                best_model_wts = deepcopy(model.state_dict())\n",
    "                evaluator.update_best_stats(epoch+1, train_loss, train_metric, valid_loss, valid_metric)\n",
    "                \n",
    "        # report\n",
    "        outter_bar.update(1)\n",
    "        evaluator.report()\n",
    "        \n",
    "    # summurize training\n",
    "    evaluator.summarize()\n",
    "    learn.evaluator = evaluator\n",
    "    \n",
    "    # keep best weights\n",
    "    if keep_best_state: learn.model.load_state_dict(best_model_wts)"
   ]
  },
  {
   "cell_type": "code",
   "execution_count": 95,
   "metadata": {
    "execution": {
     "iopub.execute_input": "2020-10-17T22:43:30.467989Z",
     "iopub.status.busy": "2020-10-17T22:43:30.467989Z",
     "iopub.status.idle": "2020-10-17T22:43:30.479991Z",
     "shell.execute_reply": "2020-10-17T22:43:30.479991Z",
     "shell.execute_reply.started": "2020-10-17T22:43:30.467989Z"
    }
   },
   "outputs": [],
   "source": [
    "def fit_one_cycle(learn, epochs=10, pct_start=0.8, div_factor=10., moms=(0.85, 0.95), device=None, keep_best_state=True, **kwargs):\n",
    "    \"\"\"\n",
    "    train model with one cycle policy\n",
    "    \"\"\"\n",
    "    # setting training params\n",
    "    evaluator = Evaluate()\n",
    "    \n",
    "    # scheduler params\n",
    "    steps_per_epoch = len(learn.data.train_dl)\n",
    "    b1, b2 = moms\n",
    "    opt_fn = learn.opt_fn\n",
    "    scheduler = lr_scheduler.OneCycleLR(opt_fn, max_lr=max_lr, steps_per_epoch=steps_per_epoch, epochs=epochs, pct_start=pct_start, div_factor=div_factor, base_momentum=b1, max_momentum=b2)\n",
    "    \n",
    "    # base\n",
    "    loss_fn = learn.loss_fn\n",
    "    train_dl = learn.data.train_dl\n",
    "    valid_dl = learn.data.valid_dl\n",
    "    metric_fn = learn.metric_fn\n",
    "    device = learn.device if device is None else torch.device(device)\n",
    "    model = learn.model.to(device)\n",
    "    \n",
    "    # display settings\n",
    "    outter_bar = tqdm.tqdm(range(epochs))\n",
    "    outter_loop = range(epochs)\n",
    "    train_n = len(train_dl)\n",
    "    train_inner_bar = tqdm.tqdm(range(train_n), leave=False)\n",
    "    train_inner_loop = range(train_n)\n",
    "    valid_n = len(valid_dl)\n",
    "    valid_inner_bar = tqdm.tqdm(range(valid_n), leave=False)\n",
    "    valid_inner_loop = range(valid_n)\n",
    "    \n",
    "    # best model weights\n",
    "    if keep_best_state:\n",
    "        best_model_wts = deepcopy(model.state_dict())\n",
    "        best_loss = float('inf')\n",
    "        \n",
    "    # Training\n",
    "    for epoch in outter_loop:\n",
    "        train_inner_bar.reset()\n",
    "        valid_inner_bar.reset()\n",
    "        \n",
    "        # train\n",
    "        model.train()\n",
    "        train_metric, train_loss = loss_epoch(model, train_dl, 'train', evaluator, loss_fn, metric_fn, opt_fn, scheduler, device, train_inner_bar, train_inner_loop)\n",
    "        \n",
    "        # eval\n",
    "        model.eval()\n",
    "        with torch.no_grad():\n",
    "            valid_metric, valid_loss = loss_epoch(model, valid_dl, 'valid', evaluator, loss_fn, metric_fn, device=device, inner_bar=valid_inner_bar, inner_loop=valid_inner_loop)\n",
    "            \n",
    "        # update evaluator\n",
    "        evaluator.update_summary(train_loss, train_metric, valid_loss, valid_metric)\n",
    "        \n",
    "        # keeping best\n",
    "        if keep_best_state:\n",
    "            if valid_loss<best_loss:\n",
    "                best_loss = valid_loss\n",
    "                best_model_wts = deepcopy(model.state_dict())\n",
    "                evaluator.update_best_stats(epoch+1, train_loss, train_metric, valid_loss, valid_metric)\n",
    "                \n",
    "        # report\n",
    "        outter_bar.update(1)\n",
    "        evaluator.report()\n",
    "        \n",
    "    # summurize training\n",
    "    evaluator.summarize()\n",
    "    learn.evaluator = evaluator\n",
    "    \n",
    "    # keep best weights\n",
    "    if keep_best_state: learn.model.load_state_dict(best_model_wts)"
   ]
  },
  {
   "cell_type": "code",
   "execution_count": 96,
   "metadata": {
    "execution": {
     "iopub.execute_input": "2020-10-17T22:43:30.851962Z",
     "iopub.status.busy": "2020-10-17T22:43:30.851962Z",
     "iopub.status.idle": "2020-10-17T22:43:30.862932Z",
     "shell.execute_reply": "2020-10-17T22:43:30.862932Z",
     "shell.execute_reply.started": "2020-10-17T22:43:30.851962Z"
    }
   },
   "outputs": [],
   "source": [
    "def fit_flat_anneal(learn, epochs=10, pct_start=0.8, div_factor=10., moms=(0.85, 0.95), device=None, keep_best_state=True, **kwargs):\n",
    "    \"\"\"\n",
    "    train model with one cycle policy\n",
    "    \"\"\"\n",
    "    evaluator = Evaluate()\n",
    "    \n",
    "    # scheduler params\n",
    "    steps_per_epoch = len(learn.data.train_dl)\n",
    "    b1, b2 = moms\n",
    "    delay_epochs = delayer(epochs, pct_start)\n",
    "    opt_fn = learn.opt_fn\n",
    "    base_scheduler = CosineAnnealingLR(opt_fn, delay_epochs)\n",
    "    delayed_scheduler = DelayerScheduler(opt_fn, epochs-delay_epochs, base_scheduler)\n",
    "    \n",
    "    # base\n",
    "    loss_fn = learn.loss_fn\n",
    "    train_dl = learn.data.train_dl\n",
    "    valid_dl = learn.data.valid_dl\n",
    "    metric_fn = learn.metric_fn\n",
    "    device = learn.device if device is None else torch.device(device)\n",
    "    model = learn.model.to(device)\n",
    "    \n",
    "    # display settings\n",
    "    outter_bar = tqdm.tqdm(range(epochs))\n",
    "    outter_loop = range(epochs)\n",
    "    train_n = len(train_dl)\n",
    "    train_inner_bar = tqdm.tqdm(range(train_n), leave=False)\n",
    "    train_inner_loop = range(train_n)\n",
    "    valid_n = len(valid_dl)\n",
    "    valid_inner_bar = tqdm.tqdm(range(valid_n), leave=False)\n",
    "    valid_inner_loop = range(valid_n)\n",
    "    \n",
    "    # best model weights\n",
    "    if keep_best_state:\n",
    "        best_model_wts = deepcopy(model.state_dict())\n",
    "        best_loss = float('inf')\n",
    "        \n",
    "    # Training\n",
    "    for epoch in outter_loop:\n",
    "        train_inner_bar.reset()\n",
    "        valid_inner_bar.reset()\n",
    "        \n",
    "        # train\n",
    "        model.train()\n",
    "        train_metric, train_loss = loss_epoch(model, train_dl, 'train', evaluator, loss_fn, metric_fn, opt_fn, None, device, train_inner_bar, train_inner_loop)\n",
    "        \n",
    "        # eval\n",
    "        model.eval()\n",
    "        with torch.no_grad():\n",
    "            valid_metric, valid_loss = loss_epoch(model, valid_dl, 'valid', evaluator, loss_fn, metric_fn, device=device, inner_bar=valid_inner_bar, inner_loop=valid_inner_loop)\n",
    "            \n",
    "        # update evaluator\n",
    "        evaluator.update_summary(train_loss, train_metric, valid_loss, valid_metric)\n",
    "        \n",
    "        # keeping best\n",
    "        if keep_best_state:\n",
    "            if valid_loss<best_loss:\n",
    "                best_loss = valid_loss\n",
    "                best_model_wts = deepcopy(model.state_dict())\n",
    "                evaluator.update_best_stats(epoch+1, train_loss, train_metric, valid_loss, valid_metric)\n",
    "                \n",
    "        # update scheduler\n",
    "        delayed_scheduler.step()\n",
    "        \n",
    "        # report\n",
    "        outter_bar.update(1)\n",
    "        evaluator.report()\n",
    "        \n",
    "    # summurize training\n",
    "    evaluator.summarize()\n",
    "    learn.evaluator = evaluator\n",
    "    \n",
    "    # keep best weights\n",
    "    if keep_best_state: learn.model.load_state_dict(best_model_wts)"
   ]
  },
  {
   "cell_type": "code",
   "execution_count": 97,
   "metadata": {
    "execution": {
     "iopub.execute_input": "2020-10-17T22:43:31.245934Z",
     "iopub.status.busy": "2020-10-17T22:43:31.245934Z",
     "iopub.status.idle": "2020-10-17T22:43:31.249897Z",
     "shell.execute_reply": "2020-10-17T22:43:31.249897Z",
     "shell.execute_reply.started": "2020-10-17T22:43:31.245934Z"
    }
   },
   "outputs": [],
   "source": [
    "Learner.fit = fit\n",
    "Learner.fit_one_cycle = fit_one_cycle\n",
    "Learner.fit_flat_anneal = fit_flat_anneal"
   ]
  },
  {
   "cell_type": "markdown",
   "metadata": {},
   "source": [
    "## Testing"
   ]
  },
  {
   "cell_type": "code",
   "execution_count": 98,
   "metadata": {
    "execution": {
     "iopub.execute_input": "2020-10-17T22:43:36.941213Z",
     "iopub.status.busy": "2020-10-17T22:43:36.941213Z",
     "iopub.status.idle": "2020-10-17T22:43:36.944205Z",
     "shell.execute_reply": "2020-10-17T22:43:36.944205Z",
     "shell.execute_reply.started": "2020-10-17T22:43:36.941213Z"
    }
   },
   "outputs": [],
   "source": [
    "from nb.optimizers import Ranger\n",
    "import torch.optim as optim"
   ]
  },
  {
   "cell_type": "code",
   "execution_count": 109,
   "metadata": {
    "execution": {
     "iopub.execute_input": "2020-10-17T22:44:32.900960Z",
     "iopub.status.busy": "2020-10-17T22:44:32.900960Z",
     "iopub.status.idle": "2020-10-17T22:44:32.969831Z",
     "shell.execute_reply": "2020-10-17T22:44:32.969831Z",
     "shell.execute_reply.started": "2020-10-17T22:44:32.900960Z"
    }
   },
   "outputs": [],
   "source": [
    "alpha = 0.98\n",
    "mom = 0.94\n",
    "wd = 0.\n",
    "lr = 1e-4\n",
    "eps = 1e-6\n",
    "\n",
    "torch.manual_seed(5)\n",
    "torch.cuda.manual_seed(5)\n",
    "\n",
    "in_c, num_classes = model_config(data)\n",
    "model = mininet(in_c, num_classes=num_classes)\n",
    "\n",
    "# opt_fn = Ranger(params=model.parameters(), betas=(mom, alpha), eps=eps, weight_decay=wd, lr=lr)\n",
    "opt_fn = optim.Adam(params=model.parameters(), lr=lr, weight_decay=wd)\n",
    "\n",
    "learn = Learner(\n",
    "    data,\n",
    "    model,\n",
    "    opt_fn=opt_fn,\n",
    "    lr=lr,\n",
    "    wd=wd\n",
    ")"
   ]
  },
  {
   "cell_type": "code",
   "execution_count": 108,
   "metadata": {
    "execution": {
     "iopub.execute_input": "2020-10-17T22:44:14.711104Z",
     "iopub.status.busy": "2020-10-17T22:44:14.710106Z",
     "iopub.status.idle": "2020-10-17T22:44:16.190178Z",
     "shell.execute_reply": "2020-10-17T22:44:16.190178Z",
     "shell.execute_reply.started": "2020-10-17T22:44:14.711104Z"
    }
   },
   "outputs": [
    {
     "data": {
      "application/vnd.jupyter.widget-view+json": {
       "model_id": "b23fd51ad22b41339734db7e9657a828",
       "version_major": 2,
       "version_minor": 0
      },
      "text/plain": [
       "HBox(children=(FloatProgress(value=0.0), HTML(value='')))"
      ]
     },
     "metadata": {},
     "output_type": "display_data"
    },
    {
     "name": "stdout",
     "output_type": "stream",
     "text": [
      "Stopping early, the loss has diverged\n",
      "\n",
      "Learning rate search finished. See the graph with {finder_name}.plot()\n"
     ]
    },
    {
     "data": {
      "image/png": "[encoded data removed]",
      "text/plain": [
       "<Figure size 432x288 with 1 Axes>"
      ]
     },
     "metadata": {
      "needs_background": "light"
     },
     "output_type": "display_data"
    }
   ],
   "source": [
    "learn.lr_finder()"
   ]
  },
  {
   "cell_type": "code",
   "execution_count": null,
   "metadata": {
    "execution": {
     "iopub.execute_input": "2020-10-17T22:44:36.347934Z",
     "iopub.status.busy": "2020-10-17T22:44:36.347934Z"
    }
   },
   "outputs": [
    {
     "data": {
      "application/vnd.jupyter.widget-view+json": {
       "model_id": "f31102381e604e5a8abd7700e4cc519b",
       "version_major": 2,
       "version_minor": 0
      },
      "text/plain": [
       "HBox(children=(FloatProgress(value=0.0, max=20.0), HTML(value='')))"
      ]
     },
     "metadata": {},
     "output_type": "display_data"
    },
    {
     "data": {
      "application/vnd.jupyter.widget-view+json": {
       "model_id": "68b595d78ab0489ea6a75b438f194cf7",
       "version_major": 2,
       "version_minor": 0
      },
      "text/plain": [
       "HBox(children=(FloatProgress(value=0.0, max=1746.0), HTML(value='')))"
      ]
     },
     "metadata": {},
     "output_type": "display_data"
    },
    {
     "data": {
      "application/vnd.jupyter.widget-view+json": {
       "model_id": "1605e46792194e7a950b656b4abb47e4",
       "version_major": 2,
       "version_minor": 0
      },
      "text/plain": [
       "HBox(children=(FloatProgress(value=0.0, max=193.0), HTML(value='')))"
      ]
     },
     "metadata": {},
     "output_type": "display_data"
    },
    {
     "name": "stdout",
     "output_type": "stream",
     "text": [
      "Train loss: 0.064819, Train acc: 0.484888, Valid loss: 0.065668, Valid acc: 0.467381\n",
      "Train loss: 0.061711, Train acc: 0.520377, Valid loss: 0.065648, Valid acc: 0.456670\n",
      "Train loss: 0.059775, Train acc: 0.540503, Valid loss: 0.067056, Valid acc: 0.491723\n",
      "Train loss: 0.057600, Train acc: 0.563637, Valid loss: 0.066624, Valid acc: 0.498539\n",
      "Train loss: 0.054296, Train acc: 0.598517, Valid loss: 0.071319, Valid acc: 0.467056\n",
      "Train loss: 0.049909, Train acc: 0.641813, Valid loss: 0.074306, Valid acc: 0.455047\n",
      "Train loss: 0.044374, Train acc: 0.688619, Valid loss: 0.083962, Valid acc: 0.449529\n",
      "Train loss: 0.038264, Train acc: 0.742480, Valid loss: 0.088243, Valid acc: 0.444661\n",
      "Train loss: 0.032785, Train acc: 0.783305, Valid loss: 0.097349, Valid acc: 0.424862\n"
     ]
    }
   ],
   "source": [
    "learn.fit(20, keep_best_state=False)"
   ]
  },
  {
   "cell_type": "code",
   "execution_count": 33,
   "metadata": {
    "execution": {
     "iopub.execute_input": "2020-10-17T20:26:17.513467Z",
     "iopub.status.busy": "2020-10-17T20:26:17.513467Z",
     "iopub.status.idle": "2020-10-17T20:26:23.910947Z",
     "shell.execute_reply": "2020-10-17T20:26:23.910947Z",
     "shell.execute_reply.started": "2020-10-17T20:26:17.513467Z"
    }
   },
   "outputs": [
    {
     "data": {
      "text/plain": [
       "0.5379109135936493"
      ]
     },
     "execution_count": 33,
     "metadata": {},
     "output_type": "execute_result"
    }
   ],
   "source": [
    "correct = 0\n",
    "for xb,yb in data.train_dl:\n",
    "    xb = xb.to(device)\n",
    "    out = learn.model(xb)\n",
    "    out = torch.argmax(out.data.cpu(),1)\n",
    "    corr = (out==yb).sum().item()\n",
    "    correct+=corr\n",
    "    \n",
    "correct/len(data.train_dl.dataset)"
   ]
  },
  {
   "cell_type": "code",
   "execution_count": 34,
   "metadata": {
    "execution": {
     "iopub.execute_input": "2020-10-17T20:26:24.976815Z",
     "iopub.status.busy": "2020-10-17T20:26:24.976815Z",
     "iopub.status.idle": "2020-10-17T20:26:24.983799Z",
     "shell.execute_reply": "2020-10-17T20:26:24.983799Z",
     "shell.execute_reply.started": "2020-10-17T20:26:24.976815Z"
    }
   },
   "outputs": [
    {
     "data": {
      "text/html": [
       "<div>\n",
       "<style scoped>\n",
       "    .dataframe tbody tr th:only-of-type {\n",
       "        vertical-align: middle;\n",
       "    }\n",
       "\n",
       "    .dataframe tbody tr th {\n",
       "        vertical-align: top;\n",
       "    }\n",
       "\n",
       "    .dataframe thead th {\n",
       "        text-align: right;\n",
       "    }\n",
       "</style>\n",
       "<table border=\"1\" class=\"dataframe\">\n",
       "  <thead>\n",
       "    <tr style=\"text-align: right;\">\n",
       "      <th></th>\n",
       "      <th>train_loss_summary</th>\n",
       "      <th>train_acc_summary</th>\n",
       "      <th>valid_loss_summary</th>\n",
       "      <th>valid_acc_summary</th>\n",
       "    </tr>\n",
       "  </thead>\n",
       "  <tbody>\n",
       "    <tr>\n",
       "      <th>0</th>\n",
       "      <td>0.089902</td>\n",
       "      <td>0.125081</td>\n",
       "      <td>0.087984</td>\n",
       "      <td>0.126309</td>\n",
       "    </tr>\n",
       "    <tr>\n",
       "      <th>1</th>\n",
       "      <td>0.085045</td>\n",
       "      <td>0.154968</td>\n",
       "      <td>0.082516</td>\n",
       "      <td>0.180628</td>\n",
       "    </tr>\n",
       "    <tr>\n",
       "      <th>2</th>\n",
       "      <td>0.080641</td>\n",
       "      <td>0.200156</td>\n",
       "      <td>0.079865</td>\n",
       "      <td>0.217932</td>\n",
       "    </tr>\n",
       "    <tr>\n",
       "      <th>3</th>\n",
       "      <td>0.076694</td>\n",
       "      <td>0.259049</td>\n",
       "      <td>0.073306</td>\n",
       "      <td>0.320681</td>\n",
       "    </tr>\n",
       "    <tr>\n",
       "      <th>4</th>\n",
       "      <td>0.072596</td>\n",
       "      <td>0.325610</td>\n",
       "      <td>0.070202</td>\n",
       "      <td>0.379581</td>\n",
       "    </tr>\n",
       "    <tr>\n",
       "      <th>5</th>\n",
       "      <td>0.068887</td>\n",
       "      <td>0.387963</td>\n",
       "      <td>0.067978</td>\n",
       "      <td>0.411649</td>\n",
       "    </tr>\n",
       "    <tr>\n",
       "      <th>6</th>\n",
       "      <td>0.065424</td>\n",
       "      <td>0.436204</td>\n",
       "      <td>0.064548</td>\n",
       "      <td>0.462696</td>\n",
       "    </tr>\n",
       "    <tr>\n",
       "      <th>7</th>\n",
       "      <td>0.062090</td>\n",
       "      <td>0.478000</td>\n",
       "      <td>0.062491</td>\n",
       "      <td>0.475785</td>\n",
       "    </tr>\n",
       "    <tr>\n",
       "      <th>8</th>\n",
       "      <td>0.059236</td>\n",
       "      <td>0.503477</td>\n",
       "      <td>0.058739</td>\n",
       "      <td>0.507199</td>\n",
       "    </tr>\n",
       "    <tr>\n",
       "      <th>9</th>\n",
       "      <td>0.056781</td>\n",
       "      <td>0.516979</td>\n",
       "      <td>0.056666</td>\n",
       "      <td>0.524215</td>\n",
       "    </tr>\n",
       "  </tbody>\n",
       "</table>\n",
       "</div>"
      ],
      "text/plain": [
       "   train_loss_summary  train_acc_summary  valid_loss_summary  \\\n",
       "0            0.089902           0.125081            0.087984   \n",
       "1            0.085045           0.154968            0.082516   \n",
       "2            0.080641           0.200156            0.079865   \n",
       "3            0.076694           0.259049            0.073306   \n",
       "4            0.072596           0.325610            0.070202   \n",
       "5            0.068887           0.387963            0.067978   \n",
       "6            0.065424           0.436204            0.064548   \n",
       "7            0.062090           0.478000            0.062491   \n",
       "8            0.059236           0.503477            0.058739   \n",
       "9            0.056781           0.516979            0.056666   \n",
       "\n",
       "   valid_acc_summary  \n",
       "0           0.126309  \n",
       "1           0.180628  \n",
       "2           0.217932  \n",
       "3           0.320681  \n",
       "4           0.379581  \n",
       "5           0.411649  \n",
       "6           0.462696  \n",
       "7           0.475785  \n",
       "8           0.507199  \n",
       "9           0.524215  "
      ]
     },
     "execution_count": 34,
     "metadata": {},
     "output_type": "execute_result"
    }
   ],
   "source": [
    "learn.evaluator.summary"
   ]
  },
  {
   "cell_type": "markdown",
   "metadata": {},
   "source": [
    "# TODO:\n",
    "0. What causes overfitting? Read into this first. Can a simplier model work?\n",
    "1. Play with Thresholds -> look more into the labeling scheme. What happens when we change the thresholds? What are the counts for both the training_dl and valid_dl? Try different extremes and see if there is a difference\n",
    "2. Play with another labeling scheme. Try stationary close again, does this perform differently? \n",
    "3. Attempt more data once more \n",
    "4. Build capsule network -> does this perform different?\n",
    "5. Include an RNN as the decoder -> head -> classification"
   ]
  },
  {
   "cell_type": "code",
   "execution_count": 24,
   "metadata": {
    "execution": {
     "iopub.execute_input": "2020-10-17T20:17:41.025468Z",
     "iopub.status.busy": "2020-10-17T20:17:41.024472Z",
     "iopub.status.idle": "2020-10-17T20:17:42.302762Z",
     "shell.execute_reply": "2020-10-17T20:17:42.302762Z",
     "shell.execute_reply.started": "2020-10-17T20:17:41.024472Z"
    }
   },
   "outputs": [
    {
     "data": {
      "application/vnd.jupyter.widget-view+json": {
       "model_id": "db6b9525cf024a6b90221246d14b9dd3",
       "version_major": 2,
       "version_minor": 0
      },
      "text/plain": [
       "HBox(children=(FloatProgress(value=0.0), HTML(value='')))"
      ]
     },
     "metadata": {},
     "output_type": "display_data"
    },
    {
     "name": "stdout",
     "output_type": "stream",
     "text": [
      "Stopping early, the loss has diverged\n",
      "\n",
      "Learning rate search finished. See the graph with {finder_name}.plot()\n"
     ]
    },
    {
     "data": {
      "image/png": "[encoded data removed]",
      "text/plain": [
       "<Figure size 432x288 with 1 Axes>"
      ]
     },
     "metadata": {
      "needs_background": "light"
     },
     "output_type": "display_data"
    },
    {
     "name": "stdout",
     "output_type": "stream",
     "text": [
      "set state called\n"
     ]
    }
   ],
   "source": [
    "learn.lr_finder()"
   ]
  },
  {
   "cell_type": "code",
   "execution_count": null,
   "metadata": {},
   "outputs": [],
   "source": []
  },
  {
   "cell_type": "code",
   "execution_count": null,
   "metadata": {},
   "outputs": [],
   "source": []
  },
  {
   "cell_type": "code",
   "execution_count": null,
   "metadata": {},
   "outputs": [],
   "source": []
  }
 ],
 "metadata": {
  "kernelspec": {
   "display_name": "Python 3",
   "language": "python",
   "name": "python3"
  },
  "language_info": {
   "codemirror_mode": {
    "name": "ipython",
    "version": 3
   },
   "file_extension": ".py",
   "mimetype": "text/x-python",
   "name": "python",
   "nbconvert_exporter": "python",
   "pygments_lexer": "ipython3",
   "version": "3.7.3"
  }
 },
 "nbformat": 4,
 "nbformat_minor": 4
}
