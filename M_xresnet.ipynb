{
 "cells": [
  {
   "cell_type": "markdown",
   "metadata": {},
   "source": [
    "## Re-Creating XResNet from FastAI"
   ]
  },
  {
   "cell_type": "code",
   "execution_count": 89,
   "metadata": {
    "execution": {
     "iopub.execute_input": "2020-10-01T22:45:59.628883Z",
     "iopub.status.busy": "2020-10-01T22:45:59.627884Z",
     "iopub.status.idle": "2020-10-01T22:45:59.631872Z",
     "shell.execute_reply": "2020-10-01T22:45:59.631872Z",
     "shell.execute_reply.started": "2020-10-01T22:45:59.628883Z"
    }
   },
   "outputs": [],
   "source": [
    "import torch\n",
    "import torch.nn as nn\n",
    "import torch.nn.functional as F\n",
    "from torch.nn.utils import spectral_norm\n",
    "from fastcore import foundation as fd\n",
    "import math"
   ]
  },
  {
   "cell_type": "code",
   "execution_count": 2,
   "metadata": {
    "execution": {
     "iopub.execute_input": "2020-10-01T21:01:11.458621Z",
     "iopub.status.busy": "2020-10-01T21:01:11.458621Z",
     "iopub.status.idle": "2020-10-01T21:01:11.462635Z",
     "shell.execute_reply": "2020-10-01T21:01:11.462635Z",
     "shell.execute_reply.started": "2020-10-01T21:01:11.458621Z"
    }
   },
   "outputs": [],
   "source": [
    "delegates = fd.delegates"
   ]
  },
  {
   "cell_type": "code",
   "execution_count": 148,
   "metadata": {
    "execution": {
     "iopub.execute_input": "2020-10-01T23:45:44.388649Z",
     "iopub.status.busy": "2020-10-01T23:45:44.387651Z",
     "iopub.status.idle": "2020-10-01T23:45:44.392639Z",
     "shell.execute_reply": "2020-10-01T23:45:44.392639Z",
     "shell.execute_reply.started": "2020-10-01T23:45:44.388649Z"
    }
   },
   "outputs": [],
   "source": [
    "\"\"\"\n",
    "TODO: Expand with various norms: Group norm & Instance norm\n",
    "\"\"\"\n",
    "_norms_ = {'bn': nn.BatchNorm2d, 'gn': nn.GroupNorm}\n",
    "def _get_norm(norm):\n",
    "    try: return _norms_[norm] if norm is not None else None\n",
    "    except Exception as e: raise ValueError(f'{e}\\nWrong norm type use [bn, gn]')"
   ]
  },
  {
   "cell_type": "code",
   "execution_count": 149,
   "metadata": {
    "execution": {
     "iopub.execute_input": "2020-10-01T23:45:44.539261Z",
     "iopub.status.busy": "2020-10-01T23:45:44.538263Z",
     "iopub.status.idle": "2020-10-01T23:45:44.545244Z",
     "shell.execute_reply": "2020-10-01T23:45:44.544247Z",
     "shell.execute_reply.started": "2020-10-01T23:45:44.539261Z"
    }
   },
   "outputs": [],
   "source": [
    "\"\"\"\n",
    "TODO: Expand with various activations: Follow FastAI for proper \n",
    "\"\"\"\n",
    "_activations_ = {'relu': nn.ReLU, 'sigmoid': nn.Sigmoid}\n",
    "def _get_act_cls(act_cls):\n",
    "    try: return _activations_[act_cls] if act_cls is not None else None\n",
    "    except Exception as e: raise ValueError(f'{e}\\nWrong activation')"
   ]
  },
  {
   "cell_type": "code",
   "execution_count": 150,
   "metadata": {
    "execution": {
     "iopub.execute_input": "2020-10-01T23:45:44.647969Z",
     "iopub.status.busy": "2020-10-01T23:45:44.647969Z",
     "iopub.status.idle": "2020-10-01T23:45:44.651959Z",
     "shell.execute_reply": "2020-10-01T23:45:44.650966Z",
     "shell.execute_reply.started": "2020-10-01T23:45:44.647969Z"
    }
   },
   "outputs": [],
   "source": [
    "def AvgPool(ks=2, stride=None, padding=0, ceil_mode=False):\n",
    "    return nn.AvgPool2d(ks, stride=stride, padding=padding, ceil_mode=ceil_mode)"
   ]
  },
  {
   "cell_type": "code",
   "execution_count": 151,
   "metadata": {
    "execution": {
     "iopub.execute_input": "2020-10-01T23:45:44.814523Z",
     "iopub.status.busy": "2020-10-01T23:45:44.814523Z",
     "iopub.status.idle": "2020-10-01T23:45:44.818517Z",
     "shell.execute_reply": "2020-10-01T23:45:44.818517Z",
     "shell.execute_reply.started": "2020-10-01T23:45:44.814523Z"
    }
   },
   "outputs": [],
   "source": [
    "def MaxPool(ks=2, stride=None, padding=0, ceil_mode=False):\n",
    "    return nn.MaxPool2d(ks, stride=stride, padding=padding)"
   ]
  },
  {
   "cell_type": "code",
   "execution_count": 152,
   "metadata": {
    "execution": {
     "iopub.execute_input": "2020-10-01T23:45:45.191516Z",
     "iopub.status.busy": "2020-10-01T23:45:45.191516Z",
     "iopub.status.idle": "2020-10-01T23:45:45.195505Z",
     "shell.execute_reply": "2020-10-01T23:45:45.195505Z",
     "shell.execute_reply.started": "2020-10-01T23:45:45.191516Z"
    }
   },
   "outputs": [],
   "source": [
    "def AdaptiveAvgPool(sz=1):\n",
    "    return nn.AdaptiveAvgPool2d(sz)"
   ]
  },
  {
   "cell_type": "code",
   "execution_count": 153,
   "metadata": {
    "execution": {
     "iopub.execute_input": "2020-10-01T23:45:47.143310Z",
     "iopub.status.busy": "2020-10-01T23:45:47.143310Z",
     "iopub.status.idle": "2020-10-01T23:45:47.147299Z",
     "shell.execute_reply": "2020-10-01T23:45:47.147299Z",
     "shell.execute_reply.started": "2020-10-01T23:45:47.143310Z"
    }
   },
   "outputs": [],
   "source": [
    "class Flatten(nn.Module):\n",
    "    def forward(self, x): return x.view(x.size(0), -1)"
   ]
  },
  {
   "cell_type": "code",
   "execution_count": 154,
   "metadata": {
    "execution": {
     "iopub.execute_input": "2020-10-01T23:45:47.418588Z",
     "iopub.status.busy": "2020-10-01T23:45:47.418588Z",
     "iopub.status.idle": "2020-10-01T23:45:47.423575Z",
     "shell.execute_reply": "2020-10-01T23:45:47.422579Z",
     "shell.execute_reply.started": "2020-10-01T23:45:47.418588Z"
    }
   },
   "outputs": [],
   "source": [
    "def init_cnn(m):\n",
    "    if getattr(m, 'bias', None) is not None: nn.init.constant_(m.bias, 0)\n",
    "    if isinstance(m, (nn.Conv2d, nn.Conv1d, nn.Linear)): nn.init.kaiming_normal_(m.weight)\n",
    "    for l in m.children(): init_cnn(l)"
   ]
  },
  {
   "cell_type": "code",
   "execution_count": 179,
   "metadata": {
    "execution": {
     "iopub.execute_input": "2020-10-01T23:47:57.739663Z",
     "iopub.status.busy": "2020-10-01T23:47:57.738665Z",
     "iopub.status.idle": "2020-10-01T23:47:57.743652Z",
     "shell.execute_reply": "2020-10-01T23:47:57.743652Z",
     "shell.execute_reply.started": "2020-10-01T23:47:57.739663Z"
    }
   },
   "outputs": [],
   "source": [
    "def SEBlock(expansion, ni, nf, reduction=16, stride=1, **kwargs):\n",
    "    return ResBlock(expansion, ni, nf, stride=stride, reduction=reduction, nh1=nf*2, nh2=nf*expansion, **kwargs)"
   ]
  },
  {
   "cell_type": "code",
   "execution_count": 180,
   "metadata": {
    "execution": {
     "iopub.execute_input": "2020-10-01T23:47:57.872331Z",
     "iopub.status.busy": "2020-10-01T23:47:57.871357Z",
     "iopub.status.idle": "2020-10-01T23:47:57.881306Z",
     "shell.execute_reply": "2020-10-01T23:47:57.880309Z",
     "shell.execute_reply.started": "2020-10-01T23:47:57.872331Z"
    }
   },
   "outputs": [],
   "source": [
    "class SequentialEx(nn.Module):\n",
    "    \"\"\"\n",
    "    Like nn.sequential but with ModuleList semantics sand can access module input\n",
    "    \"\"\"\n",
    "    def __init__(self, *layers): \n",
    "        super(SequentialEx, self).__init__()\n",
    "        self.layers = nn.ModuleList(layers)\n",
    "    \n",
    "    def forward(self, x):\n",
    "        res = x\n",
    "        for l in self.layers:\n",
    "            res.orig = x\n",
    "            nres = l(res)\n",
    "            res.orig = None\n",
    "            res = nres\n",
    "        return res\n",
    "    \n",
    "    def __getitem__(self, i): return self.layers[i]\n",
    "    def append(self, l): return self.layers.append(l)\n",
    "    def extend(self, l): return self.layers.extend(l)\n",
    "    def insert(self, i, l): return self.layers.insert(i,l)"
   ]
  },
  {
   "cell_type": "code",
   "execution_count": 181,
   "metadata": {
    "execution": {
     "iopub.execute_input": "2020-10-01T23:47:57.995999Z",
     "iopub.status.busy": "2020-10-01T23:47:57.995999Z",
     "iopub.status.idle": "2020-10-01T23:47:58.001984Z",
     "shell.execute_reply": "2020-10-01T23:47:58.000986Z",
     "shell.execute_reply.started": "2020-10-01T23:47:57.995999Z"
    }
   },
   "outputs": [],
   "source": [
    "class ProdLayer(nn.Module):\n",
    "    def __init__(self): \n",
    "        super(ProdLayer, self).__init__()\n",
    "        pass\n",
    "    def forward(self, x): return x * x.orig"
   ]
  },
  {
   "cell_type": "code",
   "execution_count": 182,
   "metadata": {
    "execution": {
     "iopub.execute_input": "2020-10-01T23:47:58.085759Z",
     "iopub.status.busy": "2020-10-01T23:47:58.085759Z",
     "iopub.status.idle": "2020-10-01T23:47:58.090747Z",
     "shell.execute_reply": "2020-10-01T23:47:58.089776Z",
     "shell.execute_reply.started": "2020-10-01T23:47:58.085759Z"
    }
   },
   "outputs": [],
   "source": [
    "def SEModule(ch, reduction, act_cls='relu'):\n",
    "    nf = math.ceil(ch//reduction/8)*8\n",
    "    return SequentialEx(\n",
    "        nn.AdaptiveAvgPool2d(1),\n",
    "        ConvLayer(ch, nf, ks=1, norm_type=None, act_cls=act_cls),\n",
    "        ConvLayer(nf, ch, ks=1, norm_type=None, act_cls='sigmoid'),\n",
    "        ProdLayer()\n",
    "    )"
   ]
  },
  {
   "cell_type": "code",
   "execution_count": 183,
   "metadata": {
    "execution": {
     "iopub.execute_input": "2020-10-01T23:47:58.199455Z",
     "iopub.status.busy": "2020-10-01T23:47:58.198457Z",
     "iopub.status.idle": "2020-10-01T23:47:58.203446Z",
     "shell.execute_reply": "2020-10-01T23:47:58.203446Z",
     "shell.execute_reply.started": "2020-10-01T23:47:58.199455Z"
    }
   },
   "outputs": [],
   "source": [
    "def _conv1d_spect(ni, no, ks=1, stride=1, padding=0, bias=False):\n",
    "    \"\"\"\n",
    "    Create and init a conv1d layer with spectral normalization\n",
    "    \"\"\"\n",
    "    conv = nn.Conv1d(ni, no, ks, stride=stride, padding=padding, bias=bias)\n",
    "    nn.init.kaiming_normal_(conv.weight)\n",
    "    if bias: conv.bias.data.zero_()\n",
    "    return spectral_norm(conv)"
   ]
  },
  {
   "cell_type": "code",
   "execution_count": 184,
   "metadata": {
    "execution": {
     "iopub.execute_input": "2020-10-01T23:47:58.313151Z",
     "iopub.status.busy": "2020-10-01T23:47:58.313151Z",
     "iopub.status.idle": "2020-10-01T23:47:58.321130Z",
     "shell.execute_reply": "2020-10-01T23:47:58.321130Z",
     "shell.execute_reply.started": "2020-10-01T23:47:58.313151Z"
    }
   },
   "outputs": [],
   "source": [
    "class SimpleSelfAttention(nn.Module):\n",
    "    def __init__(self, n_in, ks=1, sym=False):\n",
    "        super(SimpleSelfAttention, self).__init__()\n",
    "        self.sym, self.n_in = sym, n_in\n",
    "        self.conv = _conv1d_spect(n_in, n_in, ks, padding=ks//2, bias=False)\n",
    "        self.gamma = nn.Parameter(torch.tensor([0.]))\n",
    "        \n",
    "    def forward(self, x):\n",
    "        if self.sym:\n",
    "            c = self.conv.weight.view(self.n_in, self.n_in)\n",
    "            c = (c + c.t())/2\n",
    "            self.conv.weight = c.view(self.n_in, self.n_in, 1)\n",
    "        \n",
    "        size = x.size()\n",
    "        x = x.view(*size[:2], -1)\n",
    "        \n",
    "        convx = self.conv(x)\n",
    "        xxT = torch.bmm(x, x.permute(0,2,1).contiguous())\n",
    "        o = torch.bmm(xxt, convx)\n",
    "        o = self.gamma * o + x\n",
    "        return o.view(*size).contiguous()"
   ]
  },
  {
   "cell_type": "code",
   "execution_count": 185,
   "metadata": {
    "execution": {
     "iopub.execute_input": "2020-10-01T23:47:58.415876Z",
     "iopub.status.busy": "2020-10-01T23:47:58.415876Z",
     "iopub.status.idle": "2020-10-01T23:47:58.423856Z",
     "shell.execute_reply": "2020-10-01T23:47:58.422868Z",
     "shell.execute_reply.started": "2020-10-01T23:47:58.415876Z"
    }
   },
   "outputs": [],
   "source": [
    "class ConvLayer(nn.Sequential):\n",
    "    \"\"\"\n",
    "    Creates a sequence of Conv, Act, Norm\n",
    "    \"\"\"\n",
    "    @delegates(nn.Conv2d)\n",
    "    def __init__(self, ni, nf, ks=3, stride=1, padding=None, bias=None, norm_type='bn', bn_1st=True, act_cls='relu', init='auto', xtra=None, bias_std=0.01, **kwargs):\n",
    "        if padding is None: padding = ((ks-1)//2)\n",
    "        norm = _get_norm(norm_type)\n",
    "        bias = None if not (not norm) else bias\n",
    "        conv = nn.Conv2d(ni, nf, kernel_size=ks, bias=bias, stride=stride, padding=padding, **kwargs)\n",
    "        act = _get_act_cls(act_cls)\n",
    "        layers = [conv]\n",
    "        act_bn = []\n",
    "        if act is not None: act_bn.append(act())\n",
    "        if norm: act_bn.append(norm(nf))\n",
    "        if bn_1st: act_bn.reverse()\n",
    "        layers+=act_bn\n",
    "        if xtra: layers.append(xtra)\n",
    "        super().__init__(*layers)"
   ]
  },
  {
   "cell_type": "code",
   "execution_count": 186,
   "metadata": {
    "execution": {
     "iopub.execute_input": "2020-10-01T23:47:58.525583Z",
     "iopub.status.busy": "2020-10-01T23:47:58.525583Z",
     "iopub.status.idle": "2020-10-01T23:47:58.536554Z",
     "shell.execute_reply": "2020-10-01T23:47:58.536554Z",
     "shell.execute_reply.started": "2020-10-01T23:47:58.525583Z"
    }
   },
   "outputs": [],
   "source": [
    "class ResBlock(nn.Module):\n",
    "    \"\"\"\n",
    "    Resnet block from ni to nh with stride\n",
    "    \"\"\"\n",
    "    @delegates(ConvLayer.__init__)\n",
    "    def __init__(self, expansion, ni, nf, stride=1, groups=1, reduction=None, nh1=None, nh2=None, dw=False, g2=1, sa=False, sym=False, norm_type='bn', act_cls='relu', ks=3, pool_first=True, **kwargs):\n",
    "        super(ResBlock, self).__init__()\n",
    "        norm1 = norm2 = norm_type\n",
    "        pool = AvgPool\n",
    "        if nh2 is None: nh2 = nf\n",
    "        if nh1 is None: nh1 = nh2\n",
    "        nf, ni = nf*expansion, ni*expansion\n",
    "        k0 = dict(norm_type=norm1, act_cls=act_cls, **kwargs)\n",
    "        k1 = dict(norm_type=norm2, act_cls=None, **kwargs)\n",
    "        conv_path = [\n",
    "            ConvLayer(ni, nh2, ks, stride=stride, **k0),\n",
    "            ConvLayer(nh2, nf, ks, **k1)\n",
    "        ] if expansion == 1 else [\n",
    "            ConvLayer(ni, nh1, 1, **k0),\n",
    "            ConvLayer(nh1, nh2, ks, stride=stride, **k0),\n",
    "            ConvLayer(nh2, nf, 1, **k1)]\n",
    "        if reduction: conv_path.append(SEModule(nf, reduction=reduction, act_cls=act_cls))\n",
    "        if sa: conv_path.append(SimpleSelfAttention(nf, ks=1, sym=sym))\n",
    "        self.conv_path = nn.Sequential(*conv_path)\n",
    "        id_path = []\n",
    "        if ni!=nf: id_path.append(ConvLayer(ni, nf, 1, act_cls=None, **kwargs))\n",
    "        if stride!=1: id_path.insert((1,0)[pool_first], pool(stride, ceil_mode=True))\n",
    "        self.id_path = nn.Sequential(*id_path)\n",
    "        self.act = _get_act_cls(act_cls)(inplace=True) if act_cls=='relu' else _get_act_cls(act_cls)()\n",
    "        \n",
    "    def forward(self, x): return self.act(self.conv_path(x) + self.id_path(x))"
   ]
  },
  {
   "cell_type": "code",
   "execution_count": 187,
   "metadata": {
    "execution": {
     "iopub.execute_input": "2020-10-01T23:47:58.647258Z",
     "iopub.status.busy": "2020-10-01T23:47:58.647258Z",
     "iopub.status.idle": "2020-10-01T23:47:58.662251Z",
     "shell.execute_reply": "2020-10-01T23:47:58.662251Z",
     "shell.execute_reply.started": "2020-10-01T23:47:58.647258Z"
    }
   },
   "outputs": [],
   "source": [
    "class XResNet(nn.Sequential):\n",
    "    @delegates(ResBlock)\n",
    "    def __init__(self, block, expansion, layers, p=0.0, c_in=3, n_out=1000, stem_szs=(32, 32, 64), widen=1.0, sa=False, act_cls='relu', ks=3, stride=2, **kwargs):\n",
    "        self.block, self.expansion, self.act_cls, self.ks = block, expansion, act_cls, ks\n",
    "        if ks%2==0: raise Exception('Kernel size has to be odd')\n",
    "        stem_szs = [c_in, *stem_szs]\n",
    "        stem = [ConvLayer(stem_szs[i], stem_szs[i+1], ks=ks, stride=stride if i==0 else 1, act_cls=act_cls)\n",
    "                for i in range(3)]\n",
    "        \n",
    "        block_szs = [int(o*widen) for o in [64,128,256,512] +[256]*(len(layers)-4)]\n",
    "        block_szs = [64//expansion] + block_szs\n",
    "        blocks = self._make_blocks(layers, block_szs, sa, stride, **kwargs)\n",
    "        \n",
    "        super().__init__(\n",
    "            *stem, MaxPool(ks=ks, stride=stride, padding=ks//2),\n",
    "            *blocks,\n",
    "            AdaptiveAvgPool(sz=1), Flatten(), nn.Dropout(p),\n",
    "            nn.Linear(block_szs[-1]*expansion, n_out),\n",
    "        )\n",
    "        init_cnn(self)\n",
    "        \n",
    "    def _make_blocks(self, layers, block_szs, sa, stride, **kwargs):\n",
    "        return [self._make_layer(ni=block_szs[i], nf=block_szs[i+1], blocks=l,\n",
    "                                 stride=1 if i==0 else stride, sa=sa and i==len(layers)-4, **kwargs)\n",
    "                                 for i,l in enumerate(layers)]\n",
    "    \n",
    "    def _make_layer(self, ni, nf, blocks, stride, sa, **kwargs):\n",
    "        return nn.Sequential(\n",
    "            *[self.block(self.expansion, ni if i==0 else nf, nf, stride=stride if i==0 else 1,\n",
    "                         sa=sa and i==(blocks-1), act_cls=self.act_cls, ks=self.ks, **kwargs)\n",
    "                         for i in range(blocks)])"
   ]
  },
  {
   "cell_type": "code",
   "execution_count": 192,
   "metadata": {
    "execution": {
     "iopub.execute_input": "2020-10-01T23:48:06.860632Z",
     "iopub.status.busy": "2020-10-01T23:48:06.860632Z",
     "iopub.status.idle": "2020-10-01T23:48:06.864622Z",
     "shell.execute_reply": "2020-10-01T23:48:06.864622Z",
     "shell.execute_reply.started": "2020-10-01T23:48:06.860632Z"
    }
   },
   "outputs": [],
   "source": [
    "def _xresnet(expansion, layers, **kwargs):\n",
    "    res = XResNet(ResBlock, expansion, layers, **kwargs)\n",
    "    return res\n",
    "    \n",
    "def _xseresnet(expansion, layers, **kwargs):\n",
    "    res = XResNet(SEBlock, expansion, layers, **kwargs)\n",
    "    return res"
   ]
  },
  {
   "cell_type": "code",
   "execution_count": 193,
   "metadata": {
    "execution": {
     "iopub.execute_input": "2020-10-01T23:48:07.001272Z",
     "iopub.status.busy": "2020-10-01T23:48:07.001272Z",
     "iopub.status.idle": "2020-10-01T23:48:07.005262Z",
     "shell.execute_reply": "2020-10-01T23:48:07.005262Z",
     "shell.execute_reply.started": "2020-10-01T23:48:07.001272Z"
    }
   },
   "outputs": [],
   "source": [
    "def xmininet(n_in, n_out=1000, **kwargs):\n",
    "    layers = [1, 1, 1, 1]\n",
    "    return _xresnet(1, layers, c_in=n_in, n_out=n_out, **kwargs)"
   ]
  },
  {
   "cell_type": "code",
   "execution_count": 194,
   "metadata": {
    "execution": {
     "iopub.execute_input": "2020-10-01T23:48:07.128931Z",
     "iopub.status.busy": "2020-10-01T23:48:07.128931Z",
     "iopub.status.idle": "2020-10-01T23:48:07.132921Z",
     "shell.execute_reply": "2020-10-01T23:48:07.132921Z",
     "shell.execute_reply.started": "2020-10-01T23:48:07.128931Z"
    }
   },
   "outputs": [],
   "source": [
    "def xsemininet(n_in, n_out=1000, **kwargs):\n",
    "    layers = [1, 1, 1, 1]\n",
    "    return _xseresnet(1, layers, c_in=n_in, n_out=n_out, **kwargs)"
   ]
  },
  {
   "cell_type": "code",
   "execution_count": 206,
   "metadata": {
    "execution": {
     "iopub.execute_input": "2020-10-01T23:49:58.509726Z",
     "iopub.status.busy": "2020-10-01T23:49:58.509726Z",
     "iopub.status.idle": "2020-10-01T23:49:58.641457Z",
     "shell.execute_reply": "2020-10-01T23:49:58.640553Z",
     "shell.execute_reply.started": "2020-10-01T23:49:58.509726Z"
    }
   },
   "outputs": [],
   "source": [
    "mn = xmininet(n_in=20, n_out=10)\n",
    "se_mn = xsemininet(n_in=20, n_out=10)"
   ]
  },
  {
   "cell_type": "code",
   "execution_count": 207,
   "metadata": {
    "execution": {
     "iopub.execute_input": "2020-10-01T23:49:58.762134Z",
     "iopub.status.busy": "2020-10-01T23:49:58.761136Z",
     "iopub.status.idle": "2020-10-01T23:49:58.765126Z",
     "shell.execute_reply": "2020-10-01T23:49:58.765126Z",
     "shell.execute_reply.started": "2020-10-01T23:49:58.762134Z"
    }
   },
   "outputs": [],
   "source": [
    "device = torch.device('cuda:0')"
   ]
  },
  {
   "cell_type": "code",
   "execution_count": 208,
   "metadata": {
    "execution": {
     "iopub.execute_input": "2020-10-01T23:49:59.061493Z",
     "iopub.status.busy": "2020-10-01T23:49:59.061493Z",
     "iopub.status.idle": "2020-10-01T23:49:59.064453Z",
     "shell.execute_reply": "2020-10-01T23:49:59.064453Z",
     "shell.execute_reply.started": "2020-10-01T23:49:59.061493Z"
    }
   },
   "outputs": [],
   "source": [
    "from torchsummary import summary"
   ]
  },
  {
   "cell_type": "code",
   "execution_count": 209,
   "metadata": {
    "execution": {
     "iopub.execute_input": "2020-10-01T23:49:59.354182Z",
     "iopub.status.busy": "2020-10-01T23:49:59.354182Z",
     "iopub.status.idle": "2020-10-01T23:49:59.385320Z",
     "shell.execute_reply": "2020-10-01T23:49:59.385320Z",
     "shell.execute_reply.started": "2020-10-01T23:49:59.354182Z"
    }
   },
   "outputs": [],
   "source": [
    "mn = mn.to(device)\n",
    "se_mn = se_mn.to(device)"
   ]
  },
  {
   "cell_type": "code",
   "execution_count": 210,
   "metadata": {
    "execution": {
     "iopub.execute_input": "2020-10-01T23:50:01.723163Z",
     "iopub.status.busy": "2020-10-01T23:50:01.722165Z",
     "iopub.status.idle": "2020-10-01T23:50:01.752103Z",
     "shell.execute_reply": "2020-10-01T23:50:01.751105Z",
     "shell.execute_reply.started": "2020-10-01T23:50:01.723163Z"
    }
   },
   "outputs": [
    {
     "name": "stdout",
     "output_type": "stream",
     "text": [
      "----------------------------------------------------------------\n",
      "        Layer (type)               Output Shape         Param #\n",
      "================================================================\n",
      "            Conv2d-1           [-1, 32, 64, 64]           5,760\n",
      "       BatchNorm2d-2           [-1, 32, 64, 64]              64\n",
      "              ReLU-3           [-1, 32, 64, 64]               0\n",
      "            Conv2d-4           [-1, 32, 64, 64]           9,216\n",
      "       BatchNorm2d-5           [-1, 32, 64, 64]              64\n",
      "              ReLU-6           [-1, 32, 64, 64]               0\n",
      "            Conv2d-7           [-1, 64, 64, 64]          18,432\n",
      "       BatchNorm2d-8           [-1, 64, 64, 64]             128\n",
      "              ReLU-9           [-1, 64, 64, 64]               0\n",
      "        MaxPool2d-10           [-1, 64, 32, 32]               0\n",
      "           Conv2d-11           [-1, 64, 32, 32]          36,864\n",
      "      BatchNorm2d-12           [-1, 64, 32, 32]             128\n",
      "             ReLU-13           [-1, 64, 32, 32]               0\n",
      "           Conv2d-14           [-1, 64, 32, 32]          36,864\n",
      "      BatchNorm2d-15           [-1, 64, 32, 32]             128\n",
      "AdaptiveAvgPool2d-16             [-1, 64, 1, 1]               0\n",
      "           Conv2d-17              [-1, 8, 1, 1]             512\n",
      "             ReLU-18              [-1, 8, 1, 1]               0\n",
      "           Conv2d-19             [-1, 64, 1, 1]             512\n",
      "          Sigmoid-20             [-1, 64, 1, 1]               0\n",
      "        ProdLayer-21           [-1, 64, 32, 32]               0\n",
      "     SequentialEx-22           [-1, 64, 32, 32]               0\n",
      "             ReLU-23           [-1, 64, 32, 32]               0\n",
      "         ResBlock-24           [-1, 64, 32, 32]               0\n",
      "           Conv2d-25          [-1, 128, 16, 16]          73,728\n",
      "      BatchNorm2d-26          [-1, 128, 16, 16]             256\n",
      "             ReLU-27          [-1, 128, 16, 16]               0\n",
      "           Conv2d-28          [-1, 128, 16, 16]         147,456\n",
      "      BatchNorm2d-29          [-1, 128, 16, 16]             256\n",
      "AdaptiveAvgPool2d-30            [-1, 128, 1, 1]               0\n",
      "           Conv2d-31              [-1, 8, 1, 1]           1,024\n",
      "             ReLU-32              [-1, 8, 1, 1]               0\n",
      "           Conv2d-33            [-1, 128, 1, 1]           1,024\n",
      "          Sigmoid-34            [-1, 128, 1, 1]               0\n",
      "        ProdLayer-35          [-1, 128, 16, 16]               0\n",
      "     SequentialEx-36          [-1, 128, 16, 16]               0\n",
      "        AvgPool2d-37           [-1, 64, 16, 16]               0\n",
      "           Conv2d-38          [-1, 128, 16, 16]           8,192\n",
      "      BatchNorm2d-39          [-1, 128, 16, 16]             256\n",
      "             ReLU-40          [-1, 128, 16, 16]               0\n",
      "         ResBlock-41          [-1, 128, 16, 16]               0\n",
      "           Conv2d-42            [-1, 256, 8, 8]         294,912\n",
      "      BatchNorm2d-43            [-1, 256, 8, 8]             512\n",
      "             ReLU-44            [-1, 256, 8, 8]               0\n",
      "           Conv2d-45            [-1, 256, 8, 8]         589,824\n",
      "      BatchNorm2d-46            [-1, 256, 8, 8]             512\n",
      "AdaptiveAvgPool2d-47            [-1, 256, 1, 1]               0\n",
      "           Conv2d-48             [-1, 16, 1, 1]           4,096\n",
      "             ReLU-49             [-1, 16, 1, 1]               0\n",
      "           Conv2d-50            [-1, 256, 1, 1]           4,096\n",
      "          Sigmoid-51            [-1, 256, 1, 1]               0\n",
      "        ProdLayer-52            [-1, 256, 8, 8]               0\n",
      "     SequentialEx-53            [-1, 256, 8, 8]               0\n",
      "        AvgPool2d-54            [-1, 128, 8, 8]               0\n",
      "           Conv2d-55            [-1, 256, 8, 8]          32,768\n",
      "      BatchNorm2d-56            [-1, 256, 8, 8]             512\n",
      "             ReLU-57            [-1, 256, 8, 8]               0\n",
      "         ResBlock-58            [-1, 256, 8, 8]               0\n",
      "           Conv2d-59            [-1, 512, 4, 4]       1,179,648\n",
      "      BatchNorm2d-60            [-1, 512, 4, 4]           1,024\n",
      "             ReLU-61            [-1, 512, 4, 4]               0\n",
      "           Conv2d-62            [-1, 512, 4, 4]       2,359,296\n",
      "      BatchNorm2d-63            [-1, 512, 4, 4]           1,024\n",
      "AdaptiveAvgPool2d-64            [-1, 512, 1, 1]               0\n",
      "           Conv2d-65             [-1, 32, 1, 1]          16,384\n",
      "             ReLU-66             [-1, 32, 1, 1]               0\n",
      "           Conv2d-67            [-1, 512, 1, 1]          16,384\n",
      "          Sigmoid-68            [-1, 512, 1, 1]               0\n",
      "        ProdLayer-69            [-1, 512, 4, 4]               0\n",
      "     SequentialEx-70            [-1, 512, 4, 4]               0\n",
      "        AvgPool2d-71            [-1, 256, 4, 4]               0\n",
      "           Conv2d-72            [-1, 512, 4, 4]         131,072\n",
      "      BatchNorm2d-73            [-1, 512, 4, 4]           1,024\n",
      "             ReLU-74            [-1, 512, 4, 4]               0\n",
      "         ResBlock-75            [-1, 512, 4, 4]               0\n",
      "AdaptiveAvgPool2d-76            [-1, 512, 1, 1]               0\n",
      "          Flatten-77                  [-1, 512]               0\n",
      "          Dropout-78                  [-1, 512]               0\n",
      "           Linear-79                   [-1, 10]           5,130\n",
      "================================================================\n",
      "Total params: 4,979,082\n",
      "Trainable params: 4,979,082\n",
      "Non-trainable params: 0\n",
      "----------------------------------------------------------------\n",
      "Input size (MB): 1.25\n",
      "Forward/backward pass size (MB): 22.07\n",
      "Params size (MB): 18.99\n",
      "Estimated Total Size (MB): 42.31\n",
      "----------------------------------------------------------------\n"
     ]
    }
   ],
   "source": [
    "summary(se_mn, (20, 128, 128))"
   ]
  },
  {
   "cell_type": "code",
   "execution_count": 212,
   "metadata": {
    "execution": {
     "iopub.execute_input": "2020-10-02T00:28:03.969216Z",
     "iopub.status.busy": "2020-10-02T00:28:03.969216Z",
     "iopub.status.idle": "2020-10-02T00:28:03.975205Z",
     "shell.execute_reply": "2020-10-02T00:28:03.975205Z",
     "shell.execute_reply.started": "2020-10-02T00:28:03.969216Z"
    }
   },
   "outputs": [
    {
     "data": {
      "text/plain": [
       "XResNet(\n",
       "  (0): ConvLayer(\n",
       "    (0): Conv2d(20, 32, kernel_size=(3, 3), stride=(2, 2), padding=(1, 1), bias=False)\n",
       "    (1): BatchNorm2d(32, eps=1e-05, momentum=0.1, affine=True, track_running_stats=True)\n",
       "    (2): ReLU()\n",
       "  )\n",
       "  (1): ConvLayer(\n",
       "    (0): Conv2d(32, 32, kernel_size=(3, 3), stride=(1, 1), padding=(1, 1), bias=False)\n",
       "    (1): BatchNorm2d(32, eps=1e-05, momentum=0.1, affine=True, track_running_stats=True)\n",
       "    (2): ReLU()\n",
       "  )\n",
       "  (2): ConvLayer(\n",
       "    (0): Conv2d(32, 64, kernel_size=(3, 3), stride=(1, 1), padding=(1, 1), bias=False)\n",
       "    (1): BatchNorm2d(64, eps=1e-05, momentum=0.1, affine=True, track_running_stats=True)\n",
       "    (2): ReLU()\n",
       "  )\n",
       "  (3): MaxPool2d(kernel_size=3, stride=2, padding=1, dilation=1, ceil_mode=False)\n",
       "  (4): Sequential(\n",
       "    (0): ResBlock(\n",
       "      (conv_path): Sequential(\n",
       "        (0): ConvLayer(\n",
       "          (0): Conv2d(64, 64, kernel_size=(3, 3), stride=(1, 1), padding=(1, 1), bias=False)\n",
       "          (1): BatchNorm2d(64, eps=1e-05, momentum=0.1, affine=True, track_running_stats=True)\n",
       "          (2): ReLU()\n",
       "        )\n",
       "        (1): ConvLayer(\n",
       "          (0): Conv2d(64, 64, kernel_size=(3, 3), stride=(1, 1), padding=(1, 1), bias=False)\n",
       "          (1): BatchNorm2d(64, eps=1e-05, momentum=0.1, affine=True, track_running_stats=True)\n",
       "        )\n",
       "        (2): SequentialEx(\n",
       "          (layers): ModuleList(\n",
       "            (0): AdaptiveAvgPool2d(output_size=1)\n",
       "            (1): ConvLayer(\n",
       "              (0): Conv2d(64, 8, kernel_size=(1, 1), stride=(1, 1), bias=False)\n",
       "              (1): ReLU()\n",
       "            )\n",
       "            (2): ConvLayer(\n",
       "              (0): Conv2d(8, 64, kernel_size=(1, 1), stride=(1, 1), bias=False)\n",
       "              (1): Sigmoid()\n",
       "            )\n",
       "            (3): ProdLayer()\n",
       "          )\n",
       "        )\n",
       "      )\n",
       "      (id_path): Sequential()\n",
       "      (act): ReLU(inplace=True)\n",
       "    )\n",
       "  )\n",
       "  (5): Sequential(\n",
       "    (0): ResBlock(\n",
       "      (conv_path): Sequential(\n",
       "        (0): ConvLayer(\n",
       "          (0): Conv2d(64, 128, kernel_size=(3, 3), stride=(2, 2), padding=(1, 1), bias=False)\n",
       "          (1): BatchNorm2d(128, eps=1e-05, momentum=0.1, affine=True, track_running_stats=True)\n",
       "          (2): ReLU()\n",
       "        )\n",
       "        (1): ConvLayer(\n",
       "          (0): Conv2d(128, 128, kernel_size=(3, 3), stride=(1, 1), padding=(1, 1), bias=False)\n",
       "          (1): BatchNorm2d(128, eps=1e-05, momentum=0.1, affine=True, track_running_stats=True)\n",
       "        )\n",
       "        (2): SequentialEx(\n",
       "          (layers): ModuleList(\n",
       "            (0): AdaptiveAvgPool2d(output_size=1)\n",
       "            (1): ConvLayer(\n",
       "              (0): Conv2d(128, 8, kernel_size=(1, 1), stride=(1, 1), bias=False)\n",
       "              (1): ReLU()\n",
       "            )\n",
       "            (2): ConvLayer(\n",
       "              (0): Conv2d(8, 128, kernel_size=(1, 1), stride=(1, 1), bias=False)\n",
       "              (1): Sigmoid()\n",
       "            )\n",
       "            (3): ProdLayer()\n",
       "          )\n",
       "        )\n",
       "      )\n",
       "      (id_path): Sequential(\n",
       "        (0): AvgPool2d(kernel_size=2, stride=2, padding=0)\n",
       "        (1): ConvLayer(\n",
       "          (0): Conv2d(64, 128, kernel_size=(1, 1), stride=(1, 1), bias=False)\n",
       "          (1): BatchNorm2d(128, eps=1e-05, momentum=0.1, affine=True, track_running_stats=True)\n",
       "        )\n",
       "      )\n",
       "      (act): ReLU(inplace=True)\n",
       "    )\n",
       "  )\n",
       "  (6): Sequential(\n",
       "    (0): ResBlock(\n",
       "      (conv_path): Sequential(\n",
       "        (0): ConvLayer(\n",
       "          (0): Conv2d(128, 256, kernel_size=(3, 3), stride=(2, 2), padding=(1, 1), bias=False)\n",
       "          (1): BatchNorm2d(256, eps=1e-05, momentum=0.1, affine=True, track_running_stats=True)\n",
       "          (2): ReLU()\n",
       "        )\n",
       "        (1): ConvLayer(\n",
       "          (0): Conv2d(256, 256, kernel_size=(3, 3), stride=(1, 1), padding=(1, 1), bias=False)\n",
       "          (1): BatchNorm2d(256, eps=1e-05, momentum=0.1, affine=True, track_running_stats=True)\n",
       "        )\n",
       "        (2): SequentialEx(\n",
       "          (layers): ModuleList(\n",
       "            (0): AdaptiveAvgPool2d(output_size=1)\n",
       "            (1): ConvLayer(\n",
       "              (0): Conv2d(256, 16, kernel_size=(1, 1), stride=(1, 1), bias=False)\n",
       "              (1): ReLU()\n",
       "            )\n",
       "            (2): ConvLayer(\n",
       "              (0): Conv2d(16, 256, kernel_size=(1, 1), stride=(1, 1), bias=False)\n",
       "              (1): Sigmoid()\n",
       "            )\n",
       "            (3): ProdLayer()\n",
       "          )\n",
       "        )\n",
       "      )\n",
       "      (id_path): Sequential(\n",
       "        (0): AvgPool2d(kernel_size=2, stride=2, padding=0)\n",
       "        (1): ConvLayer(\n",
       "          (0): Conv2d(128, 256, kernel_size=(1, 1), stride=(1, 1), bias=False)\n",
       "          (1): BatchNorm2d(256, eps=1e-05, momentum=0.1, affine=True, track_running_stats=True)\n",
       "        )\n",
       "      )\n",
       "      (act): ReLU(inplace=True)\n",
       "    )\n",
       "  )\n",
       "  (7): Sequential(\n",
       "    (0): ResBlock(\n",
       "      (conv_path): Sequential(\n",
       "        (0): ConvLayer(\n",
       "          (0): Conv2d(256, 512, kernel_size=(3, 3), stride=(2, 2), padding=(1, 1), bias=False)\n",
       "          (1): BatchNorm2d(512, eps=1e-05, momentum=0.1, affine=True, track_running_stats=True)\n",
       "          (2): ReLU()\n",
       "        )\n",
       "        (1): ConvLayer(\n",
       "          (0): Conv2d(512, 512, kernel_size=(3, 3), stride=(1, 1), padding=(1, 1), bias=False)\n",
       "          (1): BatchNorm2d(512, eps=1e-05, momentum=0.1, affine=True, track_running_stats=True)\n",
       "        )\n",
       "        (2): SequentialEx(\n",
       "          (layers): ModuleList(\n",
       "            (0): AdaptiveAvgPool2d(output_size=1)\n",
       "            (1): ConvLayer(\n",
       "              (0): Conv2d(512, 32, kernel_size=(1, 1), stride=(1, 1), bias=False)\n",
       "              (1): ReLU()\n",
       "            )\n",
       "            (2): ConvLayer(\n",
       "              (0): Conv2d(32, 512, kernel_size=(1, 1), stride=(1, 1), bias=False)\n",
       "              (1): Sigmoid()\n",
       "            )\n",
       "            (3): ProdLayer()\n",
       "          )\n",
       "        )\n",
       "      )\n",
       "      (id_path): Sequential(\n",
       "        (0): AvgPool2d(kernel_size=2, stride=2, padding=0)\n",
       "        (1): ConvLayer(\n",
       "          (0): Conv2d(256, 512, kernel_size=(1, 1), stride=(1, 1), bias=False)\n",
       "          (1): BatchNorm2d(512, eps=1e-05, momentum=0.1, affine=True, track_running_stats=True)\n",
       "        )\n",
       "      )\n",
       "      (act): ReLU(inplace=True)\n",
       "    )\n",
       "  )\n",
       "  (8): AdaptiveAvgPool2d(output_size=1)\n",
       "  (9): Flatten()\n",
       "  (10): Dropout(p=0.0, inplace=False)\n",
       "  (11): Linear(in_features=512, out_features=10, bias=True)\n",
       ")"
      ]
     },
     "execution_count": 212,
     "metadata": {},
     "output_type": "execute_result"
    }
   ],
   "source": [
    "se_mn"
   ]
  },
  {
   "cell_type": "code",
   "execution_count": null,
   "metadata": {},
   "outputs": [],
   "source": []
  },
  {
   "cell_type": "code",
   "execution_count": null,
   "metadata": {},
   "outputs": [],
   "source": []
  },
  {
   "cell_type": "code",
   "execution_count": null,
   "metadata": {},
   "outputs": [],
   "source": []
  },
  {
   "cell_type": "code",
   "execution_count": null,
   "metadata": {},
   "outputs": [],
   "source": []
  },
  {
   "cell_type": "code",
   "execution_count": null,
   "metadata": {},
   "outputs": [],
   "source": []
  },
  {
   "cell_type": "code",
   "execution_count": null,
   "metadata": {},
   "outputs": [],
   "source": []
  },
  {
   "cell_type": "code",
   "execution_count": null,
   "metadata": {},
   "outputs": [],
   "source": []
  },
  {
   "cell_type": "code",
   "execution_count": null,
   "metadata": {},
   "outputs": [],
   "source": []
  },
  {
   "cell_type": "code",
   "execution_count": null,
   "metadata": {},
   "outputs": [],
   "source": []
  },
  {
   "cell_type": "code",
   "execution_count": null,
   "metadata": {},
   "outputs": [],
   "source": []
  },
  {
   "cell_type": "code",
   "execution_count": null,
   "metadata": {},
   "outputs": [],
   "source": []
  },
  {
   "cell_type": "code",
   "execution_count": null,
   "metadata": {},
   "outputs": [],
   "source": []
  },
  {
   "cell_type": "code",
   "execution_count": null,
   "metadata": {},
   "outputs": [],
   "source": []
  },
  {
   "cell_type": "code",
   "execution_count": null,
   "metadata": {},
   "outputs": [],
   "source": []
  }
 ],
 "metadata": {
  "kernelspec": {
   "display_name": "Python 3",
   "language": "python",
   "name": "python3"
  },
  "language_info": {
   "codemirror_mode": {
    "name": "ipython",
    "version": 3
   },
   "file_extension": ".py",
   "mimetype": "text/x-python",
   "name": "python",
   "nbconvert_exporter": "python",
   "pygments_lexer": "ipython3",
   "version": "3.7.3"
  }
 },
 "nbformat": 4,
 "nbformat_minor": 4
}
