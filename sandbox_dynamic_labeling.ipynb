{
 "cells": [
  {
   "cell_type": "markdown",
   "metadata": {},
   "source": [
    "# Labeling - based on stationary close"
   ]
  },
  {
   "cell_type": "code",
   "execution_count": 1,
   "metadata": {
    "execution": {
     "iopub.execute_input": "2020-10-17T21:03:18.975876Z",
     "iopub.status.busy": "2020-10-17T21:03:18.975876Z",
     "iopub.status.idle": "2020-10-17T21:03:19.750712Z",
     "shell.execute_reply": "2020-10-17T21:03:19.750712Z",
     "shell.execute_reply.started": "2020-10-17T21:03:18.975876Z"
    }
   },
   "outputs": [],
   "source": [
    "import matplotlib.pyplot as plt\n",
    "import matplotlib as mpl\n",
    "mpl.style.use('seaborn')\n",
    "import pandas as pd\n",
    "import numpy as np\n",
    "import os\n",
    "from pathlib import Path"
   ]
  },
  {
   "cell_type": "code",
   "execution_count": 2,
   "metadata": {
    "execution": {
     "iopub.execute_input": "2020-10-17T21:03:19.751713Z",
     "iopub.status.busy": "2020-10-17T21:03:19.751713Z",
     "iopub.status.idle": "2020-10-17T21:03:19.756663Z",
     "shell.execute_reply": "2020-10-17T21:03:19.756663Z",
     "shell.execute_reply.started": "2020-10-17T21:03:19.751713Z"
    }
   },
   "outputs": [],
   "source": [
    "def load_data(root=None, remove=None, headers=None):\n",
    "    data = Path('./OmegaDev/Model_Z/raw_data/GBP_USD_H1_2016-01-01_2018-01-01.csv') if root is None else Path(root)\n",
    "    headers = ['date', 'complete', 'open', 'high', 'low', 'close', 'volume'] if headers is None else headers\n",
    "    df = pd.read_csv(data, header=None, names=headers)\n",
    "    return df"
   ]
  },
  {
   "cell_type": "code",
   "execution_count": 3,
   "metadata": {
    "execution": {
     "iopub.execute_input": "2020-10-17T21:03:19.758677Z",
     "iopub.status.busy": "2020-10-17T21:03:19.757685Z",
     "iopub.status.idle": "2020-10-17T21:03:19.793591Z",
     "shell.execute_reply": "2020-10-17T21:03:19.793591Z",
     "shell.execute_reply.started": "2020-10-17T21:03:19.758677Z"
    }
   },
   "outputs": [],
   "source": [
    "df = load_data()"
   ]
  },
  {
   "cell_type": "code",
   "execution_count": 4,
   "metadata": {
    "execution": {
     "iopub.execute_input": "2020-10-17T21:03:20.355092Z",
     "iopub.status.busy": "2020-10-17T21:03:20.355092Z",
     "iopub.status.idle": "2020-10-17T21:03:20.365587Z",
     "shell.execute_reply": "2020-10-17T21:03:20.365587Z",
     "shell.execute_reply.started": "2020-10-17T21:03:20.355092Z"
    }
   },
   "outputs": [
    {
     "data": {
      "text/html": [
       "<div>\n",
       "<style scoped>\n",
       "    .dataframe tbody tr th:only-of-type {\n",
       "        vertical-align: middle;\n",
       "    }\n",
       "\n",
       "    .dataframe tbody tr th {\n",
       "        vertical-align: top;\n",
       "    }\n",
       "\n",
       "    .dataframe thead th {\n",
       "        text-align: right;\n",
       "    }\n",
       "</style>\n",
       "<table border=\"1\" class=\"dataframe\">\n",
       "  <thead>\n",
       "    <tr style=\"text-align: right;\">\n",
       "      <th></th>\n",
       "      <th>date</th>\n",
       "      <th>complete</th>\n",
       "      <th>open</th>\n",
       "      <th>high</th>\n",
       "      <th>low</th>\n",
       "      <th>close</th>\n",
       "      <th>volume</th>\n",
       "    </tr>\n",
       "  </thead>\n",
       "  <tbody>\n",
       "    <tr>\n",
       "      <th>0</th>\n",
       "      <td>2016-01-03T22:00:00</td>\n",
       "      <td>True</td>\n",
       "      <td>1.47352</td>\n",
       "      <td>1.47464</td>\n",
       "      <td>1.47351</td>\n",
       "      <td>1.47354</td>\n",
       "      <td>1068</td>\n",
       "    </tr>\n",
       "    <tr>\n",
       "      <th>1</th>\n",
       "      <td>2016-01-03T23:00:00</td>\n",
       "      <td>True</td>\n",
       "      <td>1.47343</td>\n",
       "      <td>1.47382</td>\n",
       "      <td>1.47266</td>\n",
       "      <td>1.47356</td>\n",
       "      <td>938</td>\n",
       "    </tr>\n",
       "    <tr>\n",
       "      <th>2</th>\n",
       "      <td>2016-01-04T00:00:00</td>\n",
       "      <td>True</td>\n",
       "      <td>1.47364</td>\n",
       "      <td>1.47412</td>\n",
       "      <td>1.47240</td>\n",
       "      <td>1.47278</td>\n",
       "      <td>570</td>\n",
       "    </tr>\n",
       "    <tr>\n",
       "      <th>3</th>\n",
       "      <td>2016-01-04T01:00:00</td>\n",
       "      <td>True</td>\n",
       "      <td>1.47284</td>\n",
       "      <td>1.47301</td>\n",
       "      <td>1.46936</td>\n",
       "      <td>1.47177</td>\n",
       "      <td>1133</td>\n",
       "    </tr>\n",
       "    <tr>\n",
       "      <th>4</th>\n",
       "      <td>2016-01-04T02:00:00</td>\n",
       "      <td>True</td>\n",
       "      <td>1.47183</td>\n",
       "      <td>1.47234</td>\n",
       "      <td>1.47041</td>\n",
       "      <td>1.47184</td>\n",
       "      <td>865</td>\n",
       "    </tr>\n",
       "  </tbody>\n",
       "</table>\n",
       "</div>"
      ],
      "text/plain": [
       "                  date  complete     open     high      low    close  volume\n",
       "0  2016-01-03T22:00:00      True  1.47352  1.47464  1.47351  1.47354    1068\n",
       "1  2016-01-03T23:00:00      True  1.47343  1.47382  1.47266  1.47356     938\n",
       "2  2016-01-04T00:00:00      True  1.47364  1.47412  1.47240  1.47278     570\n",
       "3  2016-01-04T01:00:00      True  1.47284  1.47301  1.46936  1.47177    1133\n",
       "4  2016-01-04T02:00:00      True  1.47183  1.47234  1.47041  1.47184     865"
      ]
     },
     "execution_count": 4,
     "metadata": {},
     "output_type": "execute_result"
    }
   ],
   "source": [
    "df.head()"
   ]
  },
  {
   "cell_type": "code",
   "execution_count": 5,
   "metadata": {
    "execution": {
     "iopub.execute_input": "2020-10-17T21:03:21.585855Z",
     "iopub.status.busy": "2020-10-17T21:03:21.584818Z",
     "iopub.status.idle": "2020-10-17T21:03:21.590801Z",
     "shell.execute_reply": "2020-10-17T21:03:21.590801Z",
     "shell.execute_reply.started": "2020-10-17T21:03:21.584818Z"
    }
   },
   "outputs": [
    {
     "data": {
      "text/plain": [
       "0.000551150312225828"
      ]
     },
     "execution_count": 5,
     "metadata": {},
     "output_type": "execute_result"
    }
   ],
   "source": [
    "df['close'].diff().iloc[:5].std()"
   ]
  },
  {
   "cell_type": "code",
   "execution_count": 8,
   "metadata": {
    "execution": {
     "iopub.execute_input": "2020-10-17T21:03:52.064089Z",
     "iopub.status.busy": "2020-10-17T21:03:52.064089Z",
     "iopub.status.idle": "2020-10-17T21:03:52.070074Z",
     "shell.execute_reply": "2020-10-17T21:03:52.070074Z",
     "shell.execute_reply.started": "2020-10-17T21:03:52.064089Z"
    }
   },
   "outputs": [],
   "source": [
    "def vol_label(start_idx, df, window=4, threshold_l=0.7, threshold_u=0.7):\n",
    "    \"\"\"\n",
    "    args:\n",
    "    -----------------\n",
    "        stard_idx: <int> the start index should be the last idx of the time-sequence we are using as predicted features (independent vars).\n",
    "                   if our time-series is from [0,1,2,3,4] then our start_idx should be 5 so our prediction label will be: [5, ... ,window]\n",
    "                   therefore, the start_idx should be be the last_idx of our time-series window\n",
    "        \n",
    "        df:        <df> dataframe for predicting\n",
    "        \n",
    "        threshold: <float> threshold for labels, test different values, along with dynamic values\n",
    "    \"\"\"\n",
    "    tf = df.iloc[start_idx:start_idx+window]['close']\n",
    "    vol = tf.diff(1).std()\n",
    "    price_n = tf.iloc[0]\n",
    "    upper_bound = price_n + vol * threshold_u\n",
    "    lower_bound = price_n - vol * threshold_l\n",
    "    lbls = []\n",
    "    for c in tf.values:\n",
    "        if c >= upper_bound: lbls.append(1)\n",
    "        elif c <= lower_bound: lbls.append(-1)\n",
    "    return lbls[0] if len(lbls) > 1 else 0"
   ]
  },
  {
   "cell_type": "code",
   "execution_count": 12,
   "metadata": {
    "execution": {
     "iopub.execute_input": "2020-10-17T21:04:09.899687Z",
     "iopub.status.busy": "2020-10-17T21:04:09.899687Z",
     "iopub.status.idle": "2020-10-17T21:04:09.906667Z",
     "shell.execute_reply": "2020-10-17T21:04:09.906667Z",
     "shell.execute_reply.started": "2020-10-17T21:04:09.899687Z"
    }
   },
   "outputs": [],
   "source": [
    "def vol_label_show(start_idx, df, y_col, window=4, threshold_l=0.7, threshold_u=0.7):\n",
    "    \"\"\"\n",
    "    args:\n",
    "    -----------------\n",
    "        stard_idx: <int> the start index should be the last idx of the time-sequence we are using as predicted features (independent vars).\n",
    "                   if our time-series is from [0,1,2,3,4] then our start_idx should be 5 so our prediction label will be: [5, ... ,window]\n",
    "                   therefore, the start_idx should be be the last_idx of our time-series window\n",
    "        \n",
    "        df:        <df> dataframe for predicting\n",
    "        \n",
    "        threshold: <float> threshold for labels, test different values, along with dynamic values\n",
    "    \"\"\"\n",
    "    tf = df.iloc[start_idx:start_idx+window][y_col]\n",
    "    vol = tf.diff(1).std()\n",
    "    price_n = tf.iloc[0]\n",
    "    upper_bound = price_n + vol * threshold_u\n",
    "    lower_bound = price_n - vol * threshold_l\n",
    "    lbls = []\n",
    "    for c in tf.values:\n",
    "        if c >= upper_bound: lbls.append(1)\n",
    "        elif c <= lower_bound: lbls.append(-1)\n",
    "    plt.plot(tf.values)\n",
    "    plt.plot(np.full(window, upper_bound))\n",
    "    plt.plot(np.full(window, lower_bound))\n",
    "    return lbls[0] if len(lbls) > 0 else 0"
   ]
  },
  {
   "cell_type": "code",
   "execution_count": 39,
   "metadata": {
    "execution": {
     "iopub.execute_input": "2020-10-17T21:14:08.774960Z",
     "iopub.status.busy": "2020-10-17T21:14:08.774960Z",
     "iopub.status.idle": "2020-10-17T21:14:08.894232Z",
     "shell.execute_reply": "2020-10-17T21:14:08.894232Z",
     "shell.execute_reply.started": "2020-10-17T21:14:08.774960Z"
    }
   },
   "outputs": [
    {
     "data": {
      "text/plain": [
       "1"
      ]
     },
     "execution_count": 39,
     "metadata": {},
     "output_type": "execute_result"
    },
    {
     "data": {
      "image/png": "[encoded data removed]",
      "text/plain": [
       "<Figure size 432x288 with 1 Axes>"
      ]
     },
     "metadata": {
      "needs_background": "light"
     },
     "output_type": "display_data"
    }
   ],
   "source": [
    "vol_label_show(5, df, 'close', window=4, threshold_u=2, threshold_l=0.4)"
   ]
  },
  {
   "cell_type": "code",
   "execution_count": 42,
   "metadata": {
    "execution": {
     "iopub.execute_input": "2020-10-17T21:15:33.593469Z",
     "iopub.status.busy": "2020-10-17T21:15:33.593469Z",
     "iopub.status.idle": "2020-10-17T21:15:33.597490Z",
     "shell.execute_reply": "2020-10-17T21:15:33.597490Z",
     "shell.execute_reply.started": "2020-10-17T21:15:33.593469Z"
    }
   },
   "outputs": [
    {
     "data": {
      "text/plain": [
       "20.000000000000018"
      ]
     },
     "execution_count": 42,
     "metadata": {},
     "output_type": "execute_result"
    }
   ],
   "source": [
    "(1.4740 - 1.4720) / 0.0001"
   ]
  },
  {
   "cell_type": "code",
   "execution_count": 45,
   "metadata": {
    "execution": {
     "iopub.execute_input": "2020-10-17T21:17:53.561479Z",
     "iopub.status.busy": "2020-10-17T21:17:53.561479Z",
     "iopub.status.idle": "2020-10-17T21:17:53.565468Z",
     "shell.execute_reply": "2020-10-17T21:17:53.565468Z",
     "shell.execute_reply.started": "2020-10-17T21:17:53.561479Z"
    }
   },
   "outputs": [],
   "source": [
    "def pip_calc(start_idx, df, y_col, window=4):\n",
    "    tf = df.iloc[start_idx:start_idx+window][y_col]\n",
    "    price_n = tf.iloc[0]\n",
    "    price_m = tf.iloc[-1]\n",
    "    pips = (price_m-price_n) / 0.0001\n",
    "    return pips"
   ]
  },
  {
   "cell_type": "code",
   "execution_count": 47,
   "metadata": {
    "execution": {
     "iopub.execute_input": "2020-10-17T21:18:10.681997Z",
     "iopub.status.busy": "2020-10-17T21:18:10.681997Z",
     "iopub.status.idle": "2020-10-17T21:18:10.686993Z",
     "shell.execute_reply": "2020-10-17T21:18:10.686993Z",
     "shell.execute_reply.started": "2020-10-17T21:18:10.681997Z"
    }
   },
   "outputs": [
    {
     "data": {
      "text/plain": [
       "21.500000000000963"
      ]
     },
     "execution_count": 47,
     "metadata": {},
     "output_type": "execute_result"
    }
   ],
   "source": [
    "pip_calc(5, df, 'close', window=4)"
   ]
  },
  {
   "cell_type": "code",
   "execution_count": 50,
   "metadata": {
    "execution": {
     "iopub.execute_input": "2020-10-17T21:40:50.191666Z",
     "iopub.status.busy": "2020-10-17T21:40:50.191666Z",
     "iopub.status.idle": "2020-10-17T21:40:50.197650Z",
     "shell.execute_reply": "2020-10-17T21:40:50.197650Z",
     "shell.execute_reply.started": "2020-10-17T21:40:50.191666Z"
    }
   },
   "outputs": [],
   "source": [
    "def vol_label_show(start_idx, df, y_col, window=4, sl_pips=20, tp_pips=40):\n",
    "    \"\"\"\n",
    "    args:\n",
    "    -----------------\n",
    "        stard_idx: <int> the start index should be the last idx of the time-sequence we are using as predicted features (independent vars).\n",
    "                   if our time-series is from [0,1,2,3,4] then our start_idx should be 5 so our prediction label will be: [5, ... ,window]\n",
    "                   therefore, the start_idx should be be the last_idx of our time-series window\n",
    "        \n",
    "        df:        <df> dataframe for predicting\n",
    "        \n",
    "        sl_pips & tp_pips: stop loss pips and take profit pips\n",
    "    \"\"\"\n",
    "    tf = df.iloc[start_idx:start_idx+window][y_col]\n",
    "    price_n = tf.iloc[0]\n",
    "    upper_bound = price_n + (0.0001 * tp_pips)\n",
    "    lower_bound = price_n - (0.0001 * sl_pips)\n",
    "    lbls = []\n",
    "    for c in tf.values:\n",
    "        if c >= upper_bound: lbls.append(1)\n",
    "        elif c <= lower_bound: lbls.append(-1)\n",
    "    plt.plot(tf.values)\n",
    "    plt.plot(np.full(window, upper_bound))\n",
    "    plt.plot(np.full(window, lower_bound))\n",
    "    return lbls[0] if len(lbls) > 0 else 0"
   ]
  },
  {
   "cell_type": "code",
   "execution_count": 143,
   "metadata": {
    "execution": {
     "iopub.execute_input": "2020-10-17T21:47:01.613649Z",
     "iopub.status.busy": "2020-10-17T21:47:01.612652Z",
     "iopub.status.idle": "2020-10-17T21:47:01.731368Z",
     "shell.execute_reply": "2020-10-17T21:47:01.731368Z",
     "shell.execute_reply.started": "2020-10-17T21:47:01.613649Z"
    }
   },
   "outputs": [
    {
     "data": {
      "text/plain": [
       "1"
      ]
     },
     "execution_count": 143,
     "metadata": {},
     "output_type": "execute_result"
    },
    {
     "data": {
      "image/png": "[encoded data removed]",
      "text/plain": [
       "<Figure size 432x288 with 1 Axes>"
      ]
     },
     "metadata": {
      "needs_background": "light"
     },
     "output_type": "display_data"
    }
   ],
   "source": [
    "vol_label_show(10373, df, 'close', window=12)"
   ]
  },
  {
   "cell_type": "code",
   "execution_count": 108,
   "metadata": {
    "execution": {
     "iopub.execute_input": "2020-10-17T21:44:49.213123Z",
     "iopub.status.busy": "2020-10-17T21:44:49.213123Z",
     "iopub.status.idle": "2020-10-17T21:44:49.407186Z",
     "shell.execute_reply": "2020-10-17T21:44:49.407186Z",
     "shell.execute_reply.started": "2020-10-17T21:44:49.213123Z"
    }
   },
   "outputs": [
    {
     "data": {
      "text/plain": [
       "<matplotlib.axes._subplots.AxesSubplot at 0x2408007bf28>"
      ]
     },
     "execution_count": 108,
     "metadata": {},
     "output_type": "execute_result"
    },
    {
     "data": {
      "image/png": "[encoded data removed]",
      "text/plain": [
       "<Figure size 432x288 with 1 Axes>"
      ]
     },
     "metadata": {
      "needs_background": "light"
     },
     "output_type": "display_data"
    }
   ],
   "source": [
    "df.iloc[10355:10500]['close'].plot()"
   ]
  },
  {
   "cell_type": "code",
   "execution_count": null,
   "metadata": {},
   "outputs": [],
   "source": []
  },
  {
   "cell_type": "code",
   "execution_count": null,
   "metadata": {},
   "outputs": [],
   "source": []
  },
  {
   "cell_type": "code",
   "execution_count": null,
   "metadata": {},
   "outputs": [],
   "source": []
  },
  {
   "cell_type": "code",
   "execution_count": null,
   "metadata": {},
   "outputs": [],
   "source": []
  },
  {
   "cell_type": "code",
   "execution_count": null,
   "metadata": {},
   "outputs": [],
   "source": []
  },
  {
   "cell_type": "code",
   "execution_count": null,
   "metadata": {},
   "outputs": [],
   "source": []
  },
  {
   "cell_type": "code",
   "execution_count": null,
   "metadata": {},
   "outputs": [],
   "source": []
  },
  {
   "cell_type": "code",
   "execution_count": null,
   "metadata": {},
   "outputs": [],
   "source": []
  },
  {
   "cell_type": "code",
   "execution_count": null,
   "metadata": {},
   "outputs": [],
   "source": []
  },
  {
   "cell_type": "code",
   "execution_count": null,
   "metadata": {},
   "outputs": [],
   "source": []
  },
  {
   "cell_type": "code",
   "execution_count": null,
   "metadata": {},
   "outputs": [],
   "source": []
  },
  {
   "cell_type": "code",
   "execution_count": null,
   "metadata": {},
   "outputs": [],
   "source": []
  },
  {
   "cell_type": "code",
   "execution_count": null,
   "metadata": {},
   "outputs": [],
   "source": []
  }
 ],
 "metadata": {
  "kernelspec": {
   "display_name": "Python 3",
   "language": "python",
   "name": "python3"
  },
  "language_info": {
   "codemirror_mode": {
    "name": "ipython",
    "version": 3
   },
   "file_extension": ".py",
   "mimetype": "text/x-python",
   "name": "python",
   "nbconvert_exporter": "python",
   "pygments_lexer": "ipython3",
   "version": "3.7.3"
  }
 },
 "nbformat": 4,
 "nbformat_minor": 4
}
