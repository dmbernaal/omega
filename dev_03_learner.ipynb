{
 "cells": [
  {
   "cell_type": "code",
   "execution_count": 35,
   "metadata": {
    "execution": {
     "iopub.execute_input": "2020-10-05T19:49:48.346725Z",
     "iopub.status.busy": "2020-10-05T19:49:48.345728Z",
     "iopub.status.idle": "2020-10-05T19:49:48.350714Z",
     "shell.execute_reply": "2020-10-05T19:49:48.350714Z",
     "shell.execute_reply.started": "2020-10-05T19:49:48.346725Z"
    }
   },
   "outputs": [],
   "source": [
    "import torch\n",
    "import torch.optim as optim\n",
    "import torch.nn as nn\n",
    "import torch.nn.functional as F\n",
    "from torch_lr_finder import LRFinder"
   ]
  },
  {
   "cell_type": "code",
   "execution_count": 36,
   "metadata": {
    "execution": {
     "iopub.execute_input": "2020-10-05T19:49:48.626978Z",
     "iopub.status.busy": "2020-10-05T19:49:48.626978Z",
     "iopub.status.idle": "2020-10-05T19:49:48.630965Z",
     "shell.execute_reply": "2020-10-05T19:49:48.630965Z",
     "shell.execute_reply.started": "2020-10-05T19:49:48.626978Z"
    }
   },
   "outputs": [],
   "source": [
    "from nb.models import mininest_ba, mininest_bn, mininet, xmininet, xsemininet\n",
    "from nb.databunch import DataBunch"
   ]
  },
  {
   "cell_type": "code",
   "execution_count": 37,
   "metadata": {
    "execution": {
     "iopub.execute_input": "2020-10-05T19:49:48.788058Z",
     "iopub.status.busy": "2020-10-05T19:49:48.787060Z",
     "iopub.status.idle": "2020-10-05T19:49:48.791049Z",
     "shell.execute_reply": "2020-10-05T19:49:48.791049Z",
     "shell.execute_reply.started": "2020-10-05T19:49:48.788058Z"
    }
   },
   "outputs": [],
   "source": [
    "import pandas as pd\n",
    "import math\n",
    "import numpy as np\n",
    "from pathlib import Path"
   ]
  },
  {
   "cell_type": "markdown",
   "metadata": {},
   "source": [
    "### Loading Data"
   ]
  },
  {
   "cell_type": "code",
   "execution_count": 4,
   "metadata": {
    "execution": {
     "iopub.execute_input": "2020-10-05T19:14:44.291038Z",
     "iopub.status.busy": "2020-10-05T19:14:44.290040Z",
     "iopub.status.idle": "2020-10-05T19:15:51.363833Z",
     "shell.execute_reply": "2020-10-05T19:15:51.363833Z",
     "shell.execute_reply.started": "2020-10-05T19:14:44.291038Z"
    }
   },
   "outputs": [
    {
     "name": "stderr",
     "output_type": "stream",
     "text": [
      "C:\\Users\\dmber\\Anaconda3\\lib\\site-packages\\ta\\trend.py:608: RuntimeWarning: invalid value encountered in double_scalars\n",
      "  dip[i] = 100 * (self._dip[i]/self._trs[i])\n",
      "C:\\Users\\dmber\\Anaconda3\\lib\\site-packages\\ta\\trend.py:612: RuntimeWarning: invalid value encountered in double_scalars\n",
      "  din[i] = 100 * (self._din[i]/self._trs[i])\n",
      "C:\\Users\\dmber\\Anaconda3\\lib\\site-packages\\ta\\trend.py:608: RuntimeWarning: invalid value encountered in double_scalars\n",
      "  dip[i] = 100 * (self._dip[i]/self._trs[i])\n",
      "C:\\Users\\dmber\\Anaconda3\\lib\\site-packages\\ta\\trend.py:612: RuntimeWarning: invalid value encountered in double_scalars\n",
      "  din[i] = 100 * (self._din[i]/self._trs[i])\n"
     ]
    }
   ],
   "source": [
    "def load_data(root=None, remove=None, headers=None):\n",
    "    data = Path('./OmegaDev/Model_Z/raw_data/GBP_USD_H1_2016-01-01_2018-01-01.csv') if root is None else Path(root)\n",
    "    headers = ['date', 'complete', 'open', 'high', 'low', 'close', 'volume'] if headers is None else headers\n",
    "    df = pd.read_csv(data, header=None, names=headers)\n",
    "    return df\n",
    "\n",
    "# loading our dataframe\n",
    "df = load_data()\n",
    "\n",
    "# TAs to remove -> memory constraint\n",
    "ta_to_remove = ['others_dr', 'others_dlr', 'others_cr', 'momentum_rsi', 'momentum_tsi', 'momentum_uo', 'momentum_stoch', 'momentum_stoch_signal', 'momentum_wr', 'momentum_ao', 'momentum_kama', 'momentum_roc', 'trend_visual_ichimoku_a', 'trend_visual_ichimoku_b', 'trend_psar_up_indicator', 'trend_psar_down_indicator', 'trend_aroon_down', 'trend_aroon_ind', 'trend_aroon_up']\n",
    "\n",
    "# loading data object\n",
    "data = (DataBunch(df=df,\n",
    "                  pct=0.2,\n",
    "                  window=24,\n",
    "                  lbl_window=4,\n",
    "                  gaxf_type='gasf',\n",
    "                  ta_to_remove=ta_to_remove)\n",
    "       .bunch(bs=8))"
   ]
  },
  {
   "cell_type": "markdown",
   "metadata": {},
   "source": [
    "## Learner"
   ]
  },
  {
   "cell_type": "code",
   "execution_count": null,
   "metadata": {},
   "outputs": [],
   "source": [
    "def accuracy(out, yb):\n",
    "    preds = torch.softmax(out,1).argmax(1)\n",
    "    ground_truth = yb\n",
    "    correct = (ground_truth==preds).sum().item()\n",
    "    return correct"
   ]
  },
  {
   "cell_type": "code",
   "execution_count": 32,
   "metadata": {
    "execution": {
     "iopub.execute_input": "2020-10-05T19:26:38.402052Z",
     "iopub.status.busy": "2020-10-05T19:26:38.402052Z",
     "iopub.status.idle": "2020-10-05T19:26:38.408036Z",
     "shell.execute_reply": "2020-10-05T19:26:38.407039Z",
     "shell.execute_reply.started": "2020-10-05T19:26:38.402052Z"
    }
   },
   "outputs": [],
   "source": [
    "def model_config(data):\n",
    "    xb,_ = next(iter(data.train_dl))\n",
    "    c_in = xb.shape[1]\n",
    "    num_classes = len(np.unique(data.train_ds.y[:,0]))\n",
    "    return c_in, num_classes"
   ]
  },
  {
   "cell_type": "code",
   "execution_count": 34,
   "metadata": {
    "execution": {
     "iopub.execute_input": "2020-10-05T19:34:19.824206Z",
     "iopub.status.busy": "2020-10-05T19:34:19.824206Z",
     "iopub.status.idle": "2020-10-05T19:34:19.828203Z",
     "shell.execute_reply": "2020-10-05T19:34:19.828203Z",
     "shell.execute_reply.started": "2020-10-05T19:34:19.824206Z"
    }
   },
   "outputs": [],
   "source": [
    "def update_lr(optimizer, lr):\n",
    "    for pg in optimizer.param_groups:\n",
    "        pg['lr'] = lr\n",
    "        \n",
    "def update_optimizer(optimizer, **params):\n",
    "    for p in params:\n",
    "        for pg in optimizer.param_groups:\n",
    "            pg[p] = params[p]\n",
    "        \n",
    "def get_lr(optimizer):\n",
    "    for pg in optimizer.param_groups: return pg['lr']"
   ]
  },
  {
   "cell_type": "code",
   "execution_count": 39,
   "metadata": {
    "execution": {
     "iopub.execute_input": "2020-10-05T20:00:31.844355Z",
     "iopub.status.busy": "2020-10-05T20:00:31.844355Z",
     "iopub.status.idle": "2020-10-05T20:00:31.855326Z",
     "shell.execute_reply": "2020-10-05T20:00:31.855326Z",
     "shell.execute_reply.started": "2020-10-05T20:00:31.844355Z"
    }
   },
   "outputs": [],
   "source": [
    "class Learner:\n",
    "    def __init__(self, data, model, opt_fn=None, loss_fn=None, metrics=None, lr=None, wd=None, device='cuda:0', **kwargs):\n",
    "        self.data, self.model = data, model\n",
    "        self.lr = 1e-4 if lr is None else lr\n",
    "        self.wd = 0. if wd is None else wd\n",
    "        self.opt_fn = optim.Adam(model.parameters(), lr=self.lr, weight_decay=self.wd, **kwargs) if opt_fn is None else opt_fn\n",
    "        self.loss_fn = nn.CrossEntropyLoss() if loss_fn is None else loss_fn\n",
    "        self.metric_fn = accuracy if metrics is None else metrics\n",
    "        self.device = torch.device(device)\n",
    "        \n",
    "    def save_model(self, path2save): torch.save(self.model.state_dict(), str(path2save))\n",
    "    def load_model(self, path2weights): self.model.load_state_dict(torch.load(path2weights))\n",
    "    def lr_finder(self, end_lr=100, num_iter=100):\n",
    "        lr_finder = LRFinder(self.model, self.opt_fn, self.loss_fn, device=self.device)\n",
    "        lr_finder.range_test(self.data.train_dl, end_lr=end_lr, num_iter=num_iter)\n",
    "        lr_finder.plot()\n",
    "        lr_finder.reset()\n",
    "        \n",
    "    def update_lr(self, lr): update_lr(self.opt_fn, lr)\n",
    "        \n",
    "    def update_opt(self, **params): update_optimizer(self.opt_fn, **parms)\n",
    "    \n",
    "    def freeze(self, m=None):\n",
    "        \"\"\"\n",
    "        TODO: change up model topology to be cosistant with: stem | body | head\n",
    "        This will allow for us to freeze individual parts or comb of parts instead of freezing the entire model\n",
    "        \"\"\"\n",
    "        m = self.model if m is None else m\n",
    "        for pg in m.parameters():\n",
    "            pg.requires_grad_(False)\n",
    "            \n",
    "    def unfreeze(self, m=None):\n",
    "        \"\"\"\n",
    "        TODO: same as above\n",
    "        \"\"\"\n",
    "        m = self.model if m is None else m\n",
    "        for pg in m.parameters():\n",
    "            pg.requires_grad_(True)\n",
    "            \n",
    "    def predict(self, x, confidence=0.5):\n",
    "        \"\"\"TODO: build predict\"\"\"\n",
    "        pass\n",
    "    \n",
    "    def show_results(self, ds_type='valid', nrows=5, **kwargs):\n",
    "        \"\"\"\n",
    "        TODO: Build show results.\n",
    "        \n",
    "        This method should grab a time window plot via price trend with upper/lower bound, ground truth and predicted labels. \n",
    "        \"\"\"\n",
    "        pass"
   ]
  },
  {
   "cell_type": "code",
   "execution_count": null,
   "metadata": {},
   "outputs": [],
   "source": []
  },
  {
   "cell_type": "code",
   "execution_count": null,
   "metadata": {},
   "outputs": [],
   "source": []
  },
  {
   "cell_type": "code",
   "execution_count": null,
   "metadata": {},
   "outputs": [],
   "source": []
  },
  {
   "cell_type": "code",
   "execution_count": null,
   "metadata": {},
   "outputs": [],
   "source": []
  },
  {
   "cell_type": "code",
   "execution_count": null,
   "metadata": {},
   "outputs": [],
   "source": []
  },
  {
   "cell_type": "code",
   "execution_count": null,
   "metadata": {},
   "outputs": [],
   "source": []
  },
  {
   "cell_type": "code",
   "execution_count": null,
   "metadata": {},
   "outputs": [],
   "source": []
  },
  {
   "cell_type": "code",
   "execution_count": null,
   "metadata": {},
   "outputs": [],
   "source": []
  },
  {
   "cell_type": "code",
   "execution_count": null,
   "metadata": {},
   "outputs": [],
   "source": []
  },
  {
   "cell_type": "code",
   "execution_count": null,
   "metadata": {},
   "outputs": [],
   "source": []
  },
  {
   "cell_type": "code",
   "execution_count": null,
   "metadata": {},
   "outputs": [],
   "source": []
  },
  {
   "cell_type": "code",
   "execution_count": null,
   "metadata": {},
   "outputs": [],
   "source": []
  },
  {
   "cell_type": "code",
   "execution_count": null,
   "metadata": {},
   "outputs": [],
   "source": []
  }
 ],
 "metadata": {
  "kernelspec": {
   "display_name": "Python 3",
   "language": "python",
   "name": "python3"
  },
  "language_info": {
   "codemirror_mode": {
    "name": "ipython",
    "version": 3
   },
   "file_extension": ".py",
   "mimetype": "text/x-python",
   "name": "python",
   "nbconvert_exporter": "python",
   "pygments_lexer": "ipython3",
   "version": "3.7.3"
  }
 },
 "nbformat": 4,
 "nbformat_minor": 4
}
